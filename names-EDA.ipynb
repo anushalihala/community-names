{
 "cells": [
  {
   "cell_type": "code",
   "execution_count": 1,
   "metadata": {},
   "outputs": [],
   "source": [
    "import numpy as np\n",
    "import pandas as pd\n",
    "import matplotlib.pyplot as plt\n",
    "import seaborn as sns"
   ]
  },
  {
   "cell_type": "code",
   "execution_count": 2,
   "metadata": {},
   "outputs": [],
   "source": [
    "from nltk.probability import FreqDist"
   ]
  },
  {
   "cell_type": "code",
   "execution_count": 3,
   "metadata": {},
   "outputs": [],
   "source": [
    "RANDOM_STATE=0"
   ]
  },
  {
   "cell_type": "code",
   "execution_count": 4,
   "metadata": {},
   "outputs": [],
   "source": [
    "df = pd.read_csv('15000_demoscrape.csv', index_col=0)"
   ]
  },
  {
   "cell_type": "code",
   "execution_count": 5,
   "metadata": {},
   "outputs": [
    {
     "data": {
      "text/html": [
       "<div>\n",
       "<style scoped>\n",
       "    .dataframe tbody tr th:only-of-type {\n",
       "        vertical-align: middle;\n",
       "    }\n",
       "\n",
       "    .dataframe tbody tr th {\n",
       "        vertical-align: top;\n",
       "    }\n",
       "\n",
       "    .dataframe thead th {\n",
       "        text-align: right;\n",
       "    }\n",
       "</style>\n",
       "<table border=\"1\" class=\"dataframe\">\n",
       "  <thead>\n",
       "    <tr style=\"text-align: right;\">\n",
       "      <th></th>\n",
       "      <th>Name</th>\n",
       "      <th>Surname</th>\n",
       "      <th>Community</th>\n",
       "    </tr>\n",
       "  </thead>\n",
       "  <tbody>\n",
       "    <tr>\n",
       "      <th>0</th>\n",
       "      <td>yogita</td>\n",
       "      <td>singh</td>\n",
       "      <td>punjabi</td>\n",
       "    </tr>\n",
       "    <tr>\n",
       "      <th>1</th>\n",
       "      <td>dibyendu</td>\n",
       "      <td>ghosh</td>\n",
       "      <td>bengali</td>\n",
       "    </tr>\n",
       "    <tr>\n",
       "      <th>2</th>\n",
       "      <td>veeramony</td>\n",
       "      <td>ramachandran</td>\n",
       "      <td>tamil</td>\n",
       "    </tr>\n",
       "    <tr>\n",
       "      <th>3</th>\n",
       "      <td>amlan</td>\n",
       "      <td>datta</td>\n",
       "      <td>bengali</td>\n",
       "    </tr>\n",
       "    <tr>\n",
       "      <th>4</th>\n",
       "      <td>susmita</td>\n",
       "      <td>poddar</td>\n",
       "      <td>bengali</td>\n",
       "    </tr>\n",
       "  </tbody>\n",
       "</table>\n",
       "</div>"
      ],
      "text/plain": [
       "        Name       Surname Community\n",
       "0     yogita         singh   punjabi\n",
       "1   dibyendu         ghosh   bengali\n",
       "2  veeramony  ramachandran     tamil\n",
       "3      amlan         datta   bengali\n",
       "4    susmita        poddar   bengali"
      ]
     },
     "execution_count": 5,
     "metadata": {},
     "output_type": "execute_result"
    }
   ],
   "source": [
    "df.head()"
   ]
  },
  {
   "cell_type": "code",
   "execution_count": 6,
   "metadata": {},
   "outputs": [
    {
     "name": "stdout",
     "output_type": "stream",
     "text": [
      "<class 'pandas.core.frame.DataFrame'>\n",
      "Int64Index: 14999 entries, 0 to 14998\n",
      "Data columns (total 3 columns):\n",
      "Name         14999 non-null object\n",
      "Surname      14999 non-null object\n",
      "Community    14999 non-null object\n",
      "dtypes: object(3)\n",
      "memory usage: 468.7+ KB\n"
     ]
    }
   ],
   "source": [
    "df.info()"
   ]
  },
  {
   "cell_type": "markdown",
   "metadata": {},
   "source": [
    "# Visualisations"
   ]
  },
  {
   "cell_type": "markdown",
   "metadata": {},
   "source": [
    "Looking at first names"
   ]
  },
  {
   "cell_type": "code",
   "execution_count": 7,
   "metadata": {},
   "outputs": [
    {
     "data": {
      "text/plain": [
       "rajesh         121\n",
       "ashok           84\n",
       "vijay           78\n",
       "amit            77\n",
       "abhishek        76\n",
       "sandeep         74\n",
       "sanjay          69\n",
       "santosh         64\n",
       "suresh          63\n",
       "priyanka        61\n",
       "mohammed        60\n",
       "mukesh          60\n",
       "vinod           58\n",
       "pradeep         58\n",
       "rajeev          57\n",
       "nitin           57\n",
       "ajay            56\n",
       "mohd            55\n",
       "vikas           55\n",
       "ravi            54\n",
       "prakash         52\n",
       "vishal          51\n",
       "manoj           50\n",
       "suman           48\n",
       "mahesh          48\n",
       "rohit           47\n",
       "rajiv           44\n",
       "ashish          42\n",
       "anil            39\n",
       "rekha           39\n",
       "              ... \n",
       "baidyanath       1\n",
       "subhresh         1\n",
       "deepen           1\n",
       "kanya            1\n",
       "ramavtar         1\n",
       "janki            1\n",
       "mit              1\n",
       "christopher      1\n",
       "apollo           1\n",
       "sivaraman        1\n",
       "maulik           1\n",
       "sibith           1\n",
       "teji             1\n",
       "stayam           1\n",
       "r.k.             1\n",
       "saagar           1\n",
       "mandira          1\n",
       "raka             1\n",
       "swastik          1\n",
       "gaggan           1\n",
       "raghwendra       1\n",
       "safeeza          1\n",
       "udayanath        1\n",
       "avimanyu         1\n",
       "kiron            1\n",
       "mitul            1\n",
       "bore             1\n",
       "tandrima         1\n",
       "avinanda         1\n",
       "sachikant        1\n",
       "Name: Name, Length: 5222, dtype: int64"
      ]
     },
     "execution_count": 7,
     "metadata": {},
     "output_type": "execute_result"
    }
   ],
   "source": [
    "df['Name'].value_counts()"
   ]
  },
  {
   "cell_type": "code",
   "execution_count": 23,
   "metadata": {},
   "outputs": [
    {
     "data": {
      "text/plain": [
       "<matplotlib.axes._subplots.AxesSubplot at 0x1304affca90>"
      ]
     },
     "execution_count": 23,
     "metadata": {},
     "output_type": "execute_result"
    },
    {
     "data": {
      "image/png": "[encoded data removed]",
      "text/plain": [
       "<matplotlib.figure.Figure at 0x1304afa2048>"
      ]
     },
     "metadata": {},
     "output_type": "display_data"
    }
   ],
   "source": [
    "df['Name'].value_counts().plot() #how common are some names vs others"
   ]
  },
  {
   "cell_type": "code",
   "execution_count": 69,
   "metadata": {},
   "outputs": [],
   "source": [
    "fd_names = FreqDist(df['Name'])"
   ]
  },
  {
   "cell_type": "code",
   "execution_count": 68,
   "metadata": {},
   "outputs": [
    {
     "data": {
      "image/png": "[encoded data removed]",
      "text/plain": [
       "<matplotlib.figure.Figure at 0x1304e08f898>"
      ]
     },
     "metadata": {},
     "output_type": "display_data"
    }
   ],
   "source": [
    "fd_names.plot(20) #20 most common names"
   ]
  },
  {
   "cell_type": "markdown",
   "metadata": {},
   "source": [
    "Looking at surnames"
   ]
  },
  {
   "cell_type": "code",
   "execution_count": 24,
   "metadata": {},
   "outputs": [
    {
     "data": {
      "text/plain": [
       "singh          1393\n",
       "jain            412\n",
       "das             270\n",
       "patel           232\n",
       "shah            207\n",
       "kumar           183\n",
       "verma           183\n",
       "mishra          150\n",
       "ghosh           148\n",
       "gupta           137\n",
       "arora           128\n",
       "sharma          126\n",
       "srivastava      125\n",
       "roy             124\n",
       "shaikh          108\n",
       "saha            105\n",
       "tiwari          102\n",
       "pandey           99\n",
       "nair             99\n",
       "rao              93\n",
       "yadav            90\n",
       "saxena           84\n",
       "mukherjee        83\n",
       "kumari           83\n",
       "sinha            80\n",
       "jaiswal          78\n",
       "agarwal          78\n",
       "prakash          77\n",
       "agrawal          77\n",
       "khan             74\n",
       "               ... \n",
       "de.               1\n",
       "chawbey           1\n",
       "keshwani          1\n",
       "dhaliwal          1\n",
       "baghel            1\n",
       "singania          1\n",
       "balani            1\n",
       "rafi              1\n",
       "dasari            1\n",
       "sultania          1\n",
       "maji              1\n",
       "bhoite            1\n",
       "shhu              1\n",
       "jamadar           1\n",
       "sain              1\n",
       "ranju             1\n",
       "azhar             1\n",
       "choudhaury        1\n",
       "ramiah            1\n",
       "christian         1\n",
       "bit               1\n",
       "nayek             1\n",
       "nandhakumar       1\n",
       "shahu             1\n",
       "karole            1\n",
       "bhardwat          1\n",
       "kapila            1\n",
       "naveen            1\n",
       "parashar          1\n",
       "avlani            1\n",
       "Name: Surname, Length: 2736, dtype: int64"
      ]
     },
     "execution_count": 24,
     "metadata": {},
     "output_type": "execute_result"
    }
   ],
   "source": [
    "df['Surname'].value_counts()"
   ]
  },
  {
   "cell_type": "code",
   "execution_count": 31,
   "metadata": {},
   "outputs": [
    {
     "data": {
      "text/plain": [
       "<matplotlib.axes._subplots.AxesSubplot at 0x1304b2a4358>"
      ]
     },
     "execution_count": 31,
     "metadata": {},
     "output_type": "execute_result"
    },
    {
     "data": {
      "image/png": "[encoded data removed]",
      "text/plain": [
       "<matplotlib.figure.Figure at 0x1304b2bb9e8>"
      ]
     },
     "metadata": {},
     "output_type": "display_data"
    }
   ],
   "source": [
    "df['Surname'].value_counts().plot() #how common are some surnames vs others"
   ]
  },
  {
   "cell_type": "code",
   "execution_count": 70,
   "metadata": {},
   "outputs": [],
   "source": [
    "fd_surnames = FreqDist(df['Surname'])"
   ]
  },
  {
   "cell_type": "code",
   "execution_count": 71,
   "metadata": {},
   "outputs": [
    {
     "data": {
      "image/png": "[encoded data removed]",
      "text/plain": [
       "<matplotlib.figure.Figure at 0x13050093780>"
      ]
     },
     "metadata": {},
     "output_type": "display_data"
    }
   ],
   "source": [
    "fd_surnames.plot(20) #20 most common surnames"
   ]
  },
  {
   "cell_type": "markdown",
   "metadata": {},
   "source": [
    "Distribution of community in data"
   ]
  },
  {
   "cell_type": "code",
   "execution_count": 35,
   "metadata": {},
   "outputs": [
    {
     "data": {
      "text/plain": [
       "hindi        2935\n",
       "punjabi      2208\n",
       "bengali      2073\n",
       "telugu       1770\n",
       "gujarati     1760\n",
       "marwari       674\n",
       "oriya         672\n",
       "tamil         661\n",
       "marathi       545\n",
       "urdu          446\n",
       "malayalam     364\n",
       "kannada       358\n",
       "english       302\n",
       "sindhi        131\n",
       "assamese       30\n",
       "konkani        26\n",
       "nepali         13\n",
       "kumaoni        10\n",
       "garhwali        6\n",
       "haryanavi       6\n",
       "tulu            4\n",
       "kashmiri        2\n",
       "pashto          1\n",
       "persian         1\n",
       "mizo            1\n",
       "Name: Community, dtype: int64"
      ]
     },
     "execution_count": 35,
     "metadata": {},
     "output_type": "execute_result"
    }
   ],
   "source": [
    "df['Community'].value_counts()"
   ]
  },
  {
   "cell_type": "code",
   "execution_count": 36,
   "metadata": {},
   "outputs": [
    {
     "data": {
      "text/plain": [
       "<matplotlib.axes._subplots.AxesSubplot at 0x1304b427940>"
      ]
     },
     "execution_count": 36,
     "metadata": {},
     "output_type": "execute_result"
    },
    {
     "data": {
      "image/png": "[encoded data removed]",
      "text/plain": [
       "<matplotlib.figure.Figure at 0x1304b3299b0>"
      ]
     },
     "metadata": {},
     "output_type": "display_data"
    }
   ],
   "source": [
    "df['Community'].value_counts().plot()"
   ]
  },
  {
   "cell_type": "markdown",
   "metadata": {},
   "source": [
    ":D"
   ]
  },
  {
   "cell_type": "code",
   "execution_count": 30,
   "metadata": {},
   "outputs": [
    {
     "data": {
      "text/html": [
       "<div>\n",
       "<style scoped>\n",
       "    .dataframe tbody tr th:only-of-type {\n",
       "        vertical-align: middle;\n",
       "    }\n",
       "\n",
       "    .dataframe tbody tr th {\n",
       "        vertical-align: top;\n",
       "    }\n",
       "\n",
       "    .dataframe thead th {\n",
       "        text-align: right;\n",
       "    }\n",
       "</style>\n",
       "<table border=\"1\" class=\"dataframe\">\n",
       "  <thead>\n",
       "    <tr style=\"text-align: right;\">\n",
       "      <th></th>\n",
       "      <th>Name</th>\n",
       "      <th>Surname</th>\n",
       "      <th>Community</th>\n",
       "    </tr>\n",
       "  </thead>\n",
       "  <tbody>\n",
       "    <tr>\n",
       "      <th>1506</th>\n",
       "      <td>anusha</td>\n",
       "      <td>venkat</td>\n",
       "      <td>tamil</td>\n",
       "    </tr>\n",
       "    <tr>\n",
       "      <th>13809</th>\n",
       "      <td>anusha</td>\n",
       "      <td>nama</td>\n",
       "      <td>tamil</td>\n",
       "    </tr>\n",
       "  </tbody>\n",
       "</table>\n",
       "</div>"
      ],
      "text/plain": [
       "         Name Surname Community\n",
       "1506   anusha  venkat     tamil\n",
       "13809  anusha    nama     tamil"
      ]
     },
     "execution_count": 30,
     "metadata": {},
     "output_type": "execute_result"
    }
   ],
   "source": [
    "df[df.Name=='anusha']"
   ]
  },
  {
   "cell_type": "code",
   "execution_count": 28,
   "metadata": {
    "scrolled": true
   },
   "outputs": [
    {
     "data": {
      "text/html": [
       "<div>\n",
       "<style scoped>\n",
       "    .dataframe tbody tr th:only-of-type {\n",
       "        vertical-align: middle;\n",
       "    }\n",
       "\n",
       "    .dataframe tbody tr th {\n",
       "        vertical-align: top;\n",
       "    }\n",
       "\n",
       "    .dataframe thead th {\n",
       "        text-align: right;\n",
       "    }\n",
       "</style>\n",
       "<table border=\"1\" class=\"dataframe\">\n",
       "  <thead>\n",
       "    <tr style=\"text-align: right;\">\n",
       "      <th></th>\n",
       "      <th>Name</th>\n",
       "      <th>Surname</th>\n",
       "      <th>Community</th>\n",
       "    </tr>\n",
       "  </thead>\n",
       "  <tbody>\n",
       "  </tbody>\n",
       "</table>\n",
       "</div>"
      ],
      "text/plain": [
       "Empty DataFrame\n",
       "Columns: [Name, Surname, Community]\n",
       "Index: []"
      ]
     },
     "execution_count": 28,
     "metadata": {},
     "output_type": "execute_result"
    }
   ],
   "source": [
    "df[df.Surname=='lihala']"
   ]
  },
  {
   "cell_type": "markdown",
   "metadata": {},
   "source": [
    "# Data Cleaning"
   ]
  },
  {
   "cell_type": "markdown",
   "metadata": {},
   "source": [
    "Filtering out names that have non alphabetic characters or are less than 3 characters long"
   ]
  },
  {
   "cell_type": "code",
   "execution_count": 20,
   "metadata": {},
   "outputs": [],
   "source": [
    "def valid_name(name):\n",
    "    valid_chars=\"abcdefghijklmnopqrstuvwxyz\"\n",
    "    if(len(name)<=2):\n",
    "        return False\n",
    "    for ch in name:\n",
    "        if ch not in valid_chars:\n",
    "            return False\n",
    "    return True"
   ]
  },
  {
   "cell_type": "code",
   "execution_count": 21,
   "metadata": {},
   "outputs": [],
   "source": [
    "firstnames_mask = df['Name'].apply(valid_name)"
   ]
  },
  {
   "cell_type": "code",
   "execution_count": 16,
   "metadata": {},
   "outputs": [
    {
     "data": {
      "text/html": [
       "<div>\n",
       "<style scoped>\n",
       "    .dataframe tbody tr th:only-of-type {\n",
       "        vertical-align: middle;\n",
       "    }\n",
       "\n",
       "    .dataframe tbody tr th {\n",
       "        vertical-align: top;\n",
       "    }\n",
       "\n",
       "    .dataframe thead th {\n",
       "        text-align: right;\n",
       "    }\n",
       "</style>\n",
       "<table border=\"1\" class=\"dataframe\">\n",
       "  <thead>\n",
       "    <tr style=\"text-align: right;\">\n",
       "      <th></th>\n",
       "      <th>Name</th>\n",
       "      <th>Surname</th>\n",
       "      <th>Community</th>\n",
       "    </tr>\n",
       "  </thead>\n",
       "  <tbody>\n",
       "    <tr>\n",
       "      <th>25</th>\n",
       "      <td>m</td>\n",
       "      <td>mouli</td>\n",
       "      <td>telugu</td>\n",
       "    </tr>\n",
       "    <tr>\n",
       "      <th>125</th>\n",
       "      <td>b</td>\n",
       "      <td>rao</td>\n",
       "      <td>kannada</td>\n",
       "    </tr>\n",
       "    <tr>\n",
       "      <th>160</th>\n",
       "      <td>k</td>\n",
       "      <td>panda</td>\n",
       "      <td>oriya</td>\n",
       "    </tr>\n",
       "    <tr>\n",
       "      <th>191</th>\n",
       "      <td>md</td>\n",
       "      <td>alam</td>\n",
       "      <td>bengali</td>\n",
       "    </tr>\n",
       "    <tr>\n",
       "      <th>198</th>\n",
       "      <td>sujan.</td>\n",
       "      <td>dutta</td>\n",
       "      <td>bengali</td>\n",
       "    </tr>\n",
       "    <tr>\n",
       "      <th>230</th>\n",
       "      <td>rk</td>\n",
       "      <td>mishra</td>\n",
       "      <td>marwari</td>\n",
       "    </tr>\n",
       "    <tr>\n",
       "      <th>250</th>\n",
       "      <td>gp</td>\n",
       "      <td>mishra</td>\n",
       "      <td>marwari</td>\n",
       "    </tr>\n",
       "    <tr>\n",
       "      <th>254</th>\n",
       "      <td>a</td>\n",
       "      <td>.</td>\n",
       "      <td>tamil</td>\n",
       "    </tr>\n",
       "    <tr>\n",
       "      <th>285</th>\n",
       "      <td>j</td>\n",
       "      <td>singh</td>\n",
       "      <td>punjabi</td>\n",
       "    </tr>\n",
       "    <tr>\n",
       "      <th>527</th>\n",
       "      <td>km</td>\n",
       "      <td>khader</td>\n",
       "      <td>hindi</td>\n",
       "    </tr>\n",
       "    <tr>\n",
       "      <th>780</th>\n",
       "      <td>dr</td>\n",
       "      <td>gupta</td>\n",
       "      <td>bengali</td>\n",
       "    </tr>\n",
       "    <tr>\n",
       "      <th>915</th>\n",
       "      <td>mr</td>\n",
       "      <td>sandeep</td>\n",
       "      <td>telugu</td>\n",
       "    </tr>\n",
       "    <tr>\n",
       "      <th>935</th>\n",
       "      <td>bv.</td>\n",
       "      <td>chandra</td>\n",
       "      <td>marwari</td>\n",
       "    </tr>\n",
       "    <tr>\n",
       "      <th>982</th>\n",
       "      <td>dr.nikita</td>\n",
       "      <td>singh</td>\n",
       "      <td>punjabi</td>\n",
       "    </tr>\n",
       "    <tr>\n",
       "      <th>991</th>\n",
       "      <td>m</td>\n",
       "      <td>rizvi</td>\n",
       "      <td>bengali</td>\n",
       "    </tr>\n",
       "    <tr>\n",
       "      <th>1182</th>\n",
       "      <td>o</td>\n",
       "      <td>prakash</td>\n",
       "      <td>kannada</td>\n",
       "    </tr>\n",
       "    <tr>\n",
       "      <th>1221</th>\n",
       "      <td>md</td>\n",
       "      <td>ali</td>\n",
       "      <td>bengali</td>\n",
       "    </tr>\n",
       "    <tr>\n",
       "      <th>1299</th>\n",
       "      <td>ks</td>\n",
       "      <td>prakash</td>\n",
       "      <td>telugu</td>\n",
       "    </tr>\n",
       "    <tr>\n",
       "      <th>1313</th>\n",
       "      <td>md</td>\n",
       "      <td>pasha</td>\n",
       "      <td>urdu</td>\n",
       "    </tr>\n",
       "    <tr>\n",
       "      <th>1334</th>\n",
       "      <td>mr.a</td>\n",
       "      <td>raja</td>\n",
       "      <td>telugu</td>\n",
       "    </tr>\n",
       "    <tr>\n",
       "      <th>1335</th>\n",
       "      <td>ma</td>\n",
       "      <td>xiaohua</td>\n",
       "      <td>marathi</td>\n",
       "    </tr>\n",
       "    <tr>\n",
       "      <th>1361</th>\n",
       "      <td>dr</td>\n",
       "      <td>bhatia</td>\n",
       "      <td>sindhi</td>\n",
       "    </tr>\n",
       "    <tr>\n",
       "      <th>1749</th>\n",
       "      <td>om</td>\n",
       "      <td>chabadia</td>\n",
       "      <td>tamil</td>\n",
       "    </tr>\n",
       "    <tr>\n",
       "      <th>1821</th>\n",
       "      <td>v</td>\n",
       "      <td>venugopal</td>\n",
       "      <td>kannada</td>\n",
       "    </tr>\n",
       "    <tr>\n",
       "      <th>1833</th>\n",
       "      <td>md.</td>\n",
       "      <td>akram</td>\n",
       "      <td>urdu</td>\n",
       "    </tr>\n",
       "    <tr>\n",
       "      <th>2118</th>\n",
       "      <td>r.p.</td>\n",
       "      <td>singh</td>\n",
       "      <td>punjabi</td>\n",
       "    </tr>\n",
       "    <tr>\n",
       "      <th>2211</th>\n",
       "      <td>md</td>\n",
       "      <td>ali</td>\n",
       "      <td>bengali</td>\n",
       "    </tr>\n",
       "    <tr>\n",
       "      <th>2266</th>\n",
       "      <td>a</td>\n",
       "      <td>azeem</td>\n",
       "      <td>urdu</td>\n",
       "    </tr>\n",
       "    <tr>\n",
       "      <th>2362</th>\n",
       "      <td>md</td>\n",
       "      <td>alam</td>\n",
       "      <td>bengali</td>\n",
       "    </tr>\n",
       "    <tr>\n",
       "      <th>2403</th>\n",
       "      <td>b</td>\n",
       "      <td>banerjee</td>\n",
       "      <td>bengali</td>\n",
       "    </tr>\n",
       "    <tr>\n",
       "      <th>...</th>\n",
       "      <td>...</td>\n",
       "      <td>...</td>\n",
       "      <td>...</td>\n",
       "    </tr>\n",
       "    <tr>\n",
       "      <th>12726</th>\n",
       "      <td>c</td>\n",
       "      <td>karthikeyan</td>\n",
       "      <td>tamil</td>\n",
       "    </tr>\n",
       "    <tr>\n",
       "      <th>12740</th>\n",
       "      <td>ak</td>\n",
       "      <td>ganapathy</td>\n",
       "      <td>tamil</td>\n",
       "    </tr>\n",
       "    <tr>\n",
       "      <th>12896</th>\n",
       "      <td>a.kalyana</td>\n",
       "      <td>sundaram</td>\n",
       "      <td>tamil</td>\n",
       "    </tr>\n",
       "    <tr>\n",
       "      <th>12917</th>\n",
       "      <td>s</td>\n",
       "      <td>mansoor</td>\n",
       "      <td>urdu</td>\n",
       "    </tr>\n",
       "    <tr>\n",
       "      <th>12955</th>\n",
       "      <td>n</td>\n",
       "      <td>krishna</td>\n",
       "      <td>telugu</td>\n",
       "    </tr>\n",
       "    <tr>\n",
       "      <th>13122</th>\n",
       "      <td>v</td>\n",
       "      <td>karthikeyan</td>\n",
       "      <td>tamil</td>\n",
       "    </tr>\n",
       "    <tr>\n",
       "      <th>13133</th>\n",
       "      <td>p</td>\n",
       "      <td>raghavan</td>\n",
       "      <td>telugu</td>\n",
       "    </tr>\n",
       "    <tr>\n",
       "      <th>13192</th>\n",
       "      <td>c</td>\n",
       "      <td>basha</td>\n",
       "      <td>urdu</td>\n",
       "    </tr>\n",
       "    <tr>\n",
       "      <th>13202</th>\n",
       "      <td>o</td>\n",
       "      <td>yadav</td>\n",
       "      <td>kannada</td>\n",
       "    </tr>\n",
       "    <tr>\n",
       "      <th>13280</th>\n",
       "      <td>r.k.</td>\n",
       "      <td>mishra</td>\n",
       "      <td>marwari</td>\n",
       "    </tr>\n",
       "    <tr>\n",
       "      <th>13360</th>\n",
       "      <td>dr:</td>\n",
       "      <td>chaudhury</td>\n",
       "      <td>punjabi</td>\n",
       "    </tr>\n",
       "    <tr>\n",
       "      <th>13407</th>\n",
       "      <td>p.c.srivastava</td>\n",
       "      <td>srivastava</td>\n",
       "      <td>marwari</td>\n",
       "    </tr>\n",
       "    <tr>\n",
       "      <th>13428</th>\n",
       "      <td>sk</td>\n",
       "      <td>ali</td>\n",
       "      <td>bengali</td>\n",
       "    </tr>\n",
       "    <tr>\n",
       "      <th>13506</th>\n",
       "      <td>s</td>\n",
       "      <td>biswas</td>\n",
       "      <td>bengali</td>\n",
       "    </tr>\n",
       "    <tr>\n",
       "      <th>13625</th>\n",
       "      <td>ak</td>\n",
       "      <td>singh</td>\n",
       "      <td>punjabi</td>\n",
       "    </tr>\n",
       "    <tr>\n",
       "      <th>13677</th>\n",
       "      <td>s</td>\n",
       "      <td>krishnamoorthy</td>\n",
       "      <td>telugu</td>\n",
       "    </tr>\n",
       "    <tr>\n",
       "      <th>13808</th>\n",
       "      <td>m</td>\n",
       "      <td>nill</td>\n",
       "      <td>urdu</td>\n",
       "    </tr>\n",
       "    <tr>\n",
       "      <th>13875</th>\n",
       "      <td>g</td>\n",
       "      <td>dash</td>\n",
       "      <td>oriya</td>\n",
       "    </tr>\n",
       "    <tr>\n",
       "      <th>13895</th>\n",
       "      <td>md</td>\n",
       "      <td>khan</td>\n",
       "      <td>urdu</td>\n",
       "    </tr>\n",
       "    <tr>\n",
       "      <th>13902</th>\n",
       "      <td>g</td>\n",
       "      <td>rao</td>\n",
       "      <td>kannada</td>\n",
       "    </tr>\n",
       "    <tr>\n",
       "      <th>13945</th>\n",
       "      <td>md</td>\n",
       "      <td>siddiqule</td>\n",
       "      <td>bengali</td>\n",
       "    </tr>\n",
       "    <tr>\n",
       "      <th>13966</th>\n",
       "      <td>r</td>\n",
       "      <td>chouhan</td>\n",
       "      <td>hindi</td>\n",
       "    </tr>\n",
       "    <tr>\n",
       "      <th>13995</th>\n",
       "      <td>m</td>\n",
       "      <td>parmar</td>\n",
       "      <td>gujarati</td>\n",
       "    </tr>\n",
       "    <tr>\n",
       "      <th>14005</th>\n",
       "      <td>g</td>\n",
       "      <td>jain</td>\n",
       "      <td>gujarati</td>\n",
       "    </tr>\n",
       "    <tr>\n",
       "      <th>14087</th>\n",
       "      <td>b.j</td>\n",
       "      <td>singh</td>\n",
       "      <td>punjabi</td>\n",
       "    </tr>\n",
       "    <tr>\n",
       "      <th>14422</th>\n",
       "      <td>b.c.</td>\n",
       "      <td>srivastava</td>\n",
       "      <td>marwari</td>\n",
       "    </tr>\n",
       "    <tr>\n",
       "      <th>14597</th>\n",
       "      <td>n</td>\n",
       "      <td>.</td>\n",
       "      <td>tamil</td>\n",
       "    </tr>\n",
       "    <tr>\n",
       "      <th>14689</th>\n",
       "      <td>k</td>\n",
       "      <td>singh</td>\n",
       "      <td>punjabi</td>\n",
       "    </tr>\n",
       "    <tr>\n",
       "      <th>14808</th>\n",
       "      <td>a</td>\n",
       "      <td>prabhu</td>\n",
       "      <td>kannada</td>\n",
       "    </tr>\n",
       "    <tr>\n",
       "      <th>14957</th>\n",
       "      <td>m</td>\n",
       "      <td>manivannan</td>\n",
       "      <td>telugu</td>\n",
       "    </tr>\n",
       "  </tbody>\n",
       "</table>\n",
       "<p>201 rows × 3 columns</p>\n",
       "</div>"
      ],
      "text/plain": [
       "                 Name         Surname Community\n",
       "25                  m           mouli    telugu\n",
       "125                 b             rao   kannada\n",
       "160                 k           panda     oriya\n",
       "191                md            alam   bengali\n",
       "198            sujan.           dutta   bengali\n",
       "230                rk          mishra   marwari\n",
       "250                gp          mishra   marwari\n",
       "254                 a               .     tamil\n",
       "285                 j           singh   punjabi\n",
       "527                km          khader     hindi\n",
       "780                dr           gupta   bengali\n",
       "915                mr         sandeep    telugu\n",
       "935               bv.         chandra   marwari\n",
       "982         dr.nikita           singh   punjabi\n",
       "991                 m           rizvi   bengali\n",
       "1182                o         prakash   kannada\n",
       "1221               md             ali   bengali\n",
       "1299               ks         prakash    telugu\n",
       "1313               md           pasha      urdu\n",
       "1334             mr.a            raja    telugu\n",
       "1335               ma         xiaohua   marathi\n",
       "1361               dr          bhatia    sindhi\n",
       "1749               om        chabadia     tamil\n",
       "1821                v       venugopal   kannada\n",
       "1833              md.           akram      urdu\n",
       "2118             r.p.           singh   punjabi\n",
       "2211               md             ali   bengali\n",
       "2266                a           azeem      urdu\n",
       "2362               md            alam   bengali\n",
       "2403                b        banerjee   bengali\n",
       "...               ...             ...       ...\n",
       "12726               c     karthikeyan     tamil\n",
       "12740              ak       ganapathy     tamil\n",
       "12896       a.kalyana        sundaram     tamil\n",
       "12917               s         mansoor      urdu\n",
       "12955               n         krishna    telugu\n",
       "13122               v     karthikeyan     tamil\n",
       "13133               p        raghavan    telugu\n",
       "13192               c           basha      urdu\n",
       "13202               o           yadav   kannada\n",
       "13280            r.k.          mishra   marwari\n",
       "13360             dr:       chaudhury   punjabi\n",
       "13407  p.c.srivastava      srivastava   marwari\n",
       "13428              sk             ali   bengali\n",
       "13506               s          biswas   bengali\n",
       "13625              ak           singh   punjabi\n",
       "13677               s  krishnamoorthy    telugu\n",
       "13808               m            nill      urdu\n",
       "13875               g            dash     oriya\n",
       "13895              md            khan      urdu\n",
       "13902               g             rao   kannada\n",
       "13945              md       siddiqule   bengali\n",
       "13966               r         chouhan     hindi\n",
       "13995               m          parmar  gujarati\n",
       "14005               g            jain  gujarati\n",
       "14087             b.j           singh   punjabi\n",
       "14422            b.c.      srivastava   marwari\n",
       "14597               n               .     tamil\n",
       "14689               k           singh   punjabi\n",
       "14808               a          prabhu   kannada\n",
       "14957               m      manivannan    telugu\n",
       "\n",
       "[201 rows x 3 columns]"
      ]
     },
     "execution_count": 16,
     "metadata": {},
     "output_type": "execute_result"
    }
   ],
   "source": [
    "#Looking at first names that will be filtered out\n",
    "df[[not x for x in firstnames_mask]]"
   ]
  },
  {
   "cell_type": "code",
   "execution_count": 22,
   "metadata": {},
   "outputs": [],
   "source": [
    "surnames_mask = df['Surname'].apply(valid_name)"
   ]
  },
  {
   "cell_type": "code",
   "execution_count": 18,
   "metadata": {},
   "outputs": [
    {
     "data": {
      "text/html": [
       "<div>\n",
       "<style scoped>\n",
       "    .dataframe tbody tr th:only-of-type {\n",
       "        vertical-align: middle;\n",
       "    }\n",
       "\n",
       "    .dataframe tbody tr th {\n",
       "        vertical-align: top;\n",
       "    }\n",
       "\n",
       "    .dataframe thead th {\n",
       "        text-align: right;\n",
       "    }\n",
       "</style>\n",
       "<table border=\"1\" class=\"dataframe\">\n",
       "  <thead>\n",
       "    <tr style=\"text-align: right;\">\n",
       "      <th></th>\n",
       "      <th>Name</th>\n",
       "      <th>Surname</th>\n",
       "      <th>Community</th>\n",
       "    </tr>\n",
       "  </thead>\n",
       "  <tbody>\n",
       "    <tr>\n",
       "      <th>53</th>\n",
       "      <td>jyothi</td>\n",
       "      <td>m</td>\n",
       "      <td>kannada</td>\n",
       "    </tr>\n",
       "    <tr>\n",
       "      <th>209</th>\n",
       "      <td>chetan</td>\n",
       "      <td>c</td>\n",
       "      <td>kannada</td>\n",
       "    </tr>\n",
       "    <tr>\n",
       "      <th>254</th>\n",
       "      <td>a</td>\n",
       "      <td>.</td>\n",
       "      <td>tamil</td>\n",
       "    </tr>\n",
       "    <tr>\n",
       "      <th>304</th>\n",
       "      <td>moksha</td>\n",
       "      <td>m</td>\n",
       "      <td>kannada</td>\n",
       "    </tr>\n",
       "    <tr>\n",
       "      <th>492</th>\n",
       "      <td>pallavi</td>\n",
       "      <td>p</td>\n",
       "      <td>kannada</td>\n",
       "    </tr>\n",
       "    <tr>\n",
       "      <th>859</th>\n",
       "      <td>anoop</td>\n",
       "      <td>g</td>\n",
       "      <td>kannada</td>\n",
       "    </tr>\n",
       "    <tr>\n",
       "      <th>1504</th>\n",
       "      <td>hemanth</td>\n",
       "      <td>b</td>\n",
       "      <td>kannada</td>\n",
       "    </tr>\n",
       "    <tr>\n",
       "      <th>1682</th>\n",
       "      <td>viswanath</td>\n",
       "      <td>g</td>\n",
       "      <td>telugu</td>\n",
       "    </tr>\n",
       "    <tr>\n",
       "      <th>1895</th>\n",
       "      <td>lokesh</td>\n",
       "      <td>j</td>\n",
       "      <td>kannada</td>\n",
       "    </tr>\n",
       "    <tr>\n",
       "      <th>2217</th>\n",
       "      <td>nagaraj</td>\n",
       "      <td>k</td>\n",
       "      <td>tamil</td>\n",
       "    </tr>\n",
       "    <tr>\n",
       "      <th>2469</th>\n",
       "      <td>karthik</td>\n",
       "      <td>t</td>\n",
       "      <td>kannada</td>\n",
       "    </tr>\n",
       "    <tr>\n",
       "      <th>2713</th>\n",
       "      <td>nagesh</td>\n",
       "      <td>n</td>\n",
       "      <td>telugu</td>\n",
       "    </tr>\n",
       "    <tr>\n",
       "      <th>2814</th>\n",
       "      <td>manjunath</td>\n",
       "      <td>g</td>\n",
       "      <td>kannada</td>\n",
       "    </tr>\n",
       "    <tr>\n",
       "      <th>2969</th>\n",
       "      <td>bhuvana</td>\n",
       "      <td>b</td>\n",
       "      <td>tamil</td>\n",
       "    </tr>\n",
       "    <tr>\n",
       "      <th>3050</th>\n",
       "      <td>karthik</td>\n",
       "      <td>g</td>\n",
       "      <td>kannada</td>\n",
       "    </tr>\n",
       "    <tr>\n",
       "      <th>3051</th>\n",
       "      <td>janaki</td>\n",
       "      <td>.</td>\n",
       "      <td>tamil</td>\n",
       "    </tr>\n",
       "    <tr>\n",
       "      <th>3245</th>\n",
       "      <td>vp</td>\n",
       "      <td>.</td>\n",
       "      <td>punjabi</td>\n",
       "    </tr>\n",
       "    <tr>\n",
       "      <th>3272</th>\n",
       "      <td>dorine</td>\n",
       "      <td>de</td>\n",
       "      <td>bengali</td>\n",
       "    </tr>\n",
       "    <tr>\n",
       "      <th>3478</th>\n",
       "      <td>arnab</td>\n",
       "      <td>de</td>\n",
       "      <td>bengali</td>\n",
       "    </tr>\n",
       "    <tr>\n",
       "      <th>3634</th>\n",
       "      <td>farauk</td>\n",
       "      <td>exchange)</td>\n",
       "      <td>urdu</td>\n",
       "    </tr>\n",
       "    <tr>\n",
       "      <th>3742</th>\n",
       "      <td>vinaya</td>\n",
       "      <td>s</td>\n",
       "      <td>hindi</td>\n",
       "    </tr>\n",
       "    <tr>\n",
       "      <th>3797</th>\n",
       "      <td>nagesh</td>\n",
       "      <td>k</td>\n",
       "      <td>telugu</td>\n",
       "    </tr>\n",
       "    <tr>\n",
       "      <th>3956</th>\n",
       "      <td>manjunath</td>\n",
       "      <td>d</td>\n",
       "      <td>kannada</td>\n",
       "    </tr>\n",
       "    <tr>\n",
       "      <th>3967</th>\n",
       "      <td>smitha</td>\n",
       "      <td>p</td>\n",
       "      <td>telugu</td>\n",
       "    </tr>\n",
       "    <tr>\n",
       "      <th>4093</th>\n",
       "      <td>ravi</td>\n",
       "      <td>g</td>\n",
       "      <td>kannada</td>\n",
       "    </tr>\n",
       "    <tr>\n",
       "      <th>4191</th>\n",
       "      <td>santosh</td>\n",
       "      <td>vv</td>\n",
       "      <td>telugu</td>\n",
       "    </tr>\n",
       "    <tr>\n",
       "      <th>4283</th>\n",
       "      <td>padma</td>\n",
       "      <td>c</td>\n",
       "      <td>telugu</td>\n",
       "    </tr>\n",
       "    <tr>\n",
       "      <th>4443</th>\n",
       "      <td>raghunandan</td>\n",
       "      <td>k</td>\n",
       "      <td>kannada</td>\n",
       "    </tr>\n",
       "    <tr>\n",
       "      <th>4453</th>\n",
       "      <td>shilpa</td>\n",
       "      <td>g</td>\n",
       "      <td>kannada</td>\n",
       "    </tr>\n",
       "    <tr>\n",
       "      <th>4517</th>\n",
       "      <td>prabhakaran</td>\n",
       "      <td>b</td>\n",
       "      <td>tamil</td>\n",
       "    </tr>\n",
       "    <tr>\n",
       "      <th>...</th>\n",
       "      <td>...</td>\n",
       "      <td>...</td>\n",
       "      <td>...</td>\n",
       "    </tr>\n",
       "    <tr>\n",
       "      <th>9695</th>\n",
       "      <td>manjunath</td>\n",
       "      <td>j</td>\n",
       "      <td>kannada</td>\n",
       "    </tr>\n",
       "    <tr>\n",
       "      <th>9755</th>\n",
       "      <td>sajan</td>\n",
       "      <td>s</td>\n",
       "      <td>malayalam</td>\n",
       "    </tr>\n",
       "    <tr>\n",
       "      <th>9826</th>\n",
       "      <td>thahira</td>\n",
       "      <td>.</td>\n",
       "      <td>punjabi</td>\n",
       "    </tr>\n",
       "    <tr>\n",
       "      <th>9855</th>\n",
       "      <td>bharath</td>\n",
       "      <td>g</td>\n",
       "      <td>kannada</td>\n",
       "    </tr>\n",
       "    <tr>\n",
       "      <th>9953</th>\n",
       "      <td>madhavi</td>\n",
       "      <td>g</td>\n",
       "      <td>telugu</td>\n",
       "    </tr>\n",
       "    <tr>\n",
       "      <th>9954</th>\n",
       "      <td>bhaskar</td>\n",
       "      <td>de.</td>\n",
       "      <td>telugu</td>\n",
       "    </tr>\n",
       "    <tr>\n",
       "      <th>10213</th>\n",
       "      <td>shivakumar</td>\n",
       "      <td>b</td>\n",
       "      <td>kannada</td>\n",
       "    </tr>\n",
       "    <tr>\n",
       "      <th>10268</th>\n",
       "      <td>kumari</td>\n",
       "      <td>b</td>\n",
       "      <td>telugu</td>\n",
       "    </tr>\n",
       "    <tr>\n",
       "      <th>10586</th>\n",
       "      <td>karthik</td>\n",
       "      <td>m</td>\n",
       "      <td>kannada</td>\n",
       "    </tr>\n",
       "    <tr>\n",
       "      <th>10773</th>\n",
       "      <td>manjunath</td>\n",
       "      <td>s</td>\n",
       "      <td>kannada</td>\n",
       "    </tr>\n",
       "    <tr>\n",
       "      <th>10851</th>\n",
       "      <td>pradeep</td>\n",
       "      <td>bv</td>\n",
       "      <td>malayalam</td>\n",
       "    </tr>\n",
       "    <tr>\n",
       "      <th>11118</th>\n",
       "      <td>nithin</td>\n",
       "      <td>.</td>\n",
       "      <td>tamil</td>\n",
       "    </tr>\n",
       "    <tr>\n",
       "      <th>11403</th>\n",
       "      <td>shiva</td>\n",
       "      <td>v</td>\n",
       "      <td>kannada</td>\n",
       "    </tr>\n",
       "    <tr>\n",
       "      <th>11623</th>\n",
       "      <td>jithesh</td>\n",
       "      <td>at</td>\n",
       "      <td>malayalam</td>\n",
       "    </tr>\n",
       "    <tr>\n",
       "      <th>11637</th>\n",
       "      <td>ashray</td>\n",
       "      <td>n</td>\n",
       "      <td>kannada</td>\n",
       "    </tr>\n",
       "    <tr>\n",
       "      <th>11661</th>\n",
       "      <td>prakash</td>\n",
       "      <td>m</td>\n",
       "      <td>kannada</td>\n",
       "    </tr>\n",
       "    <tr>\n",
       "      <th>12631</th>\n",
       "      <td>aruna</td>\n",
       "      <td>r</td>\n",
       "      <td>english</td>\n",
       "    </tr>\n",
       "    <tr>\n",
       "      <th>12784</th>\n",
       "      <td>venugopal</td>\n",
       "      <td>p</td>\n",
       "      <td>kannada</td>\n",
       "    </tr>\n",
       "    <tr>\n",
       "      <th>13491</th>\n",
       "      <td>chandrasekar</td>\n",
       "      <td>b</td>\n",
       "      <td>tamil</td>\n",
       "    </tr>\n",
       "    <tr>\n",
       "      <th>13512</th>\n",
       "      <td>riaz</td>\n",
       "      <td>9880279904</td>\n",
       "      <td>tamil</td>\n",
       "    </tr>\n",
       "    <tr>\n",
       "      <th>13679</th>\n",
       "      <td>shivakumar</td>\n",
       "      <td>n</td>\n",
       "      <td>kannada</td>\n",
       "    </tr>\n",
       "    <tr>\n",
       "      <th>13751</th>\n",
       "      <td>kannan</td>\n",
       "      <td>.</td>\n",
       "      <td>tamil</td>\n",
       "    </tr>\n",
       "    <tr>\n",
       "      <th>13968</th>\n",
       "      <td>disha</td>\n",
       "      <td>s</td>\n",
       "      <td>hindi</td>\n",
       "    </tr>\n",
       "    <tr>\n",
       "      <th>14152</th>\n",
       "      <td>karthik</td>\n",
       "      <td>l</td>\n",
       "      <td>kannada</td>\n",
       "    </tr>\n",
       "    <tr>\n",
       "      <th>14170</th>\n",
       "      <td>soumitra</td>\n",
       "      <td>.das</td>\n",
       "      <td>marathi</td>\n",
       "    </tr>\n",
       "    <tr>\n",
       "      <th>14295</th>\n",
       "      <td>prakash</td>\n",
       "      <td>p</td>\n",
       "      <td>kannada</td>\n",
       "    </tr>\n",
       "    <tr>\n",
       "      <th>14355</th>\n",
       "      <td>greeshma</td>\n",
       "      <td>v</td>\n",
       "      <td>english</td>\n",
       "    </tr>\n",
       "    <tr>\n",
       "      <th>14597</th>\n",
       "      <td>n</td>\n",
       "      <td>.</td>\n",
       "      <td>tamil</td>\n",
       "    </tr>\n",
       "    <tr>\n",
       "      <th>14838</th>\n",
       "      <td>venkatesh</td>\n",
       "      <td>g</td>\n",
       "      <td>kannada</td>\n",
       "    </tr>\n",
       "    <tr>\n",
       "      <th>14936</th>\n",
       "      <td>manjunatha</td>\n",
       "      <td>g</td>\n",
       "      <td>kannada</td>\n",
       "    </tr>\n",
       "  </tbody>\n",
       "</table>\n",
       "<p>92 rows × 3 columns</p>\n",
       "</div>"
      ],
      "text/plain": [
       "               Name     Surname  Community\n",
       "53           jyothi           m    kannada\n",
       "209          chetan           c    kannada\n",
       "254               a           .      tamil\n",
       "304          moksha           m    kannada\n",
       "492         pallavi           p    kannada\n",
       "859           anoop           g    kannada\n",
       "1504        hemanth           b    kannada\n",
       "1682      viswanath           g     telugu\n",
       "1895         lokesh           j    kannada\n",
       "2217        nagaraj           k      tamil\n",
       "2469        karthik           t    kannada\n",
       "2713         nagesh           n     telugu\n",
       "2814      manjunath           g    kannada\n",
       "2969        bhuvana           b      tamil\n",
       "3050        karthik           g    kannada\n",
       "3051         janaki           .      tamil\n",
       "3245             vp           .    punjabi\n",
       "3272         dorine          de    bengali\n",
       "3478          arnab          de    bengali\n",
       "3634         farauk   exchange)       urdu\n",
       "3742         vinaya           s      hindi\n",
       "3797         nagesh           k     telugu\n",
       "3956      manjunath           d    kannada\n",
       "3967         smitha           p     telugu\n",
       "4093           ravi           g    kannada\n",
       "4191        santosh          vv     telugu\n",
       "4283          padma           c     telugu\n",
       "4443    raghunandan           k    kannada\n",
       "4453         shilpa           g    kannada\n",
       "4517    prabhakaran           b      tamil\n",
       "...             ...         ...        ...\n",
       "9695      manjunath           j    kannada\n",
       "9755          sajan           s  malayalam\n",
       "9826        thahira           .    punjabi\n",
       "9855        bharath           g    kannada\n",
       "9953        madhavi           g     telugu\n",
       "9954        bhaskar         de.     telugu\n",
       "10213    shivakumar           b    kannada\n",
       "10268        kumari           b     telugu\n",
       "10586       karthik           m    kannada\n",
       "10773     manjunath           s    kannada\n",
       "10851       pradeep          bv  malayalam\n",
       "11118        nithin           .      tamil\n",
       "11403         shiva           v    kannada\n",
       "11623       jithesh          at  malayalam\n",
       "11637        ashray           n    kannada\n",
       "11661       prakash           m    kannada\n",
       "12631         aruna           r    english\n",
       "12784     venugopal           p    kannada\n",
       "13491  chandrasekar           b      tamil\n",
       "13512          riaz  9880279904      tamil\n",
       "13679    shivakumar           n    kannada\n",
       "13751        kannan           .      tamil\n",
       "13968         disha           s      hindi\n",
       "14152       karthik           l    kannada\n",
       "14170      soumitra        .das    marathi\n",
       "14295       prakash           p    kannada\n",
       "14355      greeshma           v    english\n",
       "14597             n           .      tamil\n",
       "14838     venkatesh           g    kannada\n",
       "14936    manjunatha           g    kannada\n",
       "\n",
       "[92 rows x 3 columns]"
      ]
     },
     "execution_count": 18,
     "metadata": {},
     "output_type": "execute_result"
    }
   ],
   "source": [
    "#Looking at surnames that will be filtered out\n",
    "df[[not x for x in surnames_mask]]"
   ]
  },
  {
   "cell_type": "code",
   "execution_count": 23,
   "metadata": {},
   "outputs": [],
   "source": [
    "fullnames_mask = [fn and sn for fn,sn in zip(firstnames_mask,surnames_mask)]"
   ]
  },
  {
   "cell_type": "markdown",
   "metadata": {},
   "source": [
    "# Exploring n-grams"
   ]
  },
  {
   "cell_type": "markdown",
   "metadata": {},
   "source": [
    "Exploring name bigrams"
   ]
  },
  {
   "cell_type": "code",
   "execution_count": 26,
   "metadata": {},
   "outputs": [],
   "source": [
    "def get_ngrams(words, n):\n",
    "    return [word[i:i+n]  for word in words for i in range(len(word)-n+1)]"
   ]
  },
  {
   "cell_type": "code",
   "execution_count": 27,
   "metadata": {},
   "outputs": [],
   "source": [
    "def get_mask_indices(mask):\n",
    "    return np.argwhere(mask).reshape(1,-1)[0]"
   ]
  },
  {
   "cell_type": "code",
   "execution_count": 28,
   "metadata": {},
   "outputs": [],
   "source": [
    "firstname_bigrams = get_ngrams(df['Name'][firstnames_mask], 2)"
   ]
  },
  {
   "cell_type": "code",
   "execution_count": 22,
   "metadata": {},
   "outputs": [
    {
     "data": {
      "text/plain": [
       "sh    3661\n",
       "an    3638\n",
       "ra    2906\n",
       "ha    2417\n",
       "ar    1801\n",
       "ma    1518\n",
       "na    1375\n",
       "it    1350\n",
       "ee    1333\n",
       "as    1172\n",
       "am    1165\n",
       "nd    1157\n",
       "in    1150\n",
       "sa    1137\n",
       "hi    1114\n",
       "ta    1112\n",
       "ka    1087\n",
       "ni    1069\n",
       "al    1001\n",
       "vi     989\n",
       "es     986\n",
       "aj     901\n",
       "su     899\n",
       "ri     886\n",
       "ja     842\n",
       "is     810\n",
       "pr     796\n",
       "ya     769\n",
       "en     757\n",
       "de     744\n",
       "      ... \n",
       "wk       1\n",
       "jl       1\n",
       "zs       1\n",
       "jb       1\n",
       "kn       1\n",
       "wq       1\n",
       "xa       1\n",
       "vg       1\n",
       "hg       1\n",
       "cq       1\n",
       "fs       1\n",
       "dl       1\n",
       "hz       1\n",
       "vm       1\n",
       "vc       1\n",
       "mz       1\n",
       "cs       1\n",
       "eu       1\n",
       "bw       1\n",
       "qs       1\n",
       "gc       1\n",
       "cv       1\n",
       "fz       1\n",
       "rq       1\n",
       "gp       1\n",
       "ci       1\n",
       "gg       1\n",
       "uu       1\n",
       "vp       1\n",
       "zy       1\n",
       "Length: 484, dtype: int64"
      ]
     },
     "execution_count": 22,
     "metadata": {},
     "output_type": "execute_result"
    }
   ],
   "source": [
    "pd.Series(firstname_bigrams).value_counts()"
   ]
  },
  {
   "cell_type": "code",
   "execution_count": 23,
   "metadata": {
    "scrolled": true
   },
   "outputs": [
    {
     "data": {
      "image/png": "[encoded data removed]",
      "text/plain": [
       "<matplotlib.figure.Figure at 0x25a69afb940>"
      ]
     },
     "metadata": {},
     "output_type": "display_data"
    }
   ],
   "source": [
    "fd_fnbigrams=FreqDist(firstname_bigrams)\n",
    "fd_fnbigrams.plot(20)"
   ]
  },
  {
   "cell_type": "markdown",
   "metadata": {},
   "source": [
    "Exploring surname bigrams"
   ]
  },
  {
   "cell_type": "code",
   "execution_count": 29,
   "metadata": {},
   "outputs": [],
   "source": [
    "surname_bigrams = get_ngrams(df['Surname'][surnames_mask], 2)"
   ]
  },
  {
   "cell_type": "code",
   "execution_count": 25,
   "metadata": {},
   "outputs": [
    {
     "data": {
      "text/plain": [
       "ha    2992\n",
       "ar    2548\n",
       "an    2276\n",
       "in    2175\n",
       "ra    2156\n",
       "sh    1753\n",
       "gh    1655\n",
       "si    1613\n",
       "ng    1566\n",
       "ma    1454\n",
       "al    1381\n",
       "at    1163\n",
       "pa    1098\n",
       "ai    1067\n",
       "wa    1034\n",
       "as    1033\n",
       "sa     945\n",
       "na     863\n",
       "ri     856\n",
       "ka     851\n",
       "ja     850\n",
       "da     834\n",
       "ch     830\n",
       "ta     794\n",
       "ah     769\n",
       "nd     679\n",
       "va     573\n",
       "er     572\n",
       "de     564\n",
       "ga     550\n",
       "      ... \n",
       "ft       1\n",
       "jb       1\n",
       "jl       1\n",
       "bg       1\n",
       "kc       1\n",
       "uy       1\n",
       "uq       1\n",
       "jv       1\n",
       "vh       1\n",
       "wb       1\n",
       "kn       1\n",
       "io       1\n",
       "db       1\n",
       "wt       1\n",
       "tm       1\n",
       "ps       1\n",
       "vl       1\n",
       "bj       1\n",
       "kj       1\n",
       "fz       1\n",
       "fs       1\n",
       "ec       1\n",
       "fu       1\n",
       "nz       1\n",
       "mw       1\n",
       "ex       1\n",
       "vg       1\n",
       "pc       1\n",
       "nl       1\n",
       "vt       1\n",
       "Length: 454, dtype: int64"
      ]
     },
     "execution_count": 25,
     "metadata": {},
     "output_type": "execute_result"
    }
   ],
   "source": [
    "pd.Series(surname_bigrams).value_counts()"
   ]
  },
  {
   "cell_type": "code",
   "execution_count": 26,
   "metadata": {
    "scrolled": true
   },
   "outputs": [
    {
     "data": {
      "image/png": "[encoded data removed]",
      "text/plain": [
       "<matplotlib.figure.Figure at 0x25a6a2c8d68>"
      ]
     },
     "metadata": {},
     "output_type": "display_data"
    }
   ],
   "source": [
    "fd_snbigrams=FreqDist(surname_bigrams)\n",
    "fd_snbigrams.plot(20)"
   ]
  },
  {
   "cell_type": "markdown",
   "metadata": {},
   "source": [
    "Exploring name trigrams"
   ]
  },
  {
   "cell_type": "code",
   "execution_count": 30,
   "metadata": {},
   "outputs": [],
   "source": [
    "firstname_trigrams = get_ngrams(df['Name'][firstnames_mask], 3)"
   ]
  },
  {
   "cell_type": "code",
   "execution_count": 28,
   "metadata": {},
   "outputs": [
    {
     "data": {
      "text/plain": [
       "esh    940\n",
       "sha    791\n",
       "ish    691\n",
       "ash    648\n",
       "raj    627\n",
       "pra    554\n",
       "man    538\n",
       "san    510\n",
       "han    497\n",
       "dra    449\n",
       "ndr    442\n",
       "har    435\n",
       "ita    433\n",
       "end    415\n",
       "shi    409\n",
       "ana    409\n",
       "ant    400\n",
       "anj    373\n",
       "and    366\n",
       "jay    361\n",
       "ani    354\n",
       "eet    353\n",
       "bha    347\n",
       "ind    346\n",
       "dee    333\n",
       "eep    327\n",
       "nde    323\n",
       "vin    317\n",
       "ara    303\n",
       "ika    292\n",
       "      ... \n",
       "ual      1\n",
       "vsa      1\n",
       "ubd      1\n",
       "ehj      1\n",
       "riv      1\n",
       "ruh      1\n",
       "mza      1\n",
       "oof      1\n",
       "tbi      1\n",
       "too      1\n",
       "hja      1\n",
       "wdh      1\n",
       "aac      1\n",
       "ogo      1\n",
       "eis      1\n",
       "lep      1\n",
       "pjy      1\n",
       "llo      1\n",
       "rii      1\n",
       "phe      1\n",
       "bhh      1\n",
       "dic      1\n",
       "amc      1\n",
       "lfi      1\n",
       "ofa      1\n",
       "one      1\n",
       "axa      1\n",
       "nuu      1\n",
       "rqa      1\n",
       "kuk      1\n",
       "Length: 2987, dtype: int64"
      ]
     },
     "execution_count": 28,
     "metadata": {},
     "output_type": "execute_result"
    }
   ],
   "source": [
    "pd.Series(firstname_trigrams).value_counts()"
   ]
  },
  {
   "cell_type": "code",
   "execution_count": 29,
   "metadata": {
    "scrolled": false
   },
   "outputs": [
    {
     "data": {
      "image/png": "[encoded data removed]",
      "text/plain": [
       "<matplotlib.figure.Figure at 0x25a6a762a90>"
      ]
     },
     "metadata": {},
     "output_type": "display_data"
    }
   ],
   "source": [
    "fd_fntrigrams=FreqDist(firstname_trigrams)\n",
    "fd_fntrigrams.plot(20)"
   ]
  },
  {
   "cell_type": "markdown",
   "metadata": {},
   "source": [
    "Exploring surname trigrams"
   ]
  },
  {
   "cell_type": "code",
   "execution_count": 31,
   "metadata": {},
   "outputs": [],
   "source": [
    "surname_trigrams = get_ngrams(df['Surname'][surnames_mask], 3)"
   ]
  },
  {
   "cell_type": "code",
   "execution_count": 31,
   "metadata": {},
   "outputs": [
    {
     "data": {
      "text/plain": [
       "sin    1533\n",
       "ing    1461\n",
       "ngh    1443\n",
       "sha     623\n",
       "har     595\n",
       "cha     586\n",
       "han     585\n",
       "jai     495\n",
       "and     494\n",
       "ain     475\n",
       "pat     449\n",
       "wal     429\n",
       "rma     406\n",
       "mar     378\n",
       "ari     373\n",
       "uma     317\n",
       "das     315\n",
       "kar     310\n",
       "bha     307\n",
       "kum     306\n",
       "dha     306\n",
       "ath     281\n",
       "ish     276\n",
       "gar     275\n",
       "awa     269\n",
       "hat     262\n",
       "ate     260\n",
       "ava     255\n",
       "pra     252\n",
       "man     242\n",
       "       ... \n",
       "eol       1\n",
       "jme       1\n",
       "msu       1\n",
       "ubu       1\n",
       "ipi       1\n",
       "edw       1\n",
       "nzo       1\n",
       "koy       1\n",
       "khm       1\n",
       "bus       1\n",
       "job       1\n",
       "gge       1\n",
       "tts       1\n",
       "gpu       1\n",
       "stv       1\n",
       "hdr       1\n",
       "pav       1\n",
       "hbh       1\n",
       "wel       1\n",
       "bro       1\n",
       "ntw       1\n",
       "rrm       1\n",
       "dob       1\n",
       "kkk       1\n",
       "gui       1\n",
       "hye       1\n",
       "uar       1\n",
       "tif       1\n",
       "hke       1\n",
       "vha       1\n",
       "Length: 2366, dtype: int64"
      ]
     },
     "execution_count": 31,
     "metadata": {},
     "output_type": "execute_result"
    }
   ],
   "source": [
    "pd.Series(surname_trigrams).value_counts()"
   ]
  },
  {
   "cell_type": "code",
   "execution_count": 32,
   "metadata": {
    "scrolled": false
   },
   "outputs": [
    {
     "data": {
      "image/png": "[encoded data removed]",
      "text/plain": [
       "<matplotlib.figure.Figure at 0x25a6ab853c8>"
      ]
     },
     "metadata": {},
     "output_type": "display_data"
    }
   ],
   "source": [
    "fd_sntrigrams=FreqDist(surname_trigrams)\n",
    "fd_sntrigrams.plot(20)"
   ]
  },
  {
   "cell_type": "markdown",
   "metadata": {},
   "source": [
    "# Training Classifiers"
   ]
  },
  {
   "cell_type": "code",
   "execution_count": 8,
   "metadata": {},
   "outputs": [],
   "source": [
    "from sklearn.preprocessing import LabelEncoder, OneHotEncoder"
   ]
  },
  {
   "cell_type": "code",
   "execution_count": 9,
   "metadata": {},
   "outputs": [],
   "source": [
    "# getting labels (a number for each community)\n",
    "le = LabelEncoder()"
   ]
  },
  {
   "cell_type": "code",
   "execution_count": 10,
   "metadata": {},
   "outputs": [],
   "source": [
    "labels = le.fit_transform(df['Community'])"
   ]
  },
  {
   "cell_type": "code",
   "execution_count": 14,
   "metadata": {},
   "outputs": [],
   "source": [
    "class Classifier:\n",
    "    count = 0\n",
    "    \n",
    "    def __init__(self, name, description=\"\"):\n",
    "        self.name = name\n",
    "        self.description = description\n",
    "        self.vectorizer = CountVectorizer()\n",
    "        self.metrics = {'accuracy': accuracy_score}\n",
    "        self.scores = {}\n",
    "        Classifier.count = Classifier.count + 1\n",
    "        \n",
    "    def fit(self, x, y, clf, vectorizer=None, metrics_dict=None):\n",
    "        if vectorizer is not None:\n",
    "            self.vectorizer = vectorizer\n",
    "        if metrics_dict is not None:\n",
    "            self.metrics.update(metrics_dict)\n",
    "            \n",
    "        x = self.vectorizer.fit_transform(x)\n",
    "        self.clf = clf.fit(x,y)\n",
    "        \n",
    "        self.scores['train'] = {}\n",
    "        for metric, metric_fn in self.metrics.items():\n",
    "            self.scores['train'][metric] = metric_fn(y, self.clf.predict(x))\n",
    "        \n",
    "        self.print_scores('train')\n",
    "        \n",
    "    def predict(self, x):\n",
    "        x = self.vectorizer.transform(x)\n",
    "        return self.clf.predict(x)\n",
    "    \n",
    "    def score(self, x, y, data_set='dev', metrics_dict=None):\n",
    "        if metrics_dict is not None:\n",
    "            self.metrics.update(metrics_dict)\n",
    "        \n",
    "        self.scores[data_set] = {}\n",
    "        for metric, metric_fn in self.metrics.items():\n",
    "            self.scores[data_set][metric] = metric_fn(y, self.predict(x))\n",
    "        \n",
    "        self.print_scores(data_set)\n",
    "        \n",
    "        \n",
    "    def print_scores(self, data_set):\n",
    "        if data_set in self.scores:\n",
    "            print('Scores on',data_set)\n",
    "            scores_dict = self.scores[data_set]\n",
    "            for metric, score in scores_dict.items():\n",
    "                print(metric, \"=\", score)\n",
    "        else:\n",
    "            print('No scores available')\n",
    "        print()\n",
    "        \n",
    "    def get_scores(self):\n",
    "        for data_set in self.scores.keys():\n",
    "            self.print_scores(data_set)\n",
    "        \n",
    "    def add_method(self, name, method):\n",
    "        self.__setattr__(name, method)"
   ]
  },
  {
   "cell_type": "markdown",
   "metadata": {},
   "source": [
    "## Naive Bayes"
   ]
  },
  {
   "cell_type": "code",
   "execution_count": 11,
   "metadata": {},
   "outputs": [],
   "source": [
    "from sklearn.model_selection import train_test_split\n",
    "from sklearn.feature_extraction.text import CountVectorizer\n",
    "from sklearn.feature_extraction.text import TfidfVectorizer\n",
    "from sklearn.naive_bayes import MultinomialNB\n",
    "from sklearn.metrics import accuracy_score, f1_score"
   ]
  },
  {
   "cell_type": "code",
   "execution_count": 12,
   "metadata": {},
   "outputs": [],
   "source": [
    "metrics_dict = {'f1_all':lambda y,y_pred: f1_score(y, y_pred, average=None, labels=list(range(25))), \n",
    "                'f1_micro':lambda y,y_pred: f1_score(y, y_pred, average='micro'),\n",
    "                'f1_macro':lambda y,y_pred: f1_score(y, y_pred, average='macro'),\n",
    "                'f1_weighted':lambda y,y_pred: f1_score(y, y_pred, average='weighted')}"
   ]
  },
  {
   "cell_type": "code",
   "execution_count": 109,
   "metadata": {},
   "outputs": [],
   "source": [
    "X_train, X_dev, y_train, y_dev = train_test_split(df['Name'][firstnames_mask].values, labels[firstnames_mask], random_state = RANDOM_STATE)"
   ]
  },
  {
   "cell_type": "code",
   "execution_count": 16,
   "metadata": {},
   "outputs": [],
   "source": [
    "clfs = {}"
   ]
  },
  {
   "cell_type": "code",
   "execution_count": 115,
   "metadata": {},
   "outputs": [
    {
     "name": "stderr",
     "output_type": "stream",
     "text": [
      "C:\\Users\\anush\\Anaconda3\\lib\\site-packages\\sklearn\\metrics\\classification.py:1135: UndefinedMetricWarning: F-score is ill-defined and being set to 0.0 in labels with no predicted samples.\n",
      "  'precision', 'predicted', average, warn_for)\n",
      "C:\\Users\\anush\\Anaconda3\\lib\\site-packages\\sklearn\\metrics\\classification.py:1137: UndefinedMetricWarning: F-score is ill-defined and being set to 0.0 in labels with no true samples.\n",
      "  'recall', 'true', average, warn_for)\n"
     ]
    },
    {
     "name": "stdout",
     "output_type": "stream",
     "text": [
      "Scores on train\n",
      "accuracy = 0.352315732564426\n",
      "f1_all = [0.         0.38505232 0.16724739 0.         0.29120246 0.\n",
      " 0.43300934 0.25443787 0.         0.17777778 0.61538462 0.19104478\n",
      " 0.23103448 0.13312203 0.         0.         0.21192053 0.\n",
      " 0.         0.36363636 0.36781609 0.27939698 0.37701472 0.\n",
      " 0.44319776]\n",
      "f1_micro = 0.352315732564426\n",
      "f1_macro = 0.20509564557814997\n",
      "f1_weighted = 0.3371866882865932\n",
      "\n",
      "Scores on dev\n",
      "accuracy = 0.3202702702702703\n",
      "f1_all = [0.         0.3539823  0.19047619 0.         0.25345622 0.\n",
      " 0.41371557 0.18965517 0.         0.         0.         0.1372549\n",
      " 0.21367521 0.01970443 0.         0.         0.2081448  0.\n",
      " 0.         0.34046512 0.20588235 0.28134557 0.34754797 0.\n",
      " 0.28444444]\n",
      "f1_micro = 0.3202702702702703\n",
      "f1_macro = 0.1495543589069367\n",
      "f1_weighted = 0.3043070224600764\n",
      "\n"
     ]
    }
   ],
   "source": [
    "clfs['nb_fn_2'] = Classifier('nb_fn_2', description=\"naive bayes on first name bigrams\")\n",
    "clfs['nb_fn_2'].fit(X_train, y_train, MultinomialNB(), vectorizer=CountVectorizer(analyzer=lambda x:get_ngrams([x],2)), metrics_dict=metrics_dict)\n",
    "clfs['nb_fn_2'].score(X_dev, y_dev, 'dev', metrics_dict=metrics_dict)"
   ]
  },
  {
   "cell_type": "code",
   "execution_count": 116,
   "metadata": {},
   "outputs": [
    {
     "name": "stderr",
     "output_type": "stream",
     "text": [
      "C:\\Users\\anush\\Anaconda3\\lib\\site-packages\\sklearn\\metrics\\classification.py:1135: UndefinedMetricWarning: F-score is ill-defined and being set to 0.0 in labels with no predicted samples.\n",
      "  'precision', 'predicted', average, warn_for)\n",
      "C:\\Users\\anush\\Anaconda3\\lib\\site-packages\\sklearn\\metrics\\classification.py:1137: UndefinedMetricWarning: F-score is ill-defined and being set to 0.0 in labels with no true samples.\n",
      "  'recall', 'true', average, warn_for)\n"
     ]
    },
    {
     "name": "stdout",
     "output_type": "stream",
     "text": [
      "Scores on train\n",
      "accuracy = 0.4903586231753469\n",
      "f1_all = [0.07692308 0.56492162 0.27210884 0.         0.44875776 0.\n",
      " 0.5514158  0.33426184 0.         0.48275862 0.         0.42180095\n",
      " 0.30912477 0.27836611 0.         0.         0.4        0.\n",
      " 0.         0.46061415 0.38461538 0.41478439 0.52781457 0.\n",
      " 0.62369338]\n",
      "f1_micro = 0.4903586231753469\n",
      "f1_macro = 0.27299838621439604\n",
      "f1_weighted = 0.47542299875979405\n",
      "\n",
      "Scores on dev\n",
      "accuracy = 0.3956756756756757\n",
      "f1_all = [0.         0.47140381 0.2195122  0.         0.33255269 0.\n",
      " 0.50597177 0.224      0.         0.75       0.         0.28571429\n",
      " 0.17560976 0.01941748 0.         0.         0.23893805 0.\n",
      " 0.         0.37181996 0.23333333 0.32911392 0.428      0.\n",
      " 0.38509317]\n",
      "f1_micro = 0.39567567567567574\n",
      "f1_macro = 0.21610784467630395\n",
      "f1_weighted = 0.3728263999057889\n",
      "\n"
     ]
    }
   ],
   "source": [
    "clfs['nb_fn_3'] = Classifier('nb_fn_3', description=\"naive bayes on first name trigrams\")\n",
    "clfs['nb_fn_3'].fit(X_train, y_train, MultinomialNB(), vectorizer=CountVectorizer(analyzer=lambda x:get_ngrams([x],3)), metrics_dict=metrics_dict)\n",
    "clfs['nb_fn_3'].score(X_dev, y_dev, 'dev', metrics_dict=metrics_dict)"
   ]
  },
  {
   "cell_type": "code",
   "execution_count": 117,
   "metadata": {},
   "outputs": [
    {
     "name": "stderr",
     "output_type": "stream",
     "text": [
      "C:\\Users\\anush\\Anaconda3\\lib\\site-packages\\sklearn\\metrics\\classification.py:1135: UndefinedMetricWarning: F-score is ill-defined and being set to 0.0 in labels with no predicted samples.\n",
      "  'precision', 'predicted', average, warn_for)\n",
      "C:\\Users\\anush\\Anaconda3\\lib\\site-packages\\sklearn\\metrics\\classification.py:1137: UndefinedMetricWarning: F-score is ill-defined and being set to 0.0 in labels with no true samples.\n",
      "  'recall', 'true', average, warn_for)\n"
     ]
    },
    {
     "name": "stdout",
     "output_type": "stream",
     "text": [
      "Scores on train\n",
      "accuracy = 0.4517030095512705\n",
      "f1_all = [0.         0.503961   0.25165563 0.         0.40315908 0.\n",
      " 0.5279661  0.28871391 0.         0.47826087 0.66666667 0.41269841\n",
      " 0.34138973 0.22916667 0.         0.         0.36383208 0.\n",
      " 0.         0.43124597 0.4372093  0.37083708 0.49455041 0.\n",
      " 0.58187135]\n",
      "f1_micro = 0.4517030095512705\n",
      "f1_macro = 0.2826326770610507\n",
      "f1_weighted = 0.4418599427467069\n",
      "\n",
      "Scores on dev\n",
      "accuracy = 0.3854054054054054\n",
      "f1_all = [0.         0.44484305 0.21686747 0.         0.32685714 0.\n",
      " 0.50184049 0.21538462 0.         0.5        0.         0.28571429\n",
      " 0.2578125  0.00943396 0.         0.         0.24087591 0.\n",
      " 0.         0.37335835 0.275      0.34482759 0.42650104 0.\n",
      " 0.37837838]\n",
      "f1_micro = 0.3854054054054054\n",
      "f1_macro = 0.2085954251036278\n",
      "f1_weighted = 0.37112920133719385\n",
      "\n"
     ]
    }
   ],
   "source": [
    "clfs['nb_fn_23'] = Classifier('nb_fn_23', description=\"naive bayes on first name bigrams and trigrams\")\n",
    "clfs['nb_fn_23'].fit(X_train, y_train, MultinomialNB(), vectorizer=CountVectorizer(analyzer=lambda x:get_ngrams([x],2)+get_ngrams([x],3)), metrics_dict=metrics_dict)\n",
    "clfs['nb_fn_23'].score(X_dev, y_dev, 'dev', metrics_dict=metrics_dict)"
   ]
  },
  {
   "cell_type": "code",
   "execution_count": 118,
   "metadata": {},
   "outputs": [],
   "source": [
    "X_train, X_dev, y_train, y_dev = train_test_split(df['Surname'][surnames_mask].values, labels[surnames_mask], random_state = RANDOM_STATE)"
   ]
  },
  {
   "cell_type": "code",
   "execution_count": 119,
   "metadata": {},
   "outputs": [
    {
     "name": "stderr",
     "output_type": "stream",
     "text": [
      "C:\\Users\\anush\\Anaconda3\\lib\\site-packages\\sklearn\\metrics\\classification.py:1135: UndefinedMetricWarning: F-score is ill-defined and being set to 0.0 in labels with no predicted samples.\n",
      "  'precision', 'predicted', average, warn_for)\n",
      "C:\\Users\\anush\\Anaconda3\\lib\\site-packages\\sklearn\\metrics\\classification.py:1137: UndefinedMetricWarning: F-score is ill-defined and being set to 0.0 in labels with no true samples.\n",
      "  'recall', 'true', average, warn_for)\n"
     ]
    },
    {
     "name": "stdout",
     "output_type": "stream",
     "text": [
      "Scores on train\n",
      "accuracy = 0.5533989266547406\n",
      "f1_all = [0.23529412 0.60770235 0.25308642 0.         0.60234959 0.\n",
      " 0.48929081 0.52475248 0.         0.10526316 0.         0.50396825\n",
      " 0.39777469 0.4691358  0.         0.         0.63985702 0.\n",
      " 0.         0.74405328 0.11111111 0.44444444 0.48787447 0.\n",
      " 0.58187599]\n",
      "f1_micro = 0.5533989266547406\n",
      "f1_macro = 0.2879133592176292\n",
      "f1_weighted = 0.5495915353628488\n",
      "\n",
      "Scores on dev\n",
      "accuracy = 0.537429568017172\n",
      "f1_all = [0.44444444 0.59368836 0.12371134 0.         0.5987526  0.\n",
      " 0.45227606 0.3960396  0.         0.         0.         0.59016393\n",
      " 0.34513274 0.46046512 0.         0.         0.6446281  0.\n",
      " 0.         0.75874439 0.05405405 0.4        0.44676409 0.\n",
      " 0.53211009]\n",
      "f1_micro = 0.537429568017172\n",
      "f1_macro = 0.34204874702046767\n",
      "f1_weighted = 0.5316984020025789\n",
      "\n"
     ]
    }
   ],
   "source": [
    "clfs['nb_sn_2'] = Classifier('nb_sn_2', description=\"naive bayes on surname bigrams\")\n",
    "clfs['nb_sn_2'].fit(X_train, y_train, MultinomialNB(), vectorizer=CountVectorizer(analyzer=lambda x:get_ngrams([x],2)), metrics_dict=metrics_dict)\n",
    "clfs['nb_sn_2'].score(X_dev, y_dev, 'dev', metrics_dict=metrics_dict)"
   ]
  },
  {
   "cell_type": "code",
   "execution_count": 120,
   "metadata": {},
   "outputs": [
    {
     "name": "stderr",
     "output_type": "stream",
     "text": [
      "C:\\Users\\anush\\Anaconda3\\lib\\site-packages\\sklearn\\metrics\\classification.py:1135: UndefinedMetricWarning: F-score is ill-defined and being set to 0.0 in labels with no predicted samples.\n",
      "  'precision', 'predicted', average, warn_for)\n",
      "C:\\Users\\anush\\Anaconda3\\lib\\site-packages\\sklearn\\metrics\\classification.py:1137: UndefinedMetricWarning: F-score is ill-defined and being set to 0.0 in labels with no true samples.\n",
      "  'recall', 'true', average, warn_for)\n"
     ]
    },
    {
     "name": "stdout",
     "output_type": "stream",
     "text": [
      "Scores on train\n",
      "accuracy = 0.681216457960644\n",
      "f1_all = [0.48484848 0.76780581 0.40506329 0.         0.75703704 0.\n",
      " 0.56568627 0.6875     0.         0.2        0.         0.73221757\n",
      " 0.67718447 0.57164068 0.         0.15384615 0.76254826 0.\n",
      " 0.         0.8017673  0.37096774 0.62464722 0.63146151 0.\n",
      " 0.65934066]\n",
      "f1_micro = 0.681216457960644\n",
      "f1_macro = 0.3941424991934132\n",
      "f1_weighted = 0.6764507800644495\n",
      "\n",
      "Scores on dev\n",
      "accuracy = 0.6230211966729273\n",
      "f1_all = [0.57142857 0.72156863 0.17391304 0.         0.70031546 0.\n",
      " 0.51038576 0.60655738 0.         0.         0.         0.68674699\n",
      " 0.568      0.54054054 0.         0.         0.71559633 0.\n",
      " 0.         0.78777589 0.21052632 0.47904192 0.55755016 0.\n",
      " 0.49302326]\n",
      "f1_micro = 0.6230211966729273\n",
      "f1_macro = 0.4161485114885828\n",
      "f1_weighted = 0.6158898283169926\n",
      "\n"
     ]
    }
   ],
   "source": [
    "clfs['nb_sn_3'] = Classifier('nb_sn_3', description=\"naive bayes on surname trigrams\")\n",
    "clfs['nb_sn_3'].fit(X_train, y_train, MultinomialNB(), vectorizer=CountVectorizer(analyzer=lambda x:get_ngrams([x],3)), metrics_dict=metrics_dict)\n",
    "clfs['nb_sn_3'].score(X_dev, y_dev, 'dev', metrics_dict=metrics_dict)"
   ]
  },
  {
   "cell_type": "code",
   "execution_count": 121,
   "metadata": {},
   "outputs": [
    {
     "name": "stderr",
     "output_type": "stream",
     "text": [
      "C:\\Users\\anush\\Anaconda3\\lib\\site-packages\\sklearn\\metrics\\classification.py:1135: UndefinedMetricWarning: F-score is ill-defined and being set to 0.0 in labels with no predicted samples.\n",
      "  'precision', 'predicted', average, warn_for)\n",
      "C:\\Users\\anush\\Anaconda3\\lib\\site-packages\\sklearn\\metrics\\classification.py:1137: UndefinedMetricWarning: F-score is ill-defined and being set to 0.0 in labels with no true samples.\n",
      "  'recall', 'true', average, warn_for)\n"
     ]
    },
    {
     "name": "stdout",
     "output_type": "stream",
     "text": [
      "Scores on train\n",
      "accuracy = 0.6546511627906977\n",
      "f1_all = [0.32258065 0.74061883 0.33121019 0.         0.73545966 0.\n",
      " 0.54531451 0.63963964 0.         0.10526316 0.         0.66666667\n",
      " 0.63625731 0.57377049 0.         0.         0.74538745 0.\n",
      " 0.         0.7938238  0.33333333 0.57216495 0.57500921 0.\n",
      " 0.6913229 ]\n",
      "f1_micro = 0.6546511627906977\n",
      "f1_macro = 0.3603129098952995\n",
      "f1_weighted = 0.6496997212300953\n",
      "\n",
      "Scores on dev\n",
      "accuracy = 0.6120203917359807\n",
      "f1_all = [0.75       0.69818913 0.16326531 0.         0.70350691 0.\n",
      " 0.49920761 0.55357143 0.         0.         0.         0.66666667\n",
      " 0.53435115 0.54811715 0.         0.         0.71264368 0.\n",
      " 0.         0.78824546 0.10810811 0.43799472 0.53403141 0.\n",
      " 0.57021277]\n",
      "f1_micro = 0.6120203917359807\n",
      "f1_macro = 0.4134055750867228\n",
      "f1_weighted = 0.6053861759473466\n",
      "\n"
     ]
    }
   ],
   "source": [
    "clfs['nb_sn_23'] = Classifier('nb_sn_23', description=\"naive bayes on surname bigrams and trigrams\")\n",
    "clfs['nb_sn_23'].fit(X_train, y_train, MultinomialNB(), vectorizer=CountVectorizer(analyzer=lambda x:get_ngrams([x],2)+get_ngrams([x],3)), metrics_dict=metrics_dict)\n",
    "clfs['nb_sn_23'].score(X_dev, y_dev, 'dev', metrics_dict=metrics_dict)"
   ]
  },
  {
   "cell_type": "code",
   "execution_count": 24,
   "metadata": {},
   "outputs": [],
   "source": [
    "X_train, X_dev, y_train, y_dev = train_test_split(df[['Name','Surname']][fullnames_mask].values, labels[fullnames_mask], random_state = RANDOM_STATE)"
   ]
  },
  {
   "cell_type": "code",
   "execution_count": 32,
   "metadata": {},
   "outputs": [
    {
     "name": "stderr",
     "output_type": "stream",
     "text": [
      "C:\\Users\\anush\\Anaconda3\\lib\\site-packages\\sklearn\\metrics\\classification.py:1135: UndefinedMetricWarning: F-score is ill-defined and being set to 0.0 in labels with no predicted samples.\n",
      "  'precision', 'predicted', average, warn_for)\n",
      "C:\\Users\\anush\\Anaconda3\\lib\\site-packages\\sklearn\\metrics\\classification.py:1137: UndefinedMetricWarning: F-score is ill-defined and being set to 0.0 in labels with no true samples.\n",
      "  'recall', 'true', average, warn_for)\n"
     ]
    },
    {
     "name": "stdout",
     "output_type": "stream",
     "text": [
      "Scores on train\n",
      "accuracy = 0.7432015953589558\n",
      "f1_all = [0.4137931  0.79614874 0.42524917 0.         0.78327833 0.\n",
      " 0.70293083 0.71195652 0.         0.61538462 0.22222222 0.78225806\n",
      " 0.70698925 0.65679926 1.         0.2        0.73969631 1.\n",
      " 0.         0.82123386 0.62585034 0.68706811 0.71754069 0.\n",
      " 0.77399381]\n",
      "f1_micro = 0.7432015953589558\n",
      "f1_macro = 0.535295728967625\n",
      "f1_weighted = 0.7393184063807705\n",
      "\n",
      "Scores on dev\n",
      "accuracy = 0.6623164763458401\n",
      "f1_all = [0.         0.75804968 0.27368421 0.         0.69621622 0.\n",
      " 0.65876153 0.57142857 0.         0.         0.         0.66206897\n",
      " 0.59649123 0.51873199 0.         0.         0.63492063 0.\n",
      " 0.         0.77744807 0.23529412 0.53333333 0.60262009 0.\n",
      " 0.69918699]\n",
      "f1_micro = 0.6623164763458401\n",
      "f1_macro = 0.39134455347117025\n",
      "f1_weighted = 0.655566355677859\n",
      "\n"
     ]
    }
   ],
   "source": [
    "clfs['nb_fsn_3'] = Classifier('nb_fsn_3', description=\"naive bayes on first name and surname trigrams\")\n",
    "clfs['nb_fsn_3'].fit(X_train, y_train, MultinomialNB(), vectorizer=CountVectorizer(analyzer=lambda x:get_ngrams(x,3)), metrics_dict=metrics_dict)\n",
    "clfs['nb_fsn_3'].score(X_dev, y_dev, 'dev', metrics_dict=metrics_dict)"
   ]
  },
  {
   "cell_type": "code",
   "execution_count": 124,
   "metadata": {},
   "outputs": [
    {
     "name": "stderr",
     "output_type": "stream",
     "text": [
      "C:\\Users\\anush\\Anaconda3\\lib\\site-packages\\sklearn\\metrics\\classification.py:1135: UndefinedMetricWarning: F-score is ill-defined and being set to 0.0 in labels with no predicted samples.\n",
      "  'precision', 'predicted', average, warn_for)\n"
     ]
    },
    {
     "name": "stdout",
     "output_type": "stream",
     "text": [
      "Scores on train\n",
      "accuracy = 0.6999637418419145\n",
      "f1_all = [0.35714286 0.75017349 0.35294118 0.         0.74697025 0.\n",
      " 0.6471464  0.64788732 0.         0.28571429 0.22222222 0.74851485\n",
      " 0.66666667 0.6038688  0.         0.2        0.70348837 0.\n",
      " 0.         0.79584176 0.57534247 0.64632984 0.67924528 0.\n",
      " 0.71468144]\n",
      "f1_micro = 0.6999637418419145\n",
      "f1_macro = 0.4137670992768108\n",
      "f1_weighted = 0.6956513431974882\n",
      "\n"
     ]
    },
    {
     "name": "stderr",
     "output_type": "stream",
     "text": [
      "C:\\Users\\anush\\Anaconda3\\lib\\site-packages\\sklearn\\metrics\\classification.py:1137: UndefinedMetricWarning: F-score is ill-defined and being set to 0.0 in labels with no true samples.\n",
      "  'recall', 'true', average, warn_for)\n"
     ]
    },
    {
     "name": "stdout",
     "output_type": "stream",
     "text": [
      "Scores on dev\n",
      "accuracy = 0.6326808047852094\n",
      "f1_all = [0.         0.70805044 0.27956989 0.         0.66738197 0.\n",
      " 0.6147248  0.5620915  0.         0.22222222 0.         0.66225166\n",
      " 0.55319149 0.52083333 0.         0.         0.60941828 0.\n",
      " 0.         0.75648703 0.23529412 0.5398773  0.58092176 0.\n",
      " 0.68100358]\n",
      "f1_micro = 0.6326808047852094\n",
      "f1_macro = 0.39015806567590683\n",
      "f1_weighted = 0.6280114240072823\n",
      "\n"
     ]
    }
   ],
   "source": [
    "clfs['nb_fsn_23'] = Classifier('nb_fsn_23', description=\"naive bayes on first name and surname bigrams trigrams\")\n",
    "clfs['nb_fsn_23'].fit(X_train, y_train, MultinomialNB(), vectorizer=CountVectorizer(analyzer=lambda x:get_ngrams(x,2) + get_ngrams(x,3)), metrics_dict=metrics_dict)\n",
    "clfs['nb_fsn_23'].score(X_dev, y_dev, 'dev', metrics_dict=metrics_dict)"
   ]
  },
  {
   "cell_type": "markdown",
   "metadata": {},
   "source": [
    "Hence Trigrams for both first and last names are most meaningful for Naive Bayes classifier"
   ]
  },
  {
   "cell_type": "code",
   "execution_count": 125,
   "metadata": {},
   "outputs": [
    {
     "name": "stdout",
     "output_type": "stream",
     "text": [
      "assamese\n",
      "['aab' 'onj' 'onk' 'onn' 'ono' 'onp' 'ons' 'ont' 'onu' 'onv']\n",
      "bengali\n",
      "['lhe' 'mmi' 'mle' 'mku' 'mkr' 'mke' 'mka' 'mji' 'mjh' 'mje']\n",
      "english\n",
      "['aab' 'ohi' 'ohk' 'ohl' 'ohm' 'oho' 'ohr' 'oht' 'ohu' 'oia']\n",
      "garhwali\n",
      "['aab' 'ope' 'oph' 'opi' 'opl' 'opn' 'opo' 'opr' 'ora' 'ord']\n",
      "gujarati\n",
      "['aab' 'nie' 'nif' 'nig' 'nij' 'nip' 'niw' 'niy' 'niz' 'njh']\n",
      "haryanavi\n",
      "['aab' 'ope' 'oph' 'opi' 'opl' 'opn' 'opo' 'opr' 'ora' 'ord']\n",
      "hindi\n",
      "['aab' 'nib' 'nic' 'nid' 'nie' 'nif' 'nij' 'nin' 'nip' 'niz']\n",
      "kannada\n",
      "['aab' 'oen' 'oer' 'ofa' 'ofe' 'off' 'ofi' 'ogc' 'ogh' 'ogi']\n",
      "kashmiri\n",
      "['aab' 'opl' 'opn' 'opo' 'opr' 'ora' 'ord' 'ore' 'org' 'ori']\n",
      "konkani\n",
      "['aab' 'ony' 'oob' 'ood' 'oof' 'ooh' 'ooj' 'ool' 'oom' 'oon']\n",
      "kumaoni\n",
      "['aab' 'oop' 'oor' 'opa' 'ope' 'oph' 'opi' 'opl' 'opn' 'opo']\n",
      "malayalam\n",
      "['aab' 'oct' 'odb' 'odd' 'odh' 'odi' 'odj' 'odr' 'odw' 'ody']\n",
      "marathi\n",
      "['aab' 'odj' 'odr' 'odw' 'ody' 'oeb' 'oel' 'oem' 'oen' 'oer']\n",
      "marwari\n",
      "['aab' 'nra' 'nri' 'nsd' 'nse' 'nsi' 'nso' 'nsr' 'nss' 'nsu']\n",
      "mizo\n",
      "['aab' 'opi' 'opl' 'opn' 'opo' 'opr' 'ora' 'ord' 'ore' 'org']\n",
      "nepali\n",
      "['aab' 'oom' 'oon' 'oop' 'oor' 'opa' 'ope' 'oph' 'opi' 'opl']\n",
      "oriya\n",
      "['aab' 'nse' 'nsg' 'nsh' 'nsi' 'nso' 'nsr' 'nss' 'nsu' 'nsy']\n",
      "pashto\n",
      "['aab' 'opi' 'opl' 'opn' 'opo' 'opr' 'ord' 'ore' 'org' 'ori']\n",
      "persian\n",
      "['aab' 'opi' 'opl' 'opn' 'opo' 'opr' 'ora' 'ord' 'ore' 'org']\n",
      "punjabi\n",
      "['aab' 'nas' 'nat' 'naw' 'naz' 'nbu' 'ncy' 'naq' 'ndg' 'ndl']\n",
      "sindhi\n",
      "['aab' 'oka' 'okb' 'okc' 'oke' 'okh' 'okk' 'oks' 'oku' 'ola']\n",
      "tamil\n",
      "['aab' 'ntk' 'ntn' 'ntr' 'ntu' 'ntw' 'nub' 'nue' 'nug' 'nte']\n",
      "telugu\n",
      "['aab' 'ncy' 'ndg' 'ndk' 'ndn' 'nds' 'ndv' 'nca' 'ndy' 'neh']\n",
      "tulu\n",
      "['aab' 'oph' 'opi' 'opl' 'opn' 'opo' 'opr' 'ora' 'ord' 'ore']\n",
      "urdu\n",
      "['aab' 'odj' 'odw' 'ody' 'oel' 'oem' 'oen' 'oer' 'ofa' 'ofe']\n"
     ]
    }
   ],
   "source": [
    "# 10 most impt features for each class\n",
    "for i, class_idx in enumerate(clfs['nb_fsn_3'].clf.classes_):\n",
    "    print(le.classes_[class_idx])\n",
    "    class_prob_sorted = clfs['nb_fsn_3'].clf.feature_log_prob_[i, :].argsort()\n",
    "    print(np.take(clfs['nb_fsn_3'].vectorizer.get_feature_names(), class_prob_sorted[:10]))"
   ]
  },
  {
   "cell_type": "markdown",
   "metadata": {},
   "source": [
    "train and dev f1 scores for each community as well as the total number of samples available for the community"
   ]
  },
  {
   "cell_type": "code",
   "execution_count": 33,
   "metadata": {},
   "outputs": [],
   "source": [
    "clfs['nb_fsn_3'].scores_df = pd.DataFrame({'f1_train':clfs['nb_fsn_3'].scores['train']['f1_all'], 'f1_dev':clfs['nb_fsn_3'].scores['dev']['f1_all']}, index=le.classes_).join(pd.DataFrame(df['Community'].value_counts().rename('value_counts')))"
   ]
  },
  {
   "cell_type": "code",
   "execution_count": 34,
   "metadata": {},
   "outputs": [
    {
     "data": {
      "text/html": [
       "<div>\n",
       "<style scoped>\n",
       "    .dataframe tbody tr th:only-of-type {\n",
       "        vertical-align: middle;\n",
       "    }\n",
       "\n",
       "    .dataframe tbody tr th {\n",
       "        vertical-align: top;\n",
       "    }\n",
       "\n",
       "    .dataframe thead th {\n",
       "        text-align: right;\n",
       "    }\n",
       "</style>\n",
       "<table border=\"1\" class=\"dataframe\">\n",
       "  <thead>\n",
       "    <tr style=\"text-align: right;\">\n",
       "      <th></th>\n",
       "      <th>f1_dev</th>\n",
       "      <th>f1_train</th>\n",
       "      <th>value_counts</th>\n",
       "    </tr>\n",
       "  </thead>\n",
       "  <tbody>\n",
       "    <tr>\n",
       "      <th>mizo</th>\n",
       "      <td>0.000000</td>\n",
       "      <td>1.000000</td>\n",
       "      <td>1</td>\n",
       "    </tr>\n",
       "    <tr>\n",
       "      <th>pashto</th>\n",
       "      <td>0.000000</td>\n",
       "      <td>1.000000</td>\n",
       "      <td>1</td>\n",
       "    </tr>\n",
       "    <tr>\n",
       "      <th>persian</th>\n",
       "      <td>0.000000</td>\n",
       "      <td>0.000000</td>\n",
       "      <td>1</td>\n",
       "    </tr>\n",
       "    <tr>\n",
       "      <th>kashmiri</th>\n",
       "      <td>0.000000</td>\n",
       "      <td>0.000000</td>\n",
       "      <td>2</td>\n",
       "    </tr>\n",
       "    <tr>\n",
       "      <th>tulu</th>\n",
       "      <td>0.000000</td>\n",
       "      <td>0.000000</td>\n",
       "      <td>4</td>\n",
       "    </tr>\n",
       "    <tr>\n",
       "      <th>garhwali</th>\n",
       "      <td>0.000000</td>\n",
       "      <td>0.000000</td>\n",
       "      <td>6</td>\n",
       "    </tr>\n",
       "    <tr>\n",
       "      <th>haryanavi</th>\n",
       "      <td>0.000000</td>\n",
       "      <td>0.000000</td>\n",
       "      <td>6</td>\n",
       "    </tr>\n",
       "    <tr>\n",
       "      <th>kumaoni</th>\n",
       "      <td>0.000000</td>\n",
       "      <td>0.222222</td>\n",
       "      <td>10</td>\n",
       "    </tr>\n",
       "    <tr>\n",
       "      <th>nepali</th>\n",
       "      <td>0.000000</td>\n",
       "      <td>0.200000</td>\n",
       "      <td>13</td>\n",
       "    </tr>\n",
       "    <tr>\n",
       "      <th>konkani</th>\n",
       "      <td>0.000000</td>\n",
       "      <td>0.615385</td>\n",
       "      <td>26</td>\n",
       "    </tr>\n",
       "    <tr>\n",
       "      <th>assamese</th>\n",
       "      <td>0.000000</td>\n",
       "      <td>0.413793</td>\n",
       "      <td>30</td>\n",
       "    </tr>\n",
       "    <tr>\n",
       "      <th>sindhi</th>\n",
       "      <td>0.235294</td>\n",
       "      <td>0.625850</td>\n",
       "      <td>131</td>\n",
       "    </tr>\n",
       "    <tr>\n",
       "      <th>english</th>\n",
       "      <td>0.273684</td>\n",
       "      <td>0.425249</td>\n",
       "      <td>302</td>\n",
       "    </tr>\n",
       "    <tr>\n",
       "      <th>marwari</th>\n",
       "      <td>0.518732</td>\n",
       "      <td>0.656799</td>\n",
       "      <td>674</td>\n",
       "    </tr>\n",
       "    <tr>\n",
       "      <th>tamil</th>\n",
       "      <td>0.533333</td>\n",
       "      <td>0.687068</td>\n",
       "      <td>661</td>\n",
       "    </tr>\n",
       "    <tr>\n",
       "      <th>kannada</th>\n",
       "      <td>0.571429</td>\n",
       "      <td>0.711957</td>\n",
       "      <td>358</td>\n",
       "    </tr>\n",
       "    <tr>\n",
       "      <th>marathi</th>\n",
       "      <td>0.596491</td>\n",
       "      <td>0.706989</td>\n",
       "      <td>545</td>\n",
       "    </tr>\n",
       "    <tr>\n",
       "      <th>telugu</th>\n",
       "      <td>0.602620</td>\n",
       "      <td>0.717541</td>\n",
       "      <td>1770</td>\n",
       "    </tr>\n",
       "    <tr>\n",
       "      <th>oriya</th>\n",
       "      <td>0.634921</td>\n",
       "      <td>0.739696</td>\n",
       "      <td>672</td>\n",
       "    </tr>\n",
       "    <tr>\n",
       "      <th>hindi</th>\n",
       "      <td>0.658762</td>\n",
       "      <td>0.702931</td>\n",
       "      <td>2935</td>\n",
       "    </tr>\n",
       "    <tr>\n",
       "      <th>malayalam</th>\n",
       "      <td>0.662069</td>\n",
       "      <td>0.782258</td>\n",
       "      <td>364</td>\n",
       "    </tr>\n",
       "    <tr>\n",
       "      <th>gujarati</th>\n",
       "      <td>0.696216</td>\n",
       "      <td>0.783278</td>\n",
       "      <td>1760</td>\n",
       "    </tr>\n",
       "    <tr>\n",
       "      <th>urdu</th>\n",
       "      <td>0.699187</td>\n",
       "      <td>0.773994</td>\n",
       "      <td>446</td>\n",
       "    </tr>\n",
       "    <tr>\n",
       "      <th>bengali</th>\n",
       "      <td>0.758050</td>\n",
       "      <td>0.796149</td>\n",
       "      <td>2073</td>\n",
       "    </tr>\n",
       "    <tr>\n",
       "      <th>punjabi</th>\n",
       "      <td>0.777448</td>\n",
       "      <td>0.821234</td>\n",
       "      <td>2208</td>\n",
       "    </tr>\n",
       "  </tbody>\n",
       "</table>\n",
       "</div>"
      ],
      "text/plain": [
       "             f1_dev  f1_train  value_counts\n",
       "mizo       0.000000  1.000000             1\n",
       "pashto     0.000000  1.000000             1\n",
       "persian    0.000000  0.000000             1\n",
       "kashmiri   0.000000  0.000000             2\n",
       "tulu       0.000000  0.000000             4\n",
       "garhwali   0.000000  0.000000             6\n",
       "haryanavi  0.000000  0.000000             6\n",
       "kumaoni    0.000000  0.222222            10\n",
       "nepali     0.000000  0.200000            13\n",
       "konkani    0.000000  0.615385            26\n",
       "assamese   0.000000  0.413793            30\n",
       "sindhi     0.235294  0.625850           131\n",
       "english    0.273684  0.425249           302\n",
       "marwari    0.518732  0.656799           674\n",
       "tamil      0.533333  0.687068           661\n",
       "kannada    0.571429  0.711957           358\n",
       "marathi    0.596491  0.706989           545\n",
       "telugu     0.602620  0.717541          1770\n",
       "oriya      0.634921  0.739696           672\n",
       "hindi      0.658762  0.702931          2935\n",
       "malayalam  0.662069  0.782258           364\n",
       "gujarati   0.696216  0.783278          1760\n",
       "urdu       0.699187  0.773994           446\n",
       "bengali    0.758050  0.796149          2073\n",
       "punjabi    0.777448  0.821234          2208"
      ]
     },
     "execution_count": 34,
     "metadata": {},
     "output_type": "execute_result"
    }
   ],
   "source": [
    "clfs['nb_fsn_3'].scores_df.sort_values(by=['f1_dev','value_counts'])"
   ]
  },
  {
   "cell_type": "markdown",
   "metadata": {},
   "source": [
    "NB classifier on first name and last name trigrams does relatively well on Punjabi and Bengali names.\n",
    "\n",
    "Overall, the greater number of available examples for a class, the better the performance (dev)."
   ]
  },
  {
   "cell_type": "markdown",
   "metadata": {},
   "source": [
    "## Random Forest"
   ]
  },
  {
   "cell_type": "code",
   "execution_count": 16,
   "metadata": {},
   "outputs": [],
   "source": [
    "from sklearn.ensemble import RandomForestClassifier"
   ]
  },
  {
   "cell_type": "code",
   "execution_count": 138,
   "metadata": {},
   "outputs": [
    {
     "name": "stdout",
     "output_type": "stream",
     "text": [
      "Scores on train\n",
      "accuracy = 0.9887599709934736\n",
      "f1_all = [1.         0.98930481 0.97706422 1.         0.99237805 1.\n",
      " 0.98466468 0.99539171 1.         0.94444444 1.         0.99447514\n",
      " 0.99393939 0.98274112 1.         1.         0.99391481 1.\n",
      " 1.         0.98962348 0.99459459 0.98850575 0.99003831 1.\n",
      " 0.98157454]\n",
      "f1_micro = 0.9887599709934736\n",
      "f1_macro = 0.9917062018504751\n",
      "f1_weighted = 0.9887548927659521\n",
      "\n"
     ]
    },
    {
     "name": "stderr",
     "output_type": "stream",
     "text": [
      "C:\\Users\\anush\\Anaconda3\\lib\\site-packages\\sklearn\\metrics\\classification.py:1135: UndefinedMetricWarning: F-score is ill-defined and being set to 0.0 in labels with no predicted samples.\n",
      "  'precision', 'predicted', average, warn_for)\n",
      "C:\\Users\\anush\\Anaconda3\\lib\\site-packages\\sklearn\\metrics\\classification.py:1137: UndefinedMetricWarning: F-score is ill-defined and being set to 0.0 in labels with no true samples.\n",
      "  'recall', 'true', average, warn_for)\n"
     ]
    },
    {
     "name": "stdout",
     "output_type": "stream",
     "text": [
      "Scores on dev\n",
      "accuracy = 0.7074497009244154\n",
      "f1_all = [0.22222222 0.80408859 0.42519685 0.5        0.72508215 0.\n",
      " 0.71192661 0.61935484 0.         0.2        0.66666667 0.7133758\n",
      " 0.62100457 0.47940075 0.         0.         0.74461538 0.\n",
      " 0.         0.79669763 0.56       0.64285714 0.6482593  0.\n",
      " 0.63589744]\n",
      "f1_micro = 0.7074497009244154\n",
      "f1_macro = 0.5103164724409006\n",
      "f1_weighted = 0.7011945971881904\n",
      "\n"
     ]
    }
   ],
   "source": [
    "clfs['rf_fsn_3'] = Classifier('rf_fsn_3', description=\"random forest on first name and surname trigrams\")\n",
    "clfs['rf_fsn_3'].fit(X_train, y_train, RandomForestClassifier(), vectorizer=CountVectorizer(analyzer=lambda x:get_ngrams(x,3)), metrics_dict=metrics_dict)\n",
    "clfs['rf_fsn_3'].score(X_dev, y_dev, 'dev', metrics_dict=metrics_dict)"
   ]
  },
  {
   "cell_type": "markdown",
   "metadata": {},
   "source": [
    "Random Forest overfits on data.\n",
    "\n",
    "Trying Search over hyperparameters to reduce variance"
   ]
  },
  {
   "cell_type": "code",
   "execution_count": 142,
   "metadata": {},
   "outputs": [
    {
     "name": "stdout",
     "output_type": "stream",
     "text": [
      "Parameters currently in use:\n",
      "\n",
      "{'bootstrap': True,\n",
      " 'class_weight': None,\n",
      " 'criterion': 'gini',\n",
      " 'max_depth': None,\n",
      " 'max_features': 'auto',\n",
      " 'max_leaf_nodes': None,\n",
      " 'min_impurity_decrease': 0.0,\n",
      " 'min_impurity_split': None,\n",
      " 'min_samples_leaf': 1,\n",
      " 'min_samples_split': 2,\n",
      " 'min_weight_fraction_leaf': 0.0,\n",
      " 'n_estimators': 10,\n",
      " 'n_jobs': 1,\n",
      " 'oob_score': False,\n",
      " 'random_state': None,\n",
      " 'verbose': 0,\n",
      " 'warm_start': False}\n"
     ]
    }
   ],
   "source": [
    "from pprint import pprint\n",
    "# Look at parameters used by our current forest\n",
    "print('Parameters currently in use:\\n')\n",
    "pprint(clfs['rf_fsn_3'].clf.get_params())"
   ]
  },
  {
   "cell_type": "code",
   "execution_count": 131,
   "metadata": {},
   "outputs": [],
   "source": [
    "from sklearn.model_selection import RandomizedSearchCV"
   ]
  },
  {
   "cell_type": "code",
   "execution_count": 152,
   "metadata": {},
   "outputs": [],
   "source": [
    "random_grid = \\\n",
    "{'bootstrap': [True, False],\n",
    " 'max_depth': [None]+list(range(5,50,5)),\n",
    " 'max_features': ['auto', 'sqrt'],\n",
    " 'min_samples_leaf': list(range(1,12)),\n",
    " 'min_samples_split': list(range(2,21)),\n",
    " 'n_estimators': list(range(1,25))}"
   ]
  },
  {
   "cell_type": "code",
   "execution_count": 163,
   "metadata": {},
   "outputs": [
    {
     "name": "stdout",
     "output_type": "stream",
     "text": [
      "Fitting 4 folds for each of 100 candidates, totalling 400 fits\n"
     ]
    },
    {
     "name": "stderr",
     "output_type": "stream",
     "text": [
      "C:\\Users\\anush\\Anaconda3\\lib\\site-packages\\sklearn\\model_selection\\_split.py:605: Warning: The least populated class in y has only 1 members, which is too few. The minimum number of members in any class cannot be less than n_splits=4.\n",
      "  % (min_groups, self.n_splits)), Warning)\n",
      "[Parallel(n_jobs=-1)]: Done  25 tasks      | elapsed:   10.6s\n",
      "[Parallel(n_jobs=-1)]: Done 146 tasks      | elapsed:   21.7s\n",
      "[Parallel(n_jobs=-1)]: Done 349 tasks      | elapsed:   40.0s\n",
      "[Parallel(n_jobs=-1)]: Done 400 out of 400 | elapsed:   45.7s finished\n"
     ]
    },
    {
     "data": {
      "text/plain": [
       "RandomizedSearchCV(cv=4, error_score='raise',\n",
       "          estimator=RandomForestClassifier(bootstrap=True, class_weight=None, criterion='gini',\n",
       "            max_depth=None, max_features='auto', max_leaf_nodes=None,\n",
       "            min_impurity_decrease=0.0, min_impurity_split=None,\n",
       "            min_samples_leaf=1, min_samples_split=2,\n",
       "            min_weight_fraction_leaf=0.0, n_estimators=10, n_jobs=1,\n",
       "            oob_score=False, random_state=None, verbose=0,\n",
       "            warm_start=False),\n",
       "          fit_params=None, iid=True, n_iter=100, n_jobs=-1,\n",
       "          param_distributions={'bootstrap': [True, False], 'max_depth': [None, 5, 10, 15, 20, 25, 30, 35, 40, 45], 'max_features': ['auto', 'sqrt'], 'min_samples_leaf': [1, 2, 3, 4, 5, 6, 7, 8, 9, 10, 11], 'min_samples_split': [2, 3, 4, 5, 6, 7, 8, 9, 10, 11, 12, 13, 14, 15, 16, 17, 18, 19, 20], 'n_estimators': [1, 2, 3, 4, 5, 6, 7, 8, 9, 10, 11, 12, 13, 14, 15, 16, 17, 18, 19, 20, 21, 22, 23, 24]},\n",
       "          pre_dispatch='2*n_jobs', random_state=0, refit=True,\n",
       "          return_train_score='warn', scoring=None, verbose=2)"
      ]
     },
     "execution_count": 163,
     "metadata": {},
     "output_type": "execute_result"
    }
   ],
   "source": [
    "X_train_v = clfs['rf_fsn_3'].vectorizer.transform(X_train)\n",
    "rf = RandomForestClassifier()\n",
    "\n",
    "rf_random = RandomizedSearchCV(estimator = rf, param_distributions = random_grid, n_iter = 100, cv = 4, verbose=2, random_state=RANDOM_STATE, n_jobs = -1)\n",
    "\n",
    "rf_random.fit(X_train_v, y_train)"
   ]
  },
  {
   "cell_type": "code",
   "execution_count": 154,
   "metadata": {},
   "outputs": [
    {
     "data": {
      "text/plain": [
       "{'bootstrap': False,\n",
       " 'max_depth': None,\n",
       " 'max_features': 'auto',\n",
       " 'min_samples_leaf': 2,\n",
       " 'min_samples_split': 19,\n",
       " 'n_estimators': 18}"
      ]
     },
     "execution_count": 154,
     "metadata": {},
     "output_type": "execute_result"
    }
   ],
   "source": [
    "rf_random.best_params_"
   ]
  },
  {
   "cell_type": "code",
   "execution_count": 167,
   "metadata": {},
   "outputs": [
    {
     "name": "stderr",
     "output_type": "stream",
     "text": [
      "C:\\Users\\anush\\Anaconda3\\lib\\site-packages\\sklearn\\metrics\\classification.py:1135: UndefinedMetricWarning: F-score is ill-defined and being set to 0.0 in labels with no predicted samples.\n",
      "  'precision', 'predicted', average, warn_for)\n"
     ]
    },
    {
     "name": "stdout",
     "output_type": "stream",
     "text": [
      "Scores on train\n",
      "accuracy = 0.78535170413343\n",
      "f1_all = [0.51612903 0.83385777 0.43835616 0.         0.82191781 0.28571429\n",
      " 0.75522322 0.71794872 0.         0.56       0.4        0.8111332\n",
      " 0.74725275 0.59767442 0.         0.61538462 0.78586724 0.\n",
      " 0.         0.86292655 0.6122449  0.74543502 0.79108635 0.\n",
      " 0.77922078]\n",
      "f1_micro = 0.7853517041334299\n",
      "f1_macro = 0.5070949126375863\n",
      "f1_weighted = 0.7795447721161721\n",
      "\n"
     ]
    },
    {
     "name": "stderr",
     "output_type": "stream",
     "text": [
      "C:\\Users\\anush\\Anaconda3\\lib\\site-packages\\sklearn\\metrics\\classification.py:1137: UndefinedMetricWarning: F-score is ill-defined and being set to 0.0 in labels with no true samples.\n",
      "  'recall', 'true', average, warn_for)\n"
     ]
    },
    {
     "name": "stdout",
     "output_type": "stream",
     "text": [
      "Scores on dev\n",
      "accuracy = 0.6859706362153344\n",
      "f1_all = [0.         0.77796902 0.35164835 0.         0.72829763 0.\n",
      " 0.67625    0.58823529 0.         0.22222222 0.         0.67114094\n",
      " 0.63013699 0.49438202 0.         0.         0.69902913 0.\n",
      " 0.         0.791381   0.30508475 0.56357388 0.64059197 0.\n",
      " 0.61139896]\n",
      "f1_micro = 0.6859706362153344\n",
      "f1_macro = 0.41673057865823826\n",
      "f1_weighted = 0.6768852564648038\n",
      "\n"
     ]
    }
   ],
   "source": [
    "clfs['rf_fsn_3_randsearch'] = Classifier('rf_fsn_3_randsearch', description=\"random forest on first name and surname trigrams, min_samples_split=10\")\n",
    "clfs['rf_fsn_3_randsearch'].fit(X_train, y_train, RandomForestClassifier().set_params(**rf_random.best_params_), vectorizer=CountVectorizer(analyzer=lambda x:get_ngrams(x,3)), metrics_dict=metrics_dict)\n",
    "clfs['rf_fsn_3_randsearch'].score(X_dev, y_dev, 'dev', metrics_dict=metrics_dict)"
   ]
  },
  {
   "cell_type": "markdown",
   "metadata": {},
   "source": [
    "Lower dev scores.. ??"
   ]
  },
  {
   "cell_type": "markdown",
   "metadata": {},
   "source": [
    "Trying a grid search on parameter ranges that seem promising"
   ]
  },
  {
   "cell_type": "code",
   "execution_count": 145,
   "metadata": {},
   "outputs": [],
   "source": [
    "from sklearn.model_selection import GridSearchCV"
   ]
  },
  {
   "cell_type": "code",
   "execution_count": 164,
   "metadata": {},
   "outputs": [],
   "source": [
    "params_grid = \\\n",
    "{'min_samples_split': list(range(2,7))+list(range(15,21)),\n",
    " 'n_estimators': list(range(8,12))+list(range(18,21))}"
   ]
  },
  {
   "cell_type": "code",
   "execution_count": 165,
   "metadata": {},
   "outputs": [
    {
     "data": {
      "text/plain": [
       "{'min_samples_split': [2, 3, 4, 5, 6, 15, 16, 17, 18, 19, 20],\n",
       " 'n_estimators': [8, 9, 10, 11, 18, 19, 20]}"
      ]
     },
     "execution_count": 165,
     "metadata": {},
     "output_type": "execute_result"
    }
   ],
   "source": [
    "params_grid"
   ]
  },
  {
   "cell_type": "code",
   "execution_count": 168,
   "metadata": {},
   "outputs": [
    {
     "name": "stdout",
     "output_type": "stream",
     "text": [
      "Fitting 4 folds for each of 77 candidates, totalling 308 fits\n",
      "[CV] min_samples_split=2, n_estimators=8 .............................\n"
     ]
    },
    {
     "name": "stderr",
     "output_type": "stream",
     "text": [
      "C:\\Users\\anush\\Anaconda3\\lib\\site-packages\\sklearn\\model_selection\\_split.py:605: Warning: The least populated class in y has only 1 members, which is too few. The minimum number of members in any class cannot be less than n_splits=4.\n",
      "  % (min_groups, self.n_splits)), Warning)\n"
     ]
    },
    {
     "name": "stdout",
     "output_type": "stream",
     "text": [
      "[CV] .............. min_samples_split=2, n_estimators=8, total=   3.1s\n",
      "[CV] min_samples_split=2, n_estimators=8 .............................\n"
     ]
    },
    {
     "name": "stderr",
     "output_type": "stream",
     "text": [
      "[Parallel(n_jobs=1)]: Done   1 out of   1 | elapsed:    3.2s remaining:    0.0s\n"
     ]
    },
    {
     "name": "stdout",
     "output_type": "stream",
     "text": [
      "[CV] .............. min_samples_split=2, n_estimators=8, total=   2.9s\n",
      "[CV] min_samples_split=2, n_estimators=8 .............................\n",
      "[CV] .............. min_samples_split=2, n_estimators=8, total=   2.7s\n",
      "[CV] min_samples_split=2, n_estimators=8 .............................\n",
      "[CV] .............. min_samples_split=2, n_estimators=8, total=   2.8s\n",
      "[CV] min_samples_split=2, n_estimators=9 .............................\n",
      "[CV] .............. min_samples_split=2, n_estimators=9, total=   2.7s\n",
      "[CV] min_samples_split=2, n_estimators=9 .............................\n",
      "[CV] .............. min_samples_split=2, n_estimators=9, total=   3.2s\n",
      "[CV] min_samples_split=2, n_estimators=9 .............................\n",
      "[CV] .............. min_samples_split=2, n_estimators=9, total=   3.9s\n",
      "[CV] min_samples_split=2, n_estimators=9 .............................\n",
      "[CV] .............. min_samples_split=2, n_estimators=9, total=   3.6s\n",
      "[CV] min_samples_split=2, n_estimators=10 ............................\n",
      "[CV] ............. min_samples_split=2, n_estimators=10, total=   4.0s\n",
      "[CV] min_samples_split=2, n_estimators=10 ............................\n",
      "[CV] ............. min_samples_split=2, n_estimators=10, total=   4.2s\n",
      "[CV] min_samples_split=2, n_estimators=10 ............................\n",
      "[CV] ............. min_samples_split=2, n_estimators=10, total=   3.8s\n",
      "[CV] min_samples_split=2, n_estimators=10 ............................\n",
      "[CV] ............. min_samples_split=2, n_estimators=10, total=   4.2s\n",
      "[CV] min_samples_split=2, n_estimators=11 ............................\n",
      "[CV] ............. min_samples_split=2, n_estimators=11, total=   3.6s\n",
      "[CV] min_samples_split=2, n_estimators=11 ............................\n",
      "[CV] ............. min_samples_split=2, n_estimators=11, total=   3.3s\n",
      "[CV] min_samples_split=2, n_estimators=11 ............................\n",
      "[CV] ............. min_samples_split=2, n_estimators=11, total=   3.4s\n",
      "[CV] min_samples_split=2, n_estimators=11 ............................\n",
      "[CV] ............. min_samples_split=2, n_estimators=11, total=   3.3s\n",
      "[CV] min_samples_split=2, n_estimators=18 ............................\n",
      "[CV] ............. min_samples_split=2, n_estimators=18, total=   6.2s\n",
      "[CV] min_samples_split=2, n_estimators=18 ............................\n",
      "[CV] ............. min_samples_split=2, n_estimators=18, total=   6.2s\n",
      "[CV] min_samples_split=2, n_estimators=18 ............................\n",
      "[CV] ............. min_samples_split=2, n_estimators=18, total=   5.6s\n",
      "[CV] min_samples_split=2, n_estimators=18 ............................\n",
      "[CV] ............. min_samples_split=2, n_estimators=18, total=   5.6s\n",
      "[CV] min_samples_split=2, n_estimators=19 ............................\n",
      "[CV] ............. min_samples_split=2, n_estimators=19, total=   5.8s\n",
      "[CV] min_samples_split=2, n_estimators=19 ............................\n",
      "[CV] ............. min_samples_split=2, n_estimators=19, total=   5.8s\n",
      "[CV] min_samples_split=2, n_estimators=19 ............................\n",
      "[CV] ............. min_samples_split=2, n_estimators=19, total=   6.0s\n",
      "[CV] min_samples_split=2, n_estimators=19 ............................\n",
      "[CV] ............. min_samples_split=2, n_estimators=19, total=   5.8s\n",
      "[CV] min_samples_split=2, n_estimators=20 ............................\n",
      "[CV] ............. min_samples_split=2, n_estimators=20, total=   6.0s\n",
      "[CV] min_samples_split=2, n_estimators=20 ............................\n",
      "[CV] ............. min_samples_split=2, n_estimators=20, total=   6.0s\n",
      "[CV] min_samples_split=2, n_estimators=20 ............................\n",
      "[CV] ............. min_samples_split=2, n_estimators=20, total=   6.3s\n",
      "[CV] min_samples_split=2, n_estimators=20 ............................\n",
      "[CV] ............. min_samples_split=2, n_estimators=20, total=   6.5s\n",
      "[CV] min_samples_split=3, n_estimators=8 .............................\n",
      "[CV] .............. min_samples_split=3, n_estimators=8, total=   2.0s\n",
      "[CV] min_samples_split=3, n_estimators=8 .............................\n",
      "[CV] .............. min_samples_split=3, n_estimators=8, total=   2.0s\n",
      "[CV] min_samples_split=3, n_estimators=8 .............................\n",
      "[CV] .............. min_samples_split=3, n_estimators=8, total=   2.1s\n",
      "[CV] min_samples_split=3, n_estimators=8 .............................\n",
      "[CV] .............. min_samples_split=3, n_estimators=8, total=   2.5s\n",
      "[CV] min_samples_split=3, n_estimators=9 .............................\n",
      "[CV] .............. min_samples_split=3, n_estimators=9, total=   2.2s\n",
      "[CV] min_samples_split=3, n_estimators=9 .............................\n",
      "[CV] .............. min_samples_split=3, n_estimators=9, total=   2.2s\n",
      "[CV] min_samples_split=3, n_estimators=9 .............................\n",
      "[CV] .............. min_samples_split=3, n_estimators=9, total=   2.2s\n",
      "[CV] min_samples_split=3, n_estimators=9 .............................\n",
      "[CV] .............. min_samples_split=3, n_estimators=9, total=   2.2s\n",
      "[CV] min_samples_split=3, n_estimators=10 ............................\n",
      "[CV] ............. min_samples_split=3, n_estimators=10, total=   2.4s\n",
      "[CV] min_samples_split=3, n_estimators=10 ............................\n",
      "[CV] ............. min_samples_split=3, n_estimators=10, total=   2.5s\n",
      "[CV] min_samples_split=3, n_estimators=10 ............................\n",
      "[CV] ............. min_samples_split=3, n_estimators=10, total=   2.5s\n",
      "[CV] min_samples_split=3, n_estimators=10 ............................\n",
      "[CV] ............. min_samples_split=3, n_estimators=10, total=   2.6s\n",
      "[CV] min_samples_split=3, n_estimators=11 ............................\n",
      "[CV] ............. min_samples_split=3, n_estimators=11, total=   3.0s\n",
      "[CV] min_samples_split=3, n_estimators=11 ............................\n",
      "[CV] ............. min_samples_split=3, n_estimators=11, total=   2.7s\n",
      "[CV] min_samples_split=3, n_estimators=11 ............................\n",
      "[CV] ............. min_samples_split=3, n_estimators=11, total=   3.0s\n",
      "[CV] min_samples_split=3, n_estimators=11 ............................\n",
      "[CV] ............. min_samples_split=3, n_estimators=11, total=   2.9s\n",
      "[CV] min_samples_split=3, n_estimators=18 ............................\n",
      "[CV] ............. min_samples_split=3, n_estimators=18, total=   4.5s\n",
      "[CV] min_samples_split=3, n_estimators=18 ............................\n",
      "[CV] ............. min_samples_split=3, n_estimators=18, total=   4.5s\n",
      "[CV] min_samples_split=3, n_estimators=18 ............................\n",
      "[CV] ............. min_samples_split=3, n_estimators=18, total=   4.6s\n",
      "[CV] min_samples_split=3, n_estimators=18 ............................\n",
      "[CV] ............. min_samples_split=3, n_estimators=18, total=   4.7s\n",
      "[CV] min_samples_split=3, n_estimators=19 ............................\n",
      "[CV] ............. min_samples_split=3, n_estimators=19, total=   4.8s\n",
      "[CV] min_samples_split=3, n_estimators=19 ............................\n",
      "[CV] ............. min_samples_split=3, n_estimators=19, total=   4.8s\n",
      "[CV] min_samples_split=3, n_estimators=19 ............................\n",
      "[CV] ............. min_samples_split=3, n_estimators=19, total=   4.8s\n",
      "[CV] min_samples_split=3, n_estimators=19 ............................\n",
      "[CV] ............. min_samples_split=3, n_estimators=19, total=   5.1s\n",
      "[CV] min_samples_split=3, n_estimators=20 ............................\n",
      "[CV] ............. min_samples_split=3, n_estimators=20, total=   5.3s\n",
      "[CV] min_samples_split=3, n_estimators=20 ............................\n",
      "[CV] ............. min_samples_split=3, n_estimators=20, total=   5.0s\n",
      "[CV] min_samples_split=3, n_estimators=20 ............................\n",
      "[CV] ............. min_samples_split=3, n_estimators=20, total=   5.1s\n",
      "[CV] min_samples_split=3, n_estimators=20 ............................\n",
      "[CV] ............. min_samples_split=3, n_estimators=20, total=   5.1s\n",
      "[CV] min_samples_split=4, n_estimators=8 .............................\n",
      "[CV] .............. min_samples_split=4, n_estimators=8, total=   1.7s\n",
      "[CV] min_samples_split=4, n_estimators=8 .............................\n",
      "[CV] .............. min_samples_split=4, n_estimators=8, total=   1.7s\n",
      "[CV] min_samples_split=4, n_estimators=8 .............................\n",
      "[CV] .............. min_samples_split=4, n_estimators=8, total=   1.7s\n",
      "[CV] min_samples_split=4, n_estimators=8 .............................\n"
     ]
    },
    {
     "name": "stdout",
     "output_type": "stream",
     "text": [
      "[CV] .............. min_samples_split=4, n_estimators=8, total=   1.7s\n",
      "[CV] min_samples_split=4, n_estimators=9 .............................\n",
      "[CV] .............. min_samples_split=4, n_estimators=9, total=   2.0s\n",
      "[CV] min_samples_split=4, n_estimators=9 .............................\n",
      "[CV] .............. min_samples_split=4, n_estimators=9, total=   2.2s\n",
      "[CV] min_samples_split=4, n_estimators=9 .............................\n",
      "[CV] .............. min_samples_split=4, n_estimators=9, total=   2.0s\n",
      "[CV] min_samples_split=4, n_estimators=9 .............................\n",
      "[CV] .............. min_samples_split=4, n_estimators=9, total=   2.0s\n",
      "[CV] min_samples_split=4, n_estimators=10 ............................\n",
      "[CV] ............. min_samples_split=4, n_estimators=10, total=   2.1s\n",
      "[CV] min_samples_split=4, n_estimators=10 ............................\n",
      "[CV] ............. min_samples_split=4, n_estimators=10, total=   2.2s\n",
      "[CV] min_samples_split=4, n_estimators=10 ............................\n",
      "[CV] ............. min_samples_split=4, n_estimators=10, total=   2.3s\n",
      "[CV] min_samples_split=4, n_estimators=10 ............................\n",
      "[CV] ............. min_samples_split=4, n_estimators=10, total=   2.3s\n",
      "[CV] min_samples_split=4, n_estimators=11 ............................\n",
      "[CV] ............. min_samples_split=4, n_estimators=11, total=   2.5s\n",
      "[CV] min_samples_split=4, n_estimators=11 ............................\n",
      "[CV] ............. min_samples_split=4, n_estimators=11, total=   2.4s\n",
      "[CV] min_samples_split=4, n_estimators=11 ............................\n",
      "[CV] ............. min_samples_split=4, n_estimators=11, total=   2.5s\n",
      "[CV] min_samples_split=4, n_estimators=11 ............................\n",
      "[CV] ............. min_samples_split=4, n_estimators=11, total=   2.5s\n",
      "[CV] min_samples_split=4, n_estimators=18 ............................\n",
      "[CV] ............. min_samples_split=4, n_estimators=18, total=   4.0s\n",
      "[CV] min_samples_split=4, n_estimators=18 ............................\n",
      "[CV] ............. min_samples_split=4, n_estimators=18, total=   4.0s\n",
      "[CV] min_samples_split=4, n_estimators=18 ............................\n",
      "[CV] ............. min_samples_split=4, n_estimators=18, total=   4.0s\n",
      "[CV] min_samples_split=4, n_estimators=18 ............................\n",
      "[CV] ............. min_samples_split=4, n_estimators=18, total=   4.0s\n",
      "[CV] min_samples_split=4, n_estimators=19 ............................\n",
      "[CV] ............. min_samples_split=4, n_estimators=19, total=   4.2s\n",
      "[CV] min_samples_split=4, n_estimators=19 ............................\n",
      "[CV] ............. min_samples_split=4, n_estimators=19, total=   4.2s\n",
      "[CV] min_samples_split=4, n_estimators=19 ............................\n",
      "[CV] ............. min_samples_split=4, n_estimators=19, total=   4.3s\n",
      "[CV] min_samples_split=4, n_estimators=19 ............................\n",
      "[CV] ............. min_samples_split=4, n_estimators=19, total=   4.2s\n",
      "[CV] min_samples_split=4, n_estimators=20 ............................\n",
      "[CV] ............. min_samples_split=4, n_estimators=20, total=   4.4s\n",
      "[CV] min_samples_split=4, n_estimators=20 ............................\n",
      "[CV] ............. min_samples_split=4, n_estimators=20, total=   4.4s\n",
      "[CV] min_samples_split=4, n_estimators=20 ............................\n",
      "[CV] ............. min_samples_split=4, n_estimators=20, total=   4.8s\n",
      "[CV] min_samples_split=4, n_estimators=20 ............................\n",
      "[CV] ............. min_samples_split=4, n_estimators=20, total=   5.4s\n",
      "[CV] min_samples_split=5, n_estimators=8 .............................\n",
      "[CV] .............. min_samples_split=5, n_estimators=8, total=   1.6s\n",
      "[CV] min_samples_split=5, n_estimators=8 .............................\n",
      "[CV] .............. min_samples_split=5, n_estimators=8, total=   1.6s\n",
      "[CV] min_samples_split=5, n_estimators=8 .............................\n",
      "[CV] .............. min_samples_split=5, n_estimators=8, total=   1.6s\n",
      "[CV] min_samples_split=5, n_estimators=8 .............................\n",
      "[CV] .............. min_samples_split=5, n_estimators=8, total=   1.6s\n",
      "[CV] min_samples_split=5, n_estimators=9 .............................\n",
      "[CV] .............. min_samples_split=5, n_estimators=9, total=   1.7s\n",
      "[CV] min_samples_split=5, n_estimators=9 .............................\n",
      "[CV] .............. min_samples_split=5, n_estimators=9, total=   1.8s\n",
      "[CV] min_samples_split=5, n_estimators=9 .............................\n",
      "[CV] .............. min_samples_split=5, n_estimators=9, total=   1.8s\n",
      "[CV] min_samples_split=5, n_estimators=9 .............................\n",
      "[CV] .............. min_samples_split=5, n_estimators=9, total=   1.8s\n",
      "[CV] min_samples_split=5, n_estimators=10 ............................\n",
      "[CV] ............. min_samples_split=5, n_estimators=10, total=   2.0s\n",
      "[CV] min_samples_split=5, n_estimators=10 ............................\n",
      "[CV] ............. min_samples_split=5, n_estimators=10, total=   2.0s\n",
      "[CV] min_samples_split=5, n_estimators=10 ............................\n",
      "[CV] ............. min_samples_split=5, n_estimators=10, total=   2.0s\n",
      "[CV] min_samples_split=5, n_estimators=10 ............................\n",
      "[CV] ............. min_samples_split=5, n_estimators=10, total=   2.0s\n",
      "[CV] min_samples_split=5, n_estimators=11 ............................\n",
      "[CV] ............. min_samples_split=5, n_estimators=11, total=   2.1s\n",
      "[CV] min_samples_split=5, n_estimators=11 ............................\n",
      "[CV] ............. min_samples_split=5, n_estimators=11, total=   2.2s\n",
      "[CV] min_samples_split=5, n_estimators=11 ............................\n",
      "[CV] ............. min_samples_split=5, n_estimators=11, total=   2.2s\n",
      "[CV] min_samples_split=5, n_estimators=11 ............................\n",
      "[CV] ............. min_samples_split=5, n_estimators=11, total=   2.2s\n",
      "[CV] min_samples_split=5, n_estimators=18 ............................\n",
      "[CV] ............. min_samples_split=5, n_estimators=18, total=   3.8s\n",
      "[CV] min_samples_split=5, n_estimators=18 ............................\n",
      "[CV] ............. min_samples_split=5, n_estimators=18, total=   3.8s\n",
      "[CV] min_samples_split=5, n_estimators=18 ............................\n",
      "[CV] ............. min_samples_split=5, n_estimators=18, total=   3.7s\n",
      "[CV] min_samples_split=5, n_estimators=18 ............................\n",
      "[CV] ............. min_samples_split=5, n_estimators=18, total=   3.6s\n",
      "[CV] min_samples_split=5, n_estimators=19 ............................\n",
      "[CV] ............. min_samples_split=5, n_estimators=19, total=   3.9s\n",
      "[CV] min_samples_split=5, n_estimators=19 ............................\n",
      "[CV] ............. min_samples_split=5, n_estimators=19, total=   3.8s\n",
      "[CV] min_samples_split=5, n_estimators=19 ............................\n",
      "[CV] ............. min_samples_split=5, n_estimators=19, total=   3.9s\n",
      "[CV] min_samples_split=5, n_estimators=19 ............................\n",
      "[CV] ............. min_samples_split=5, n_estimators=19, total=   4.1s\n",
      "[CV] min_samples_split=5, n_estimators=20 ............................\n",
      "[CV] ............. min_samples_split=5, n_estimators=20, total=   4.0s\n",
      "[CV] min_samples_split=5, n_estimators=20 ............................\n",
      "[CV] ............. min_samples_split=5, n_estimators=20, total=   4.0s\n",
      "[CV] min_samples_split=5, n_estimators=20 ............................\n",
      "[CV] ............. min_samples_split=5, n_estimators=20, total=   4.2s\n",
      "[CV] min_samples_split=5, n_estimators=20 ............................\n",
      "[CV] ............. min_samples_split=5, n_estimators=20, total=   4.1s\n",
      "[CV] min_samples_split=6, n_estimators=8 .............................\n",
      "[CV] .............. min_samples_split=6, n_estimators=8, total=   1.4s\n",
      "[CV] min_samples_split=6, n_estimators=8 .............................\n",
      "[CV] .............. min_samples_split=6, n_estimators=8, total=   1.5s\n",
      "[CV] min_samples_split=6, n_estimators=8 .............................\n",
      "[CV] .............. min_samples_split=6, n_estimators=8, total=   1.5s\n",
      "[CV] min_samples_split=6, n_estimators=8 .............................\n",
      "[CV] .............. min_samples_split=6, n_estimators=8, total=   1.5s\n",
      "[CV] min_samples_split=6, n_estimators=9 .............................\n",
      "[CV] .............. min_samples_split=6, n_estimators=9, total=   1.7s\n",
      "[CV] min_samples_split=6, n_estimators=9 .............................\n"
     ]
    },
    {
     "name": "stdout",
     "output_type": "stream",
     "text": [
      "[CV] .............. min_samples_split=6, n_estimators=9, total=   1.6s\n",
      "[CV] min_samples_split=6, n_estimators=9 .............................\n",
      "[CV] .............. min_samples_split=6, n_estimators=9, total=   1.7s\n",
      "[CV] min_samples_split=6, n_estimators=9 .............................\n",
      "[CV] .............. min_samples_split=6, n_estimators=9, total=   1.7s\n",
      "[CV] min_samples_split=6, n_estimators=10 ............................\n",
      "[CV] ............. min_samples_split=6, n_estimators=10, total=   1.8s\n",
      "[CV] min_samples_split=6, n_estimators=10 ............................\n",
      "[CV] ............. min_samples_split=6, n_estimators=10, total=   1.9s\n",
      "[CV] min_samples_split=6, n_estimators=10 ............................\n",
      "[CV] ............. min_samples_split=6, n_estimators=10, total=   1.9s\n",
      "[CV] min_samples_split=6, n_estimators=10 ............................\n",
      "[CV] ............. min_samples_split=6, n_estimators=10, total=   1.9s\n",
      "[CV] min_samples_split=6, n_estimators=11 ............................\n",
      "[CV] ............. min_samples_split=6, n_estimators=11, total=   2.0s\n",
      "[CV] min_samples_split=6, n_estimators=11 ............................\n",
      "[CV] ............. min_samples_split=6, n_estimators=11, total=   2.1s\n",
      "[CV] min_samples_split=6, n_estimators=11 ............................\n",
      "[CV] ............. min_samples_split=6, n_estimators=11, total=   2.1s\n",
      "[CV] min_samples_split=6, n_estimators=11 ............................\n",
      "[CV] ............. min_samples_split=6, n_estimators=11, total=   2.0s\n",
      "[CV] min_samples_split=6, n_estimators=18 ............................\n",
      "[CV] ............. min_samples_split=6, n_estimators=18, total=   3.4s\n",
      "[CV] min_samples_split=6, n_estimators=18 ............................\n",
      "[CV] ............. min_samples_split=6, n_estimators=18, total=   3.4s\n",
      "[CV] min_samples_split=6, n_estimators=18 ............................\n",
      "[CV] ............. min_samples_split=6, n_estimators=18, total=   3.4s\n",
      "[CV] min_samples_split=6, n_estimators=18 ............................\n",
      "[CV] ............. min_samples_split=6, n_estimators=18, total=   3.4s\n",
      "[CV] min_samples_split=6, n_estimators=19 ............................\n",
      "[CV] ............. min_samples_split=6, n_estimators=19, total=   3.5s\n",
      "[CV] min_samples_split=6, n_estimators=19 ............................\n",
      "[CV] ............. min_samples_split=6, n_estimators=19, total=   3.6s\n",
      "[CV] min_samples_split=6, n_estimators=19 ............................\n",
      "[CV] ............. min_samples_split=6, n_estimators=19, total=   3.7s\n",
      "[CV] min_samples_split=6, n_estimators=19 ............................\n",
      "[CV] ............. min_samples_split=6, n_estimators=19, total=   3.6s\n",
      "[CV] min_samples_split=6, n_estimators=20 ............................\n",
      "[CV] ............. min_samples_split=6, n_estimators=20, total=   3.8s\n",
      "[CV] min_samples_split=6, n_estimators=20 ............................\n",
      "[CV] ............. min_samples_split=6, n_estimators=20, total=   3.8s\n",
      "[CV] min_samples_split=6, n_estimators=20 ............................\n",
      "[CV] ............. min_samples_split=6, n_estimators=20, total=   4.2s\n",
      "[CV] min_samples_split=6, n_estimators=20 ............................\n",
      "[CV] ............. min_samples_split=6, n_estimators=20, total=   4.1s\n",
      "[CV] min_samples_split=15, n_estimators=8 ............................\n",
      "[CV] ............. min_samples_split=15, n_estimators=8, total=   1.1s\n",
      "[CV] min_samples_split=15, n_estimators=8 ............................\n",
      "[CV] ............. min_samples_split=15, n_estimators=8, total=   1.2s\n",
      "[CV] min_samples_split=15, n_estimators=8 ............................\n",
      "[CV] ............. min_samples_split=15, n_estimators=8, total=   1.1s\n",
      "[CV] min_samples_split=15, n_estimators=8 ............................\n",
      "[CV] ............. min_samples_split=15, n_estimators=8, total=   1.1s\n",
      "[CV] min_samples_split=15, n_estimators=9 ............................\n",
      "[CV] ............. min_samples_split=15, n_estimators=9, total=   1.2s\n",
      "[CV] min_samples_split=15, n_estimators=9 ............................\n",
      "[CV] ............. min_samples_split=15, n_estimators=9, total=   1.4s\n",
      "[CV] min_samples_split=15, n_estimators=9 ............................\n",
      "[CV] ............. min_samples_split=15, n_estimators=9, total=   1.2s\n",
      "[CV] min_samples_split=15, n_estimators=9 ............................\n",
      "[CV] ............. min_samples_split=15, n_estimators=9, total=   1.2s\n",
      "[CV] min_samples_split=15, n_estimators=10 ...........................\n",
      "[CV] ............ min_samples_split=15, n_estimators=10, total=   1.4s\n",
      "[CV] min_samples_split=15, n_estimators=10 ...........................\n",
      "[CV] ............ min_samples_split=15, n_estimators=10, total=   1.3s\n",
      "[CV] min_samples_split=15, n_estimators=10 ...........................\n",
      "[CV] ............ min_samples_split=15, n_estimators=10, total=   1.4s\n",
      "[CV] min_samples_split=15, n_estimators=10 ...........................\n",
      "[CV] ............ min_samples_split=15, n_estimators=10, total=   1.4s\n",
      "[CV] min_samples_split=15, n_estimators=11 ...........................\n",
      "[CV] ............ min_samples_split=15, n_estimators=11, total=   1.6s\n",
      "[CV] min_samples_split=15, n_estimators=11 ...........................\n",
      "[CV] ............ min_samples_split=15, n_estimators=11, total=   1.7s\n",
      "[CV] min_samples_split=15, n_estimators=11 ...........................\n",
      "[CV] ............ min_samples_split=15, n_estimators=11, total=   1.6s\n",
      "[CV] min_samples_split=15, n_estimators=11 ...........................\n",
      "[CV] ............ min_samples_split=15, n_estimators=11, total=   1.5s\n",
      "[CV] min_samples_split=15, n_estimators=18 ...........................\n",
      "[CV] ............ min_samples_split=15, n_estimators=18, total=   2.6s\n",
      "[CV] min_samples_split=15, n_estimators=18 ...........................\n",
      "[CV] ............ min_samples_split=15, n_estimators=18, total=   2.7s\n",
      "[CV] min_samples_split=15, n_estimators=18 ...........................\n",
      "[CV] ............ min_samples_split=15, n_estimators=18, total=   2.8s\n",
      "[CV] min_samples_split=15, n_estimators=18 ...........................\n",
      "[CV] ............ min_samples_split=15, n_estimators=18, total=   2.5s\n",
      "[CV] min_samples_split=15, n_estimators=19 ...........................\n",
      "[CV] ............ min_samples_split=15, n_estimators=19, total=   3.1s\n",
      "[CV] min_samples_split=15, n_estimators=19 ...........................\n",
      "[CV] ............ min_samples_split=15, n_estimators=19, total=   3.1s\n",
      "[CV] min_samples_split=15, n_estimators=19 ...........................\n",
      "[CV] ............ min_samples_split=15, n_estimators=19, total=   2.7s\n",
      "[CV] min_samples_split=15, n_estimators=19 ...........................\n",
      "[CV] ............ min_samples_split=15, n_estimators=19, total=   3.2s\n",
      "[CV] min_samples_split=15, n_estimators=20 ...........................\n",
      "[CV] ............ min_samples_split=15, n_estimators=20, total=   3.1s\n",
      "[CV] min_samples_split=15, n_estimators=20 ...........................\n",
      "[CV] ............ min_samples_split=15, n_estimators=20, total=   3.0s\n",
      "[CV] min_samples_split=15, n_estimators=20 ...........................\n",
      "[CV] ............ min_samples_split=15, n_estimators=20, total=   2.8s\n",
      "[CV] min_samples_split=15, n_estimators=20 ...........................\n",
      "[CV] ............ min_samples_split=15, n_estimators=20, total=   2.8s\n",
      "[CV] min_samples_split=16, n_estimators=8 ............................\n",
      "[CV] ............. min_samples_split=16, n_estimators=8, total=   1.1s\n",
      "[CV] min_samples_split=16, n_estimators=8 ............................\n",
      "[CV] ............. min_samples_split=16, n_estimators=8, total=   1.0s\n",
      "[CV] min_samples_split=16, n_estimators=8 ............................\n",
      "[CV] ............. min_samples_split=16, n_estimators=8, total=   1.1s\n",
      "[CV] min_samples_split=16, n_estimators=8 ............................\n",
      "[CV] ............. min_samples_split=16, n_estimators=8, total=   1.1s\n",
      "[CV] min_samples_split=16, n_estimators=9 ............................\n",
      "[CV] ............. min_samples_split=16, n_estimators=9, total=   1.2s\n",
      "[CV] min_samples_split=16, n_estimators=9 ............................\n",
      "[CV] ............. min_samples_split=16, n_estimators=9, total=   1.2s\n",
      "[CV] min_samples_split=16, n_estimators=9 ............................\n",
      "[CV] ............. min_samples_split=16, n_estimators=9, total=   1.2s\n",
      "[CV] min_samples_split=16, n_estimators=9 ............................\n"
     ]
    },
    {
     "name": "stdout",
     "output_type": "stream",
     "text": [
      "[CV] ............. min_samples_split=16, n_estimators=9, total=   1.2s\n",
      "[CV] min_samples_split=16, n_estimators=10 ...........................\n",
      "[CV] ............ min_samples_split=16, n_estimators=10, total=   1.3s\n",
      "[CV] min_samples_split=16, n_estimators=10 ...........................\n",
      "[CV] ............ min_samples_split=16, n_estimators=10, total=   1.3s\n",
      "[CV] min_samples_split=16, n_estimators=10 ...........................\n",
      "[CV] ............ min_samples_split=16, n_estimators=10, total=   1.3s\n",
      "[CV] min_samples_split=16, n_estimators=10 ...........................\n",
      "[CV] ............ min_samples_split=16, n_estimators=10, total=   1.3s\n",
      "[CV] min_samples_split=16, n_estimators=11 ...........................\n",
      "[CV] ............ min_samples_split=16, n_estimators=11, total=   1.5s\n",
      "[CV] min_samples_split=16, n_estimators=11 ...........................\n",
      "[CV] ............ min_samples_split=16, n_estimators=11, total=   1.5s\n",
      "[CV] min_samples_split=16, n_estimators=11 ...........................\n",
      "[CV] ............ min_samples_split=16, n_estimators=11, total=   1.5s\n",
      "[CV] min_samples_split=16, n_estimators=11 ...........................\n",
      "[CV] ............ min_samples_split=16, n_estimators=11, total=   1.5s\n",
      "[CV] min_samples_split=16, n_estimators=18 ...........................\n",
      "[CV] ............ min_samples_split=16, n_estimators=18, total=   2.4s\n",
      "[CV] min_samples_split=16, n_estimators=18 ...........................\n",
      "[CV] ............ min_samples_split=16, n_estimators=18, total=   2.4s\n",
      "[CV] min_samples_split=16, n_estimators=18 ...........................\n",
      "[CV] ............ min_samples_split=16, n_estimators=18, total=   2.4s\n",
      "[CV] min_samples_split=16, n_estimators=18 ...........................\n",
      "[CV] ............ min_samples_split=16, n_estimators=18, total=   2.4s\n",
      "[CV] min_samples_split=16, n_estimators=19 ...........................\n",
      "[CV] ............ min_samples_split=16, n_estimators=19, total=   2.6s\n",
      "[CV] min_samples_split=16, n_estimators=19 ...........................\n",
      "[CV] ............ min_samples_split=16, n_estimators=19, total=   2.5s\n",
      "[CV] min_samples_split=16, n_estimators=19 ...........................\n",
      "[CV] ............ min_samples_split=16, n_estimators=19, total=   2.6s\n",
      "[CV] min_samples_split=16, n_estimators=19 ...........................\n",
      "[CV] ............ min_samples_split=16, n_estimators=19, total=   2.6s\n",
      "[CV] min_samples_split=16, n_estimators=20 ...........................\n",
      "[CV] ............ min_samples_split=16, n_estimators=20, total=   2.7s\n",
      "[CV] min_samples_split=16, n_estimators=20 ...........................\n",
      "[CV] ............ min_samples_split=16, n_estimators=20, total=   2.8s\n",
      "[CV] min_samples_split=16, n_estimators=20 ...........................\n",
      "[CV] ............ min_samples_split=16, n_estimators=20, total=   2.9s\n",
      "[CV] min_samples_split=16, n_estimators=20 ...........................\n",
      "[CV] ............ min_samples_split=16, n_estimators=20, total=   2.8s\n",
      "[CV] min_samples_split=17, n_estimators=8 ............................\n",
      "[CV] ............. min_samples_split=17, n_estimators=8, total=   1.0s\n",
      "[CV] min_samples_split=17, n_estimators=8 ............................\n",
      "[CV] ............. min_samples_split=17, n_estimators=8, total=   1.0s\n",
      "[CV] min_samples_split=17, n_estimators=8 ............................\n",
      "[CV] ............. min_samples_split=17, n_estimators=8, total=   1.0s\n",
      "[CV] min_samples_split=17, n_estimators=8 ............................\n",
      "[CV] ............. min_samples_split=17, n_estimators=8, total=   1.0s\n",
      "[CV] min_samples_split=17, n_estimators=9 ............................\n",
      "[CV] ............. min_samples_split=17, n_estimators=9, total=   1.1s\n",
      "[CV] min_samples_split=17, n_estimators=9 ............................\n",
      "[CV] ............. min_samples_split=17, n_estimators=9, total=   1.2s\n",
      "[CV] min_samples_split=17, n_estimators=9 ............................\n",
      "[CV] ............. min_samples_split=17, n_estimators=9, total=   1.2s\n",
      "[CV] min_samples_split=17, n_estimators=9 ............................\n",
      "[CV] ............. min_samples_split=17, n_estimators=9, total=   1.1s\n",
      "[CV] min_samples_split=17, n_estimators=10 ...........................\n",
      "[CV] ............ min_samples_split=17, n_estimators=10, total=   1.3s\n",
      "[CV] min_samples_split=17, n_estimators=10 ...........................\n",
      "[CV] ............ min_samples_split=17, n_estimators=10, total=   1.3s\n",
      "[CV] min_samples_split=17, n_estimators=10 ...........................\n",
      "[CV] ............ min_samples_split=17, n_estimators=10, total=   1.3s\n",
      "[CV] min_samples_split=17, n_estimators=10 ...........................\n",
      "[CV] ............ min_samples_split=17, n_estimators=10, total=   1.3s\n",
      "[CV] min_samples_split=17, n_estimators=11 ...........................\n",
      "[CV] ............ min_samples_split=17, n_estimators=11, total=   1.5s\n",
      "[CV] min_samples_split=17, n_estimators=11 ...........................\n",
      "[CV] ............ min_samples_split=17, n_estimators=11, total=   1.4s\n",
      "[CV] min_samples_split=17, n_estimators=11 ...........................\n",
      "[CV] ............ min_samples_split=17, n_estimators=11, total=   1.5s\n",
      "[CV] min_samples_split=17, n_estimators=11 ...........................\n",
      "[CV] ............ min_samples_split=17, n_estimators=11, total=   1.4s\n",
      "[CV] min_samples_split=17, n_estimators=18 ...........................\n",
      "[CV] ............ min_samples_split=17, n_estimators=18, total=   2.4s\n",
      "[CV] min_samples_split=17, n_estimators=18 ...........................\n",
      "[CV] ............ min_samples_split=17, n_estimators=18, total=   2.4s\n",
      "[CV] min_samples_split=17, n_estimators=18 ...........................\n",
      "[CV] ............ min_samples_split=17, n_estimators=18, total=   2.4s\n",
      "[CV] min_samples_split=17, n_estimators=18 ...........................\n",
      "[CV] ............ min_samples_split=17, n_estimators=18, total=   2.4s\n",
      "[CV] min_samples_split=17, n_estimators=19 ...........................\n",
      "[CV] ............ min_samples_split=17, n_estimators=19, total=   2.5s\n",
      "[CV] min_samples_split=17, n_estimators=19 ...........................\n",
      "[CV] ............ min_samples_split=17, n_estimators=19, total=   2.5s\n",
      "[CV] min_samples_split=17, n_estimators=19 ...........................\n",
      "[CV] ............ min_samples_split=17, n_estimators=19, total=   2.6s\n",
      "[CV] min_samples_split=17, n_estimators=19 ...........................\n",
      "[CV] ............ min_samples_split=17, n_estimators=19, total=   2.6s\n",
      "[CV] min_samples_split=17, n_estimators=20 ...........................\n",
      "[CV] ............ min_samples_split=17, n_estimators=20, total=   2.7s\n",
      "[CV] min_samples_split=17, n_estimators=20 ...........................\n",
      "[CV] ............ min_samples_split=17, n_estimators=20, total=   2.7s\n",
      "[CV] min_samples_split=17, n_estimators=20 ...........................\n",
      "[CV] ............ min_samples_split=17, n_estimators=20, total=   2.7s\n",
      "[CV] min_samples_split=17, n_estimators=20 ...........................\n",
      "[CV] ............ min_samples_split=17, n_estimators=20, total=   2.7s\n",
      "[CV] min_samples_split=18, n_estimators=8 ............................\n",
      "[CV] ............. min_samples_split=18, n_estimators=8, total=   1.0s\n",
      "[CV] min_samples_split=18, n_estimators=8 ............................\n",
      "[CV] ............. min_samples_split=18, n_estimators=8, total=   1.0s\n",
      "[CV] min_samples_split=18, n_estimators=8 ............................\n",
      "[CV] ............. min_samples_split=18, n_estimators=8, total=   1.0s\n",
      "[CV] min_samples_split=18, n_estimators=8 ............................\n",
      "[CV] ............. min_samples_split=18, n_estimators=8, total=   1.0s\n",
      "[CV] min_samples_split=18, n_estimators=9 ............................\n",
      "[CV] ............. min_samples_split=18, n_estimators=9, total=   1.2s\n",
      "[CV] min_samples_split=18, n_estimators=9 ............................\n",
      "[CV] ............. min_samples_split=18, n_estimators=9, total=   1.1s\n",
      "[CV] min_samples_split=18, n_estimators=9 ............................\n",
      "[CV] ............. min_samples_split=18, n_estimators=9, total=   1.2s\n",
      "[CV] min_samples_split=18, n_estimators=9 ............................\n",
      "[CV] ............. min_samples_split=18, n_estimators=9, total=   1.1s\n",
      "[CV] min_samples_split=18, n_estimators=10 ...........................\n",
      "[CV] ............ min_samples_split=18, n_estimators=10, total=   1.3s\n",
      "[CV] min_samples_split=18, n_estimators=10 ...........................\n"
     ]
    },
    {
     "name": "stdout",
     "output_type": "stream",
     "text": [
      "[CV] ............ min_samples_split=18, n_estimators=10, total=   1.3s\n",
      "[CV] min_samples_split=18, n_estimators=10 ...........................\n",
      "[CV] ............ min_samples_split=18, n_estimators=10, total=   1.3s\n",
      "[CV] min_samples_split=18, n_estimators=10 ...........................\n",
      "[CV] ............ min_samples_split=18, n_estimators=10, total=   1.3s\n",
      "[CV] min_samples_split=18, n_estimators=11 ...........................\n",
      "[CV] ............ min_samples_split=18, n_estimators=11, total=   1.4s\n",
      "[CV] min_samples_split=18, n_estimators=11 ...........................\n",
      "[CV] ............ min_samples_split=18, n_estimators=11, total=   1.4s\n",
      "[CV] min_samples_split=18, n_estimators=11 ...........................\n",
      "[CV] ............ min_samples_split=18, n_estimators=11, total=   1.4s\n",
      "[CV] min_samples_split=18, n_estimators=11 ...........................\n",
      "[CV] ............ min_samples_split=18, n_estimators=11, total=   1.4s\n",
      "[CV] min_samples_split=18, n_estimators=18 ...........................\n",
      "[CV] ............ min_samples_split=18, n_estimators=18, total=   2.5s\n",
      "[CV] min_samples_split=18, n_estimators=18 ...........................\n",
      "[CV] ............ min_samples_split=18, n_estimators=18, total=   3.4s\n",
      "[CV] min_samples_split=18, n_estimators=18 ...........................\n",
      "[CV] ............ min_samples_split=18, n_estimators=18, total=   2.9s\n",
      "[CV] min_samples_split=18, n_estimators=18 ...........................\n",
      "[CV] ............ min_samples_split=18, n_estimators=18, total=   2.9s\n",
      "[CV] min_samples_split=18, n_estimators=19 ...........................\n",
      "[CV] ............ min_samples_split=18, n_estimators=19, total=   2.5s\n",
      "[CV] min_samples_split=18, n_estimators=19 ...........................\n",
      "[CV] ............ min_samples_split=18, n_estimators=19, total=   2.5s\n",
      "[CV] min_samples_split=18, n_estimators=19 ...........................\n",
      "[CV] ............ min_samples_split=18, n_estimators=19, total=   2.5s\n",
      "[CV] min_samples_split=18, n_estimators=19 ...........................\n",
      "[CV] ............ min_samples_split=18, n_estimators=19, total=   2.5s\n",
      "[CV] min_samples_split=18, n_estimators=20 ...........................\n",
      "[CV] ............ min_samples_split=18, n_estimators=20, total=   2.6s\n",
      "[CV] min_samples_split=18, n_estimators=20 ...........................\n",
      "[CV] ............ min_samples_split=18, n_estimators=20, total=   2.6s\n",
      "[CV] min_samples_split=18, n_estimators=20 ...........................\n",
      "[CV] ............ min_samples_split=18, n_estimators=20, total=   3.0s\n",
      "[CV] min_samples_split=18, n_estimators=20 ...........................\n",
      "[CV] ............ min_samples_split=18, n_estimators=20, total=   2.9s\n",
      "[CV] min_samples_split=19, n_estimators=8 ............................\n",
      "[CV] ............. min_samples_split=19, n_estimators=8, total=   1.4s\n",
      "[CV] min_samples_split=19, n_estimators=8 ............................\n",
      "[CV] ............. min_samples_split=19, n_estimators=8, total=   1.3s\n",
      "[CV] min_samples_split=19, n_estimators=8 ............................\n",
      "[CV] ............. min_samples_split=19, n_estimators=8, total=   1.1s\n",
      "[CV] min_samples_split=19, n_estimators=8 ............................\n",
      "[CV] ............. min_samples_split=19, n_estimators=8, total=   1.2s\n",
      "[CV] min_samples_split=19, n_estimators=9 ............................\n",
      "[CV] ............. min_samples_split=19, n_estimators=9, total=   1.3s\n",
      "[CV] min_samples_split=19, n_estimators=9 ............................\n",
      "[CV] ............. min_samples_split=19, n_estimators=9, total=   1.1s\n",
      "[CV] min_samples_split=19, n_estimators=9 ............................\n",
      "[CV] ............. min_samples_split=19, n_estimators=9, total=   1.1s\n",
      "[CV] min_samples_split=19, n_estimators=9 ............................\n",
      "[CV] ............. min_samples_split=19, n_estimators=9, total=   1.1s\n",
      "[CV] min_samples_split=19, n_estimators=10 ...........................\n",
      "[CV] ............ min_samples_split=19, n_estimators=10, total=   1.2s\n",
      "[CV] min_samples_split=19, n_estimators=10 ...........................\n",
      "[CV] ............ min_samples_split=19, n_estimators=10, total=   1.2s\n",
      "[CV] min_samples_split=19, n_estimators=10 ...........................\n",
      "[CV] ............ min_samples_split=19, n_estimators=10, total=   1.2s\n",
      "[CV] min_samples_split=19, n_estimators=10 ...........................\n",
      "[CV] ............ min_samples_split=19, n_estimators=10, total=   1.2s\n",
      "[CV] min_samples_split=19, n_estimators=11 ...........................\n",
      "[CV] ............ min_samples_split=19, n_estimators=11, total=   1.4s\n",
      "[CV] min_samples_split=19, n_estimators=11 ...........................\n",
      "[CV] ............ min_samples_split=19, n_estimators=11, total=   1.4s\n",
      "[CV] min_samples_split=19, n_estimators=11 ...........................\n",
      "[CV] ............ min_samples_split=19, n_estimators=11, total=   1.4s\n",
      "[CV] min_samples_split=19, n_estimators=11 ...........................\n",
      "[CV] ............ min_samples_split=19, n_estimators=11, total=   1.4s\n",
      "[CV] min_samples_split=19, n_estimators=18 ...........................\n",
      "[CV] ............ min_samples_split=19, n_estimators=18, total=   2.3s\n",
      "[CV] min_samples_split=19, n_estimators=18 ...........................\n",
      "[CV] ............ min_samples_split=19, n_estimators=18, total=   2.3s\n",
      "[CV] min_samples_split=19, n_estimators=18 ...........................\n",
      "[CV] ............ min_samples_split=19, n_estimators=18, total=   2.3s\n",
      "[CV] min_samples_split=19, n_estimators=18 ...........................\n",
      "[CV] ............ min_samples_split=19, n_estimators=18, total=   2.3s\n",
      "[CV] min_samples_split=19, n_estimators=19 ...........................\n",
      "[CV] ............ min_samples_split=19, n_estimators=19, total=   2.4s\n",
      "[CV] min_samples_split=19, n_estimators=19 ...........................\n",
      "[CV] ............ min_samples_split=19, n_estimators=19, total=   2.4s\n",
      "[CV] min_samples_split=19, n_estimators=19 ...........................\n",
      "[CV] ............ min_samples_split=19, n_estimators=19, total=   2.4s\n",
      "[CV] min_samples_split=19, n_estimators=19 ...........................\n",
      "[CV] ............ min_samples_split=19, n_estimators=19, total=   2.5s\n",
      "[CV] min_samples_split=19, n_estimators=20 ...........................\n",
      "[CV] ............ min_samples_split=19, n_estimators=20, total=   2.6s\n",
      "[CV] min_samples_split=19, n_estimators=20 ...........................\n",
      "[CV] ............ min_samples_split=19, n_estimators=20, total=   2.5s\n",
      "[CV] min_samples_split=19, n_estimators=20 ...........................\n",
      "[CV] ............ min_samples_split=19, n_estimators=20, total=   2.6s\n",
      "[CV] min_samples_split=19, n_estimators=20 ...........................\n",
      "[CV] ............ min_samples_split=19, n_estimators=20, total=   2.6s\n",
      "[CV] min_samples_split=20, n_estimators=8 ............................\n",
      "[CV] ............. min_samples_split=20, n_estimators=8, total=   1.0s\n",
      "[CV] min_samples_split=20, n_estimators=8 ............................\n",
      "[CV] ............. min_samples_split=20, n_estimators=8, total=   1.0s\n",
      "[CV] min_samples_split=20, n_estimators=8 ............................\n",
      "[CV] ............. min_samples_split=20, n_estimators=8, total=   1.0s\n",
      "[CV] min_samples_split=20, n_estimators=8 ............................\n",
      "[CV] ............. min_samples_split=20, n_estimators=8, total=   1.0s\n",
      "[CV] min_samples_split=20, n_estimators=9 ............................\n",
      "[CV] ............. min_samples_split=20, n_estimators=9, total=   1.1s\n",
      "[CV] min_samples_split=20, n_estimators=9 ............................\n",
      "[CV] ............. min_samples_split=20, n_estimators=9, total=   1.3s\n",
      "[CV] min_samples_split=20, n_estimators=9 ............................\n",
      "[CV] ............. min_samples_split=20, n_estimators=9, total=   1.1s\n",
      "[CV] min_samples_split=20, n_estimators=9 ............................\n",
      "[CV] ............. min_samples_split=20, n_estimators=9, total=   1.1s\n",
      "[CV] min_samples_split=20, n_estimators=10 ...........................\n",
      "[CV] ............ min_samples_split=20, n_estimators=10, total=   1.2s\n",
      "[CV] min_samples_split=20, n_estimators=10 ...........................\n",
      "[CV] ............ min_samples_split=20, n_estimators=10, total=   1.2s\n",
      "[CV] min_samples_split=20, n_estimators=10 ...........................\n",
      "[CV] ............ min_samples_split=20, n_estimators=10, total=   1.3s\n",
      "[CV] min_samples_split=20, n_estimators=10 ...........................\n"
     ]
    },
    {
     "name": "stdout",
     "output_type": "stream",
     "text": [
      "[CV] ............ min_samples_split=20, n_estimators=10, total=   1.3s\n",
      "[CV] min_samples_split=20, n_estimators=11 ...........................\n",
      "[CV] ............ min_samples_split=20, n_estimators=11, total=   1.5s\n",
      "[CV] min_samples_split=20, n_estimators=11 ...........................\n",
      "[CV] ............ min_samples_split=20, n_estimators=11, total=   1.4s\n",
      "[CV] min_samples_split=20, n_estimators=11 ...........................\n",
      "[CV] ............ min_samples_split=20, n_estimators=11, total=   1.4s\n",
      "[CV] min_samples_split=20, n_estimators=11 ...........................\n",
      "[CV] ............ min_samples_split=20, n_estimators=11, total=   1.3s\n",
      "[CV] min_samples_split=20, n_estimators=18 ...........................\n",
      "[CV] ............ min_samples_split=20, n_estimators=18, total=   2.3s\n",
      "[CV] min_samples_split=20, n_estimators=18 ...........................\n",
      "[CV] ............ min_samples_split=20, n_estimators=18, total=   2.3s\n",
      "[CV] min_samples_split=20, n_estimators=18 ...........................\n",
      "[CV] ............ min_samples_split=20, n_estimators=18, total=   2.3s\n",
      "[CV] min_samples_split=20, n_estimators=18 ...........................\n",
      "[CV] ............ min_samples_split=20, n_estimators=18, total=   2.9s\n",
      "[CV] min_samples_split=20, n_estimators=19 ...........................\n",
      "[CV] ............ min_samples_split=20, n_estimators=19, total=   2.9s\n",
      "[CV] min_samples_split=20, n_estimators=19 ...........................\n",
      "[CV] ............ min_samples_split=20, n_estimators=19, total=   3.0s\n",
      "[CV] min_samples_split=20, n_estimators=19 ...........................\n",
      "[CV] ............ min_samples_split=20, n_estimators=19, total=   2.9s\n",
      "[CV] min_samples_split=20, n_estimators=19 ...........................\n",
      "[CV] ............ min_samples_split=20, n_estimators=19, total=   2.8s\n",
      "[CV] min_samples_split=20, n_estimators=20 ...........................\n",
      "[CV] ............ min_samples_split=20, n_estimators=20, total=   2.5s\n",
      "[CV] min_samples_split=20, n_estimators=20 ...........................\n",
      "[CV] ............ min_samples_split=20, n_estimators=20, total=   2.5s\n",
      "[CV] min_samples_split=20, n_estimators=20 ...........................\n",
      "[CV] ............ min_samples_split=20, n_estimators=20, total=   2.6s\n",
      "[CV] min_samples_split=20, n_estimators=20 ...........................\n",
      "[CV] ............ min_samples_split=20, n_estimators=20, total=   2.5s\n"
     ]
    },
    {
     "name": "stderr",
     "output_type": "stream",
     "text": [
      "[Parallel(n_jobs=1)]: Done 308 out of 308 | elapsed: 14.1min finished\n"
     ]
    },
    {
     "data": {
      "text/plain": [
       "GridSearchCV(cv=4, error_score='raise',\n",
       "       estimator=RandomForestClassifier(bootstrap=True, class_weight=None, criterion='gini',\n",
       "            max_depth=None, max_features='auto', max_leaf_nodes=None,\n",
       "            min_impurity_decrease=0.0, min_impurity_split=None,\n",
       "            min_samples_leaf=1, min_samples_split=2,\n",
       "            min_weight_fraction_leaf=0.0, n_estimators=10, n_jobs=1,\n",
       "            oob_score=False, random_state=None, verbose=0,\n",
       "            warm_start=False),\n",
       "       fit_params=None, iid=True, n_jobs=1,\n",
       "       param_grid={'min_samples_split': [2, 3, 4, 5, 6, 15, 16, 17, 18, 19, 20], 'n_estimators': [8, 9, 10, 11, 18, 19, 20]},\n",
       "       pre_dispatch='2*n_jobs', refit=True, return_train_score='warn',\n",
       "       scoring=None, verbose=2)"
      ]
     },
     "execution_count": 168,
     "metadata": {},
     "output_type": "execute_result"
    }
   ],
   "source": [
    "X_train_v = clfs['rf_fsn_3'].vectorizer.transform(X_train)\n",
    "rf = RandomForestClassifier()\n",
    "\n",
    "rf_grid = GridSearchCV(estimator = rf, param_grid = params_grid, cv = 4, verbose=2)\n",
    "\n",
    "rf_grid.fit(X_train_v, y_train)"
   ]
  },
  {
   "cell_type": "code",
   "execution_count": 170,
   "metadata": {},
   "outputs": [
    {
     "data": {
      "text/plain": [
       "{'min_samples_split': 3, 'n_estimators': 19}"
      ]
     },
     "execution_count": 170,
     "metadata": {},
     "output_type": "execute_result"
    }
   ],
   "source": [
    "rf_grid.best_params_"
   ]
  },
  {
   "cell_type": "code",
   "execution_count": 169,
   "metadata": {},
   "outputs": [
    {
     "name": "stdout",
     "output_type": "stream",
     "text": [
      "Scores on train\n",
      "accuracy = 0.9888506163886874\n",
      "f1_all = [1.         0.98825897 0.95260664 0.8        0.9912381  1.\n",
      " 0.98593498 0.99310345 1.         1.         1.         0.99816514\n",
      " 0.99393939 0.98696088 1.         0.94117647 0.98696088 1.\n",
      " 1.         0.98612341 1.         0.99792531 0.99579992 0.8\n",
      " 0.98497496]\n",
      "f1_micro = 0.9888506163886874\n",
      "f1_macro = 0.9753267401507796\n",
      "f1_weighted = 0.9887995635747706\n",
      "\n"
     ]
    },
    {
     "name": "stderr",
     "output_type": "stream",
     "text": [
      "C:\\Users\\anush\\Anaconda3\\lib\\site-packages\\sklearn\\metrics\\classification.py:1135: UndefinedMetricWarning: F-score is ill-defined and being set to 0.0 in labels with no predicted samples.\n",
      "  'precision', 'predicted', average, warn_for)\n",
      "C:\\Users\\anush\\Anaconda3\\lib\\site-packages\\sklearn\\metrics\\classification.py:1137: UndefinedMetricWarning: F-score is ill-defined and being set to 0.0 in labels with no true samples.\n",
      "  'recall', 'true', average, warn_for)\n"
     ]
    },
    {
     "name": "stdout",
     "output_type": "stream",
     "text": [
      "Scores on dev\n",
      "accuracy = 0.7327351821642197\n",
      "f1_all = [0.22222222 0.82764654 0.43564356 0.         0.76276958 0.\n",
      " 0.72578616 0.65277778 0.         0.22222222 0.66666667 0.74172185\n",
      " 0.67248908 0.55244755 0.         0.         0.75903614 0.\n",
      " 0.         0.81836327 0.43835616 0.63120567 0.69018743 0.\n",
      " 0.68932039]\n",
      "f1_micro = 0.7327351821642198\n",
      "f1_macro = 0.5004220145861188\n",
      "f1_weighted = 0.7267706695958368\n",
      "\n"
     ]
    }
   ],
   "source": [
    "clfs['rf_fsn_3_gridsearch'] = Classifier('rf_fsn_3_gridsearch', description=\"random forest on first name and surname trigrams, min_samples_split=10\")\n",
    "clfs['rf_fsn_3_gridsearch'].fit(X_train, y_train, RandomForestClassifier().set_params(**rf_grid.best_params_), vectorizer=CountVectorizer(analyzer=lambda x:get_ngrams(x,3)), metrics_dict=metrics_dict)\n",
    "clfs['rf_fsn_3_gridsearch'].score(X_dev, y_dev, 'dev', metrics_dict=metrics_dict)"
   ]
  },
  {
   "cell_type": "markdown",
   "metadata": {},
   "source": [
    "## AdaBoost"
   ]
  },
  {
   "cell_type": "code",
   "execution_count": 43,
   "metadata": {},
   "outputs": [],
   "source": [
    "from sklearn.ensemble import AdaBoostClassifier"
   ]
  },
  {
   "cell_type": "code",
   "execution_count": 44,
   "metadata": {},
   "outputs": [
    {
     "name": "stderr",
     "output_type": "stream",
     "text": [
      "C:\\Users\\anush\\Anaconda3\\lib\\site-packages\\sklearn\\metrics\\classification.py:1135: UndefinedMetricWarning: F-score is ill-defined and being set to 0.0 in labels with no predicted samples.\n",
      "  'precision', 'predicted', average, warn_for)\n"
     ]
    },
    {
     "name": "stdout",
     "output_type": "stream",
     "text": [
      "Scores on train\n",
      "accuracy = 0.2577048585931835\n",
      "f1_all = [0.         0.         0.         0.         0.         0.\n",
      " 0.32821275 0.         0.         0.         0.         0.\n",
      " 0.         0.         1.         0.         0.         1.\n",
      " 0.         0.61322789 0.         0.         0.00152555 0.\n",
      " 0.        ]\n",
      "f1_micro = 0.2577048585931835\n",
      "f1_macro = 0.11771864794057052\n",
      "f1_weighted = 0.15871556064839917\n",
      "\n"
     ]
    },
    {
     "name": "stderr",
     "output_type": "stream",
     "text": [
      "C:\\Users\\anush\\Anaconda3\\lib\\site-packages\\sklearn\\metrics\\classification.py:1137: UndefinedMetricWarning: F-score is ill-defined and being set to 0.0 in labels with no true samples.\n",
      "  'recall', 'true', average, warn_for)\n"
     ]
    },
    {
     "name": "stdout",
     "output_type": "stream",
     "text": [
      "Scores on dev\n",
      "accuracy = 0.2544861337683524\n",
      "f1_all = [0.         0.         0.         0.         0.         0.\n",
      " 0.33349633 0.         0.         0.         0.         0.\n",
      " 0.         0.         0.         0.         0.         0.\n",
      " 0.         0.62331288 0.         0.         0.         0.\n",
      " 0.        ]\n",
      "f1_micro = 0.2544861337683524\n",
      "f1_macro = 0.04556234361685335\n",
      "f1_weighted = 0.14947281870442197\n",
      "\n"
     ]
    }
   ],
   "source": [
    "clfs['ab_fsn_3'] = Classifier('ab_fsn_3', description=\"Adaboost on first name and surname trigrams\")\n",
    "clfs['ab_fsn_3'].fit(X_train, y_train, AdaBoostClassifier(), vectorizer=CountVectorizer(analyzer=lambda x:get_ngrams(x,3)), metrics_dict=metrics_dict)\n",
    "clfs['ab_fsn_3'].score(X_dev, y_dev, 'dev', metrics_dict=metrics_dict)"
   ]
  },
  {
   "cell_type": "code",
   "execution_count": 45,
   "metadata": {
    "scrolled": true
   },
   "outputs": [
    {
     "name": "stderr",
     "output_type": "stream",
     "text": [
      "C:\\Users\\anush\\Anaconda3\\lib\\site-packages\\sklearn\\metrics\\classification.py:1135: UndefinedMetricWarning: F-score is ill-defined and being set to 0.0 in labels with no predicted samples.\n",
      "  'precision', 'predicted', average, warn_for)\n"
     ]
    },
    {
     "name": "stdout",
     "output_type": "stream",
     "text": [
      "Scores on train\n",
      "accuracy = 0.2577048585931835\n",
      "f1_all = [0.         0.         0.         0.         0.         0.\n",
      " 0.32821275 0.         0.         0.         0.         0.\n",
      " 0.         0.         1.         0.         0.         1.\n",
      " 0.         0.61322789 0.         0.         0.00152555 0.\n",
      " 0.        ]\n",
      "f1_micro = 0.2577048585931835\n",
      "f1_macro = 0.11771864794057052\n",
      "f1_weighted = 0.15871556064839917\n",
      "\n"
     ]
    },
    {
     "name": "stderr",
     "output_type": "stream",
     "text": [
      "C:\\Users\\anush\\Anaconda3\\lib\\site-packages\\sklearn\\metrics\\classification.py:1137: UndefinedMetricWarning: F-score is ill-defined and being set to 0.0 in labels with no true samples.\n",
      "  'recall', 'true', average, warn_for)\n"
     ]
    },
    {
     "name": "stdout",
     "output_type": "stream",
     "text": [
      "Scores on dev\n",
      "accuracy = 0.2544861337683524\n",
      "f1_all = [0.         0.         0.         0.         0.         0.\n",
      " 0.33349633 0.         0.         0.         0.         0.\n",
      " 0.         0.         0.         0.         0.         0.\n",
      " 0.         0.62331288 0.         0.         0.         0.\n",
      " 0.        ]\n",
      "f1_micro = 0.2544861337683524\n",
      "f1_macro = 0.04556234361685335\n",
      "f1_weighted = 0.14947281870442197\n",
      "\n"
     ]
    }
   ],
   "source": [
    "clfs['ab_fsn_23'] = Classifier('ab_fsn_23', description=\"Adaboost on first name and surname bigrams and trigrams\")\n",
    "clfs['ab_fsn_23'].fit(X_train, y_train, AdaBoostClassifier(), vectorizer=CountVectorizer(analyzer=lambda x:get_ngrams(x,2) + get_ngrams(x,3)), metrics_dict=metrics_dict)\n",
    "clfs['ab_fsn_23'].score(X_dev, y_dev, 'dev', metrics_dict=metrics_dict)"
   ]
  },
  {
   "cell_type": "markdown",
   "metadata": {},
   "source": [
    "Default AdaBoost classifier does very poorly"
   ]
  },
  {
   "cell_type": "markdown",
   "metadata": {},
   "source": [
    "## Logistic Regression"
   ]
  },
  {
   "cell_type": "code",
   "execution_count": 39,
   "metadata": {},
   "outputs": [],
   "source": [
    "from sklearn.linear_model import LogisticRegression"
   ]
  },
  {
   "cell_type": "code",
   "execution_count": 47,
   "metadata": {
    "scrolled": false
   },
   "outputs": [
    {
     "name": "stderr",
     "output_type": "stream",
     "text": [
      "C:\\Users\\anush\\Anaconda3\\lib\\site-packages\\sklearn\\metrics\\classification.py:1135: UndefinedMetricWarning: F-score is ill-defined and being set to 0.0 in labels with no predicted samples.\n",
      "  'precision', 'predicted', average, warn_for)\n",
      "C:\\Users\\anush\\Anaconda3\\lib\\site-packages\\sklearn\\metrics\\classification.py:1137: UndefinedMetricWarning: F-score is ill-defined and being set to 0.0 in labels with no true samples.\n",
      "  'recall', 'true', average, warn_for)\n"
     ]
    },
    {
     "name": "stdout",
     "output_type": "stream",
     "text": [
      "Scores on train\n",
      "accuracy = 0.8733683828861494\n",
      "f1_all = [0.9047619  0.91140896 0.65306122 0.         0.88149533 0.66666667\n",
      " 0.83948897 0.87088608 0.         0.875      0.76923077 0.93690249\n",
      " 0.87859825 0.83214649 1.         0.8        0.87174349 1.\n",
      " 0.         0.89734058 0.86904762 0.86956522 0.87401869 0.8\n",
      " 0.89930556]\n",
      "f1_micro = 0.8733683828861494\n",
      "f1_macro = 0.756026730547816\n",
      "f1_weighted = 0.871797655027933\n",
      "\n",
      "Scores on dev\n",
      "accuracy = 0.7495921696574225\n",
      "f1_all = [0.         0.82477876 0.49019608 0.         0.76521739 0.\n",
      " 0.7457405  0.75471698 0.         0.22222222 0.         0.76129032\n",
      " 0.70781893 0.6557377  0.         0.         0.77014925 0.\n",
      " 0.         0.83561644 0.35483871 0.63043478 0.70627803 0.\n",
      " 0.68965517]\n",
      "f1_micro = 0.7495921696574225\n",
      "f1_macro = 0.47212815587710083\n",
      "f1_weighted = 0.7434768627829413\n",
      "\n"
     ]
    }
   ],
   "source": [
    "clfs['lr_fsn_3'] = Classifier('lr_fsn_3', description=\"logistic regression on first name and surname trigrams\")\n",
    "clfs['lr_fsn_3'].fit(X_train, y_train, LogisticRegression(), vectorizer=CountVectorizer(analyzer=lambda x:get_ngrams(x,3)), metrics_dict=metrics_dict)\n",
    "clfs['lr_fsn_3'].score(X_dev, y_dev, 'dev', metrics_dict=metrics_dict)"
   ]
  },
  {
   "cell_type": "code",
   "execution_count": 40,
   "metadata": {
    "scrolled": false
   },
   "outputs": [
    {
     "name": "stderr",
     "output_type": "stream",
     "text": [
      "C:\\Users\\anush\\Anaconda3\\lib\\site-packages\\sklearn\\metrics\\classification.py:1135: UndefinedMetricWarning: F-score is ill-defined and being set to 0.0 in labels with no predicted samples.\n",
      "  'precision', 'predicted', average, warn_for)\n"
     ]
    },
    {
     "name": "stdout",
     "output_type": "stream",
     "text": [
      "Scores on train\n",
      "accuracy = 0.8881435823060189\n",
      "f1_all = [0.93023256 0.92013201 0.71666667 0.         0.89422356 0.8\n",
      " 0.85394829 0.89826303 1.         0.97297297 0.93333333 0.94095238\n",
      " 0.90663391 0.85192698 1.         0.875      0.87887888 1.\n",
      " 1.         0.90684301 0.92655367 0.89077413 0.88696958 1.\n",
      " 0.92020374]\n",
      "f1_micro = 0.888143582306019\n",
      "f1_macro = 0.8761803475423018\n",
      "f1_weighted = 0.8871858795414143\n",
      "\n"
     ]
    },
    {
     "name": "stderr",
     "output_type": "stream",
     "text": [
      "C:\\Users\\anush\\Anaconda3\\lib\\site-packages\\sklearn\\metrics\\classification.py:1137: UndefinedMetricWarning: F-score is ill-defined and being set to 0.0 in labels with no true samples.\n",
      "  'recall', 'true', average, warn_for)\n"
     ]
    },
    {
     "name": "stdout",
     "output_type": "stream",
     "text": [
      "Scores on dev\n",
      "accuracy = 0.7517672648178357\n",
      "f1_all = [0.44444444 0.82005372 0.48598131 0.         0.76431718 0.\n",
      " 0.75664894 0.7375     0.         0.2        0.         0.73202614\n",
      " 0.70682731 0.64686469 0.         0.         0.75801749 0.\n",
      " 0.         0.83984375 0.38095238 0.64827586 0.71668533 0.\n",
      " 0.70422535]\n",
      "f1_micro = 0.7517672648178357\n",
      "f1_macro = 0.49250780441145037\n",
      "f1_weighted = 0.74667975720378\n",
      "\n"
     ]
    }
   ],
   "source": [
    "clfs['lr_fsn_23'] = Classifier('lr_fsn_23', description=\"logistic regression on first name and surname bigrams and trigrams\")\n",
    "clfs['lr_fsn_23'].fit(X_train, y_train, LogisticRegression(), vectorizer=CountVectorizer(analyzer=lambda x:get_ngrams(x,2) + get_ngrams(x,3)), metrics_dict=metrics_dict)\n",
    "clfs['lr_fsn_23'].score(X_dev, y_dev, 'dev', metrics_dict=metrics_dict)"
   ]
  },
  {
   "cell_type": "markdown",
   "metadata": {},
   "source": [
    "## SVMs"
   ]
  },
  {
   "cell_type": "code",
   "execution_count": 46,
   "metadata": {},
   "outputs": [],
   "source": [
    "from sklearn.svm import SVC"
   ]
  },
  {
   "cell_type": "code",
   "execution_count": 48,
   "metadata": {
    "scrolled": true
   },
   "outputs": [
    {
     "name": "stderr",
     "output_type": "stream",
     "text": [
      "C:\\Users\\anush\\Anaconda3\\lib\\site-packages\\sklearn\\metrics\\classification.py:1135: UndefinedMetricWarning: F-score is ill-defined and being set to 0.0 in labels with no predicted samples.\n",
      "  'precision', 'predicted', average, warn_for)\n"
     ]
    },
    {
     "name": "stdout",
     "output_type": "stream",
     "text": [
      "Scores on train\n",
      "accuracy = 0.25734227701232776\n",
      "f1_all = [0.         0.         0.         0.         0.         0.\n",
      " 0.32786074 0.         0.         0.         0.         0.\n",
      " 0.         0.         0.         0.         0.         0.\n",
      " 0.         0.61449693 0.         0.         0.         0.\n",
      " 0.        ]\n",
      "f1_micro = 0.25734227701232776\n",
      "f1_macro = 0.03769430689162556\n",
      "f1_weighted = 0.15847718021203616\n",
      "\n"
     ]
    },
    {
     "name": "stderr",
     "output_type": "stream",
     "text": [
      "C:\\Users\\anush\\Anaconda3\\lib\\site-packages\\sklearn\\metrics\\classification.py:1137: UndefinedMetricWarning: F-score is ill-defined and being set to 0.0 in labels with no true samples.\n",
      "  'recall', 'true', average, warn_for)\n"
     ]
    },
    {
     "name": "stdout",
     "output_type": "stream",
     "text": [
      "Scores on dev\n",
      "accuracy = 0.2544861337683524\n",
      "f1_all = [0.         0.         0.         0.         0.         0.\n",
      " 0.33325189 0.         0.         0.         0.         0.\n",
      " 0.         0.         0.         0.         0.         0.\n",
      " 0.         0.62561576 0.         0.         0.         0.\n",
      " 0.        ]\n",
      "f1_micro = 0.2544861337683524\n",
      "f1_macro = 0.045660364620165025\n",
      "f1_weighted = 0.1497271751712573\n",
      "\n"
     ]
    }
   ],
   "source": [
    "clfs['svmr_fsn_3'] = Classifier('svmr_fsn_3', description=\"SVM with rbf kernel on first name and surname trigrams\")\n",
    "clfs['svmr_fsn_3'].fit(X_train, y_train, SVC(), vectorizer=CountVectorizer(analyzer=lambda x:get_ngrams(x,3)), metrics_dict=metrics_dict)\n",
    "clfs['svmr_fsn_3'].score(X_dev, y_dev, 'dev', metrics_dict=metrics_dict)"
   ]
  },
  {
   "cell_type": "code",
   "execution_count": 49,
   "metadata": {
    "scrolled": true
   },
   "outputs": [
    {
     "name": "stderr",
     "output_type": "stream",
     "text": [
      "C:\\Users\\anush\\Anaconda3\\lib\\site-packages\\sklearn\\metrics\\classification.py:1135: UndefinedMetricWarning: F-score is ill-defined and being set to 0.0 in labels with no predicted samples.\n",
      "  'precision', 'predicted', average, warn_for)\n"
     ]
    },
    {
     "name": "stdout",
     "output_type": "stream",
     "text": [
      "Scores on train\n",
      "accuracy = 0.25734227701232776\n",
      "f1_all = [0.         0.00268456 0.         0.         0.         0.\n",
      " 0.32771721 0.         0.         0.         0.         0.\n",
      " 0.         0.         0.         0.         0.         0.\n",
      " 0.         0.61300755 0.         0.         0.         0.\n",
      " 0.        ]\n",
      "f1_micro = 0.25734227701232776\n",
      "f1_macro = 0.03773637285332313\n",
      "f1_weighted = 0.1585835895582161\n",
      "\n"
     ]
    },
    {
     "name": "stderr",
     "output_type": "stream",
     "text": [
      "C:\\Users\\anush\\Anaconda3\\lib\\site-packages\\sklearn\\metrics\\classification.py:1137: UndefinedMetricWarning: F-score is ill-defined and being set to 0.0 in labels with no true samples.\n",
      "  'recall', 'true', average, warn_for)\n"
     ]
    },
    {
     "name": "stdout",
     "output_type": "stream",
     "text": [
      "Scores on dev\n",
      "accuracy = 0.2544861337683524\n",
      "f1_all = [0.         0.00368324 0.         0.         0.         0.\n",
      " 0.33300733 0.         0.         0.         0.         0.\n",
      " 0.         0.         0.         0.         0.         0.\n",
      " 0.         0.62407862 0.         0.         0.         0.\n",
      " 0.        ]\n",
      "f1_micro = 0.2544861337683524\n",
      "f1_macro = 0.04575091429972625\n",
      "f1_weighted = 0.15001791516576066\n",
      "\n"
     ]
    }
   ],
   "source": [
    "clfs['svmr_fsn_23'] = Classifier('svmr_fsn_23', description=\"SVM with rbf kernel on first name and surname bigrams and trigrams\")\n",
    "clfs['svmr_fsn_23'].fit(X_train, y_train, SVC(), vectorizer=CountVectorizer(analyzer=lambda x:get_ngrams(x,2) + get_ngrams(x,3)), metrics_dict=metrics_dict)\n",
    "clfs['svmr_fsn_23'].score(X_dev, y_dev, 'dev', metrics_dict=metrics_dict)"
   ]
  },
  {
   "cell_type": "markdown",
   "metadata": {},
   "source": [
    "SVM with rbf kernel performs very poorly"
   ]
  },
  {
   "cell_type": "code",
   "execution_count": 50,
   "metadata": {
    "scrolled": true
   },
   "outputs": [
    {
     "name": "stderr",
     "output_type": "stream",
     "text": [
      "C:\\Users\\anush\\Anaconda3\\lib\\site-packages\\sklearn\\metrics\\classification.py:1135: UndefinedMetricWarning: F-score is ill-defined and being set to 0.0 in labels with no predicted samples.\n",
      "  'precision', 'predicted', average, warn_for)\n"
     ]
    },
    {
     "name": "stdout",
     "output_type": "stream",
     "text": [
      "Scores on train\n",
      "accuracy = 0.9509608411892676\n",
      "f1_all = [1.         0.96505824 0.92009685 0.         0.95860235 1.\n",
      " 0.92467652 0.97663551 1.         0.97297297 0.93333333 0.99267399\n",
      " 0.9684466  0.91935484 1.         1.         0.95085256 1.\n",
      " 1.         0.95481221 0.98378378 0.96963351 0.94785276 1.\n",
      " 0.97822446]\n",
      "f1_micro = 0.9509608411892677\n",
      "f1_macro = 0.9326804197654534\n",
      "f1_weighted = 0.9507361854701186\n",
      "\n"
     ]
    },
    {
     "name": "stderr",
     "output_type": "stream",
     "text": [
      "C:\\Users\\anush\\Anaconda3\\lib\\site-packages\\sklearn\\metrics\\classification.py:1137: UndefinedMetricWarning: F-score is ill-defined and being set to 0.0 in labels with no true samples.\n",
      "  'recall', 'true', average, warn_for)\n"
     ]
    },
    {
     "name": "stdout",
     "output_type": "stream",
     "text": [
      "Scores on dev\n",
      "accuracy = 0.745241979336596\n",
      "f1_all = [0.54545455 0.82426405 0.5        0.         0.76129032 0.\n",
      " 0.74365482 0.73053892 0.         0.36363636 0.5        0.725\n",
      " 0.71255061 0.62046205 0.         0.         0.71779141 0.\n",
      " 0.         0.84188912 0.4057971  0.65277778 0.70716889 0.\n",
      " 0.70093458]\n",
      "f1_micro = 0.745241979336596\n",
      "f1_macro = 0.5263433600310139\n",
      "f1_weighted = 0.7417027205641732\n",
      "\n"
     ]
    }
   ],
   "source": [
    "clfs['svml_fsn_3'] = Classifier('svml_fsn_3', description=\"SVM with linear kernel on first name and surname trigrams\")\n",
    "clfs['svml_fsn_3'].fit(X_train, y_train, SVC(kernel='linear'), vectorizer=CountVectorizer(analyzer=lambda x:get_ngrams(x,3)), metrics_dict=metrics_dict)\n",
    "clfs['svml_fsn_3'].score(X_dev, y_dev, 'dev', metrics_dict=metrics_dict)"
   ]
  },
  {
   "cell_type": "code",
   "execution_count": 51,
   "metadata": {
    "scrolled": true
   },
   "outputs": [
    {
     "name": "stdout",
     "output_type": "stream",
     "text": [
      "Scores on train\n",
      "accuracy = 0.9635605511240029\n",
      "f1_all = [1.         0.976      0.94588235 0.8        0.96891585 1.\n",
      " 0.93721145 0.99307159 1.         0.97297297 1.         0.99449541\n",
      " 0.98660171 0.94343434 1.         1.         0.97467072 1.\n",
      " 1.         0.96082474 1.         0.98550725 0.96307692 1.\n",
      " 0.97993311]\n",
      "f1_micro = 0.9635605511240029\n",
      "f1_macro = 0.9753039366967589\n",
      "f1_weighted = 0.963497372116347\n",
      "\n"
     ]
    },
    {
     "name": "stderr",
     "output_type": "stream",
     "text": [
      "C:\\Users\\anush\\Anaconda3\\lib\\site-packages\\sklearn\\metrics\\classification.py:1135: UndefinedMetricWarning: F-score is ill-defined and being set to 0.0 in labels with no predicted samples.\n",
      "  'precision', 'predicted', average, warn_for)\n",
      "C:\\Users\\anush\\Anaconda3\\lib\\site-packages\\sklearn\\metrics\\classification.py:1137: UndefinedMetricWarning: F-score is ill-defined and being set to 0.0 in labels with no true samples.\n",
      "  'recall', 'true', average, warn_for)\n"
     ]
    },
    {
     "name": "stdout",
     "output_type": "stream",
     "text": [
      "Scores on dev\n",
      "accuracy = 0.7468733007069059\n",
      "f1_all = [0.5        0.81906443 0.50746269 0.5        0.76567657 0.\n",
      " 0.75079669 0.72727273 0.         0.4        1.         0.72049689\n",
      " 0.70967742 0.6442953  0.         0.         0.71826625 0.\n",
      " 0.         0.82507583 0.375      0.68531469 0.70356704 0.\n",
      " 0.71889401]\n",
      "f1_micro = 0.7468733007069059\n",
      "f1_macro = 0.574802882477354\n",
      "f1_weighted = 0.7434744001299007\n",
      "\n"
     ]
    }
   ],
   "source": [
    "clfs['svml_fsn_23'] = Classifier('svlm_fsn_23', description=\"SVM with linear kernel on first name and surname bigrams and trigrams\")\n",
    "clfs['svml_fsn_23'].fit(X_train, y_train, SVC(kernel='linear'), vectorizer=CountVectorizer(analyzer=lambda x:get_ngrams(x,2) + get_ngrams(x,3)), metrics_dict=metrics_dict)\n",
    "clfs['svml_fsn_23'].score(X_dev, y_dev, 'dev', metrics_dict=metrics_dict)"
   ]
  },
  {
   "cell_type": "markdown",
   "metadata": {},
   "source": [
    "SVM with linear kernel gives much higher scores for both train and dev than SVM with rbf kernel, however dev scores are similar to those given by Logistic Regression, which was much quicker to train"
   ]
  },
  {
   "cell_type": "code",
   "execution_count": 54,
   "metadata": {
    "scrolled": false
   },
   "outputs": [
    {
     "name": "stderr",
     "output_type": "stream",
     "text": [
      "C:\\Users\\anush\\Anaconda3\\lib\\site-packages\\sklearn\\metrics\\classification.py:1135: UndefinedMetricWarning: F-score is ill-defined and being set to 0.0 in labels with no predicted samples.\n",
      "  'precision', 'predicted', average, warn_for)\n"
     ]
    },
    {
     "name": "stdout",
     "output_type": "stream",
     "text": [
      "Scores on train\n",
      "accuracy = 0.19760696156635243\n",
      "f1_all = [0.         0.         0.         0.         0.         0.\n",
      " 0.33000303 0.         0.         0.         0.         0.\n",
      " 0.         0.         0.         0.         0.         0.\n",
      " 0.         0.         0.         0.         0.         0.\n",
      " 0.        ]\n",
      "f1_micro = 0.1976069615663524\n",
      "f1_macro = 0.013200121102028459\n",
      "f1_weighted = 0.06521089558199339\n",
      "\n"
     ]
    },
    {
     "name": "stderr",
     "output_type": "stream",
     "text": [
      "C:\\Users\\anush\\Anaconda3\\lib\\site-packages\\sklearn\\metrics\\classification.py:1137: UndefinedMetricWarning: F-score is ill-defined and being set to 0.0 in labels with no true samples.\n",
      "  'recall', 'true', average, warn_for)\n"
     ]
    },
    {
     "name": "stdout",
     "output_type": "stream",
     "text": [
      "Scores on dev\n",
      "accuracy = 0.20174007612833061\n",
      "f1_all = [0.         0.         0.         0.         0.         0.\n",
      " 0.33574661 0.         0.         0.         0.         0.\n",
      " 0.         0.         0.         0.         0.         0.\n",
      " 0.         0.         0.         0.         0.         0.\n",
      " 0.        ]\n",
      "f1_micro = 0.2017400761283306\n",
      "f1_macro = 0.01598793363499246\n",
      "f1_weighted = 0.06773354592181961\n",
      "\n"
     ]
    }
   ],
   "source": [
    "clfs['svmp_fsn_3'] = Classifier('svmp_fsn_3', description=\"SVM with poly (degree=3) kernel on first name and surname trigrams\")\n",
    "clfs['svmp_fsn_3'].fit(X_train, y_train, SVC(kernel='poly'), vectorizer=CountVectorizer(analyzer=lambda x:get_ngrams(x,3)), metrics_dict=metrics_dict)\n",
    "clfs['svmp_fsn_3'].score(X_dev, y_dev, 'dev', metrics_dict=metrics_dict)"
   ]
  },
  {
   "cell_type": "code",
   "execution_count": 53,
   "metadata": {
    "scrolled": false
   },
   "outputs": [
    {
     "name": "stderr",
     "output_type": "stream",
     "text": [
      "C:\\Users\\anush\\Anaconda3\\lib\\site-packages\\sklearn\\metrics\\classification.py:1135: UndefinedMetricWarning: F-score is ill-defined and being set to 0.0 in labels with no predicted samples.\n",
      "  'precision', 'predicted', average, warn_for)\n"
     ]
    },
    {
     "name": "stdout",
     "output_type": "stream",
     "text": [
      "Scores on train\n",
      "accuracy = 0.19760696156635243\n",
      "f1_all = [0.         0.         0.         0.         0.         0.\n",
      " 0.33000303 0.         0.         0.         0.         0.\n",
      " 0.         0.         0.         0.         0.         0.\n",
      " 0.         0.         0.         0.         0.         0.\n",
      " 0.        ]\n",
      "f1_micro = 0.1976069615663524\n",
      "f1_macro = 0.013200121102028459\n",
      "f1_weighted = 0.06521089558199339\n",
      "\n"
     ]
    },
    {
     "name": "stderr",
     "output_type": "stream",
     "text": [
      "C:\\Users\\anush\\Anaconda3\\lib\\site-packages\\sklearn\\metrics\\classification.py:1137: UndefinedMetricWarning: F-score is ill-defined and being set to 0.0 in labels with no true samples.\n",
      "  'recall', 'true', average, warn_for)\n"
     ]
    },
    {
     "name": "stdout",
     "output_type": "stream",
     "text": [
      "Scores on dev\n",
      "accuracy = 0.20174007612833061\n",
      "f1_all = [0.         0.         0.         0.         0.         0.\n",
      " 0.33574661 0.         0.         0.         0.         0.\n",
      " 0.         0.         0.         0.         0.         0.\n",
      " 0.         0.         0.         0.         0.         0.\n",
      " 0.        ]\n",
      "f1_micro = 0.2017400761283306\n",
      "f1_macro = 0.01598793363499246\n",
      "f1_weighted = 0.06773354592181961\n",
      "\n"
     ]
    }
   ],
   "source": [
    "clfs['svmp_fsn_23'] = Classifier('svlp_fsn_23', description=\"SVM with poly (degree=3) kernel on first name and surname bigrams and trigrams\")\n",
    "clfs['svmp_fsn_23'].fit(X_train, y_train, SVC(kernel='poly'), vectorizer=CountVectorizer(analyzer=lambda x:get_ngrams(x,2) + get_ngrams(x,3)), metrics_dict=metrics_dict)\n",
    "clfs['svmp_fsn_23'].score(X_dev, y_dev, 'dev', metrics_dict=metrics_dict)"
   ]
  },
  {
   "cell_type": "markdown",
   "metadata": {},
   "source": [
    "Default SVM with poly kernel gives very poor results"
   ]
  },
  {
   "cell_type": "markdown",
   "metadata": {},
   "source": [
    "## k Nearest Neighbours"
   ]
  },
  {
   "cell_type": "code",
   "execution_count": 55,
   "metadata": {},
   "outputs": [],
   "source": [
    "from sklearn.neighbors import KNeighborsClassifier"
   ]
  },
  {
   "cell_type": "code",
   "execution_count": 65,
   "metadata": {
    "scrolled": true
   },
   "outputs": [
    {
     "name": "stderr",
     "output_type": "stream",
     "text": [
      "C:\\Users\\anush\\Anaconda3\\lib\\site-packages\\sklearn\\metrics\\classification.py:1135: UndefinedMetricWarning: F-score is ill-defined and being set to 0.0 in labels with no predicted samples.\n",
      "  'precision', 'predicted', average, warn_for)\n"
     ]
    },
    {
     "name": "stdout",
     "output_type": "stream",
     "text": [
      "Scores on train\n",
      "accuracy = 0.7531725888324873\n",
      "f1_all = [0.57142857 0.81125227 0.59125964 0.         0.77423775 0.6\n",
      " 0.7361483  0.66285714 0.         0.64285714 0.4        0.71861472\n",
      " 0.71633238 0.56790123 0.         0.         0.66290868 0.\n",
      " 0.         0.82891125 0.64864865 0.77377049 0.73552686 0.\n",
      " 0.78373383]\n",
      "f1_micro = 0.7531725888324873\n",
      "f1_macro = 0.48905555662058264\n",
      "f1_weighted = 0.7485695781339124\n",
      "\n"
     ]
    },
    {
     "name": "stderr",
     "output_type": "stream",
     "text": [
      "C:\\Users\\anush\\Anaconda3\\lib\\site-packages\\sklearn\\metrics\\classification.py:1137: UndefinedMetricWarning: F-score is ill-defined and being set to 0.0 in labels with no true samples.\n",
      "  'recall', 'true', average, warn_for)\n"
     ]
    },
    {
     "name": "stdout",
     "output_type": "stream",
     "text": [
      "Scores on dev\n",
      "accuracy = 0.6324089178901577\n",
      "f1_all = [0.22222222 0.75434243 0.37931034 0.         0.65440465 0.\n",
      " 0.63785047 0.55172414 0.         0.22222222 0.         0.625\n",
      " 0.48756219 0.38888889 0.         0.         0.46052632 0.\n",
      " 0.         0.72863248 0.20833333 0.5546875  0.57853403 0.\n",
      " 0.68269231]\n",
      "f1_micro = 0.6324089178901577\n",
      "f1_macro = 0.3874730246533145\n",
      "f1_weighted = 0.6204713865039307\n",
      "\n"
     ]
    }
   ],
   "source": [
    "clfs['knn_fsn_3'] = Classifier('knn_fsn_3', description=\"kNN on first name and surname trigrams\")\n",
    "clfs['knn_fsn_3'].fit(X_train, y_train, KNeighborsClassifier(), vectorizer=CountVectorizer(analyzer=lambda x:get_ngrams(x,3)), metrics_dict=metrics_dict)\n",
    "clfs['knn_fsn_3'].score(X_dev, y_dev, 'dev', metrics_dict=metrics_dict)"
   ]
  },
  {
   "cell_type": "code",
   "execution_count": 57,
   "metadata": {
    "scrolled": false
   },
   "outputs": [
    {
     "name": "stderr",
     "output_type": "stream",
     "text": [
      "C:\\Users\\anush\\Anaconda3\\lib\\site-packages\\sklearn\\metrics\\classification.py:1135: UndefinedMetricWarning: F-score is ill-defined and being set to 0.0 in labels with no predicted samples.\n",
      "  'precision', 'predicted', average, warn_for)\n"
     ]
    },
    {
     "name": "stdout",
     "output_type": "stream",
     "text": [
      "Scores on train\n",
      "accuracy = 0.751178390137781\n",
      "f1_all = [0.64864865 0.8202765  0.52763819 0.         0.77218225 0.66666667\n",
      " 0.72674176 0.69060773 0.         0.62068966 0.4        0.67973856\n",
      " 0.70070922 0.5861244  0.         0.         0.66366704 0.\n",
      " 0.         0.83173653 0.62585034 0.76339286 0.73767095 0.\n",
      " 0.79633028]\n",
      "f1_micro = 0.751178390137781\n",
      "f1_macro = 0.4903468633055779\n",
      "f1_weighted = 0.7468081774025634\n",
      "\n"
     ]
    },
    {
     "name": "stderr",
     "output_type": "stream",
     "text": [
      "C:\\Users\\anush\\Anaconda3\\lib\\site-packages\\sklearn\\metrics\\classification.py:1137: UndefinedMetricWarning: F-score is ill-defined and being set to 0.0 in labels with no true samples.\n",
      "  'recall', 'true', average, warn_for)\n"
     ]
    },
    {
     "name": "stdout",
     "output_type": "stream",
     "text": [
      "Scores on dev\n",
      "accuracy = 0.6373028820010875\n",
      "f1_all = [0.2        0.76112026 0.31932773 0.         0.64313725 0.\n",
      " 0.63555818 0.56944444 0.         0.         0.         0.625\n",
      " 0.53921569 0.37450199 0.         0.         0.5083612  0.\n",
      " 0.         0.74143302 0.17777778 0.61176471 0.58441558 0.\n",
      " 0.65700483]\n",
      "f1_micro = 0.6373028820010875\n",
      "f1_macro = 0.37847917513784385\n",
      "f1_weighted = 0.6252560436081231\n",
      "\n"
     ]
    }
   ],
   "source": [
    "clfs['knn_fsn_23'] = Classifier('knn_fsn_23', description=\"kNN on first name and surname bigrams and trigrams\")\n",
    "clfs['knn_fsn_23'].fit(X_train, y_train, KNeighborsClassifier(), vectorizer=CountVectorizer(analyzer=lambda x:get_ngrams(x,2) + get_ngrams(x,3)), metrics_dict=metrics_dict)\n",
    "clfs['knn_fsn_23'].score(X_dev, y_dev, 'dev', metrics_dict=metrics_dict)"
   ]
  },
  {
   "cell_type": "markdown",
   "metadata": {},
   "source": [
    "kNN is unable to fit data very well (it has high bias)"
   ]
  },
  {
   "cell_type": "markdown",
   "metadata": {},
   "source": [
    "# Trying out embeddings"
   ]
  },
  {
   "cell_type": "code",
   "execution_count": 67,
   "metadata": {},
   "outputs": [
    {
     "name": "stderr",
     "output_type": "stream",
     "text": [
      "C:\\Users\\anush\\Anaconda3\\lib\\site-packages\\h5py\\__init__.py:36: FutureWarning: Conversion of the second argument of issubdtype from `float` to `np.floating` is deprecated. In future, it will be treated as `np.float64 == np.dtype(float).type`.\n",
      "  from ._conv import register_converters as _register_converters\n",
      "Using TensorFlow backend.\n"
     ]
    }
   ],
   "source": [
    "from keras.layers import Dense, Embedding, Input, GRU\n",
    "from keras.models import Model\n",
    "from keras.utils import to_categorical\n",
    "from keras.callbacks import EarlyStopping, ModelCheckpoint "
   ]
  },
  {
   "cell_type": "code",
   "execution_count": 68,
   "metadata": {},
   "outputs": [],
   "source": [
    "#get label/id for a character\n",
    "def get_char_val(ch):\n",
    "    n = ord(ch) - ord('a')\n",
    "    if n>25 or n<0:\n",
    "        n = 26\n",
    "    return n"
   ]
  },
  {
   "cell_type": "code",
   "execution_count": 69,
   "metadata": {},
   "outputs": [],
   "source": [
    "#get np array of labels/ids corresponding to characters in a name\n",
    "def get_name_val(name):\n",
    "    return np.array([get_char_val(c) for c in name])"
   ]
  },
  {
   "cell_type": "code",
   "execution_count": 70,
   "metadata": {},
   "outputs": [],
   "source": [
    "#convert sequence of names to sequences of label arrays\n",
    "def get_names_vals(names):\n",
    "    return np.array([get_name_val(name) for name in names])"
   ]
  },
  {
   "cell_type": "code",
   "execution_count": 71,
   "metadata": {},
   "outputs": [],
   "source": [
    "#get character corresponding to label\n",
    "def get_val_char(val):\n",
    "    return chr(val + ord('a'))"
   ]
  },
  {
   "cell_type": "code",
   "execution_count": 72,
   "metadata": {},
   "outputs": [],
   "source": [
    "#get name corresponding to sequence of labels\n",
    "def get_val_name(vals):\n",
    "    return np.array([get_val_char(v) for v in vals])"
   ]
  },
  {
   "cell_type": "code",
   "execution_count": 73,
   "metadata": {},
   "outputs": [],
   "source": [
    "EMBEDDING_DIM = 5 #embedding vector dimensions for a character (smaller value chosen to avoid overfitting small dataset)"
   ]
  },
  {
   "cell_type": "code",
   "execution_count": 74,
   "metadata": {},
   "outputs": [],
   "source": [
    "n_classes = df['Community'].unique().shape[0]"
   ]
  },
  {
   "cell_type": "code",
   "execution_count": 75,
   "metadata": {},
   "outputs": [],
   "source": [
    "n_vocab = 26"
   ]
  },
  {
   "cell_type": "markdown",
   "metadata": {},
   "source": [
    "## RNN over characters"
   ]
  },
  {
   "cell_type": "code",
   "execution_count": 76,
   "metadata": {},
   "outputs": [],
   "source": [
    "n_epochs = 20"
   ]
  },
  {
   "cell_type": "markdown",
   "metadata": {},
   "source": [
    "Many to one sequence model\n",
    "\n",
    "With varying sequence lengths (stochastic / 1 name per batch)"
   ]
  },
  {
   "cell_type": "markdown",
   "metadata": {},
   "source": [
    "### Over last names only"
   ]
  },
  {
   "cell_type": "code",
   "execution_count": 24,
   "metadata": {},
   "outputs": [],
   "source": [
    "def rnn_generator(X,y):\n",
    "    for x_i, y_i in zip(X,y):\n",
    "        yield (get_name_val(x_i).reshape(1,-1), to_categorical(y_i, num_classes=n_classes).reshape(1,-1))"
   ]
  },
  {
   "cell_type": "code",
   "execution_count": 23,
   "metadata": {},
   "outputs": [],
   "source": [
    "def rnn_predict(names, model, argmax=True, x_processor=None):\n",
    "    if x_processor is None:\n",
    "        x_processor = lambda x: get_name_val(x).reshape(1,-1)\n",
    "        \n",
    "    predictions = []\n",
    "    for name in names:\n",
    "        result = model.predict( x_processor(name) )\n",
    "        if argmax:\n",
    "            result = np.argmax(result)\n",
    "        predictions += [result]\n",
    "    return np.array(predictions)"
   ]
  },
  {
   "cell_type": "code",
   "execution_count": 32,
   "metadata": {},
   "outputs": [],
   "source": [
    "X_train, X_dev, y_train, y_dev = train_test_split(df['Surname'][surnames_mask].values, labels[surnames_mask], random_state = RANDOM_STATE)"
   ]
  },
  {
   "cell_type": "code",
   "execution_count": 82,
   "metadata": {},
   "outputs": [],
   "source": [
    "inp = Input(batch_shape=(1,None,))\n",
    "x = Embedding(n_vocab, EMBEDDING_DIM, trainable=True)(inp)\n",
    "x = GRU(64)(x)\n",
    "out = Dense(n_classes, activation='softmax')(x)\n",
    "model = Model(inputs=inp, outputs=out)\n",
    "model.compile(loss='categorical_crossentropy', optimizer='adam', metrics=['accuracy'])"
   ]
  },
  {
   "cell_type": "code",
   "execution_count": 71,
   "metadata": {},
   "outputs": [
    {
     "name": "stdout",
     "output_type": "stream",
     "text": [
      "_________________________________________________________________\n",
      "Layer (type)                 Output Shape              Param #   \n",
      "=================================================================\n",
      "input_2 (InputLayer)         (1, None)                 0         \n",
      "_________________________________________________________________\n",
      "embedding_3 (Embedding)      (1, None, 5)              130       \n",
      "_________________________________________________________________\n",
      "gru_4 (GRU)                  (1, 64)                   13440     \n",
      "_________________________________________________________________\n",
      "dense_2 (Dense)              (1, 25)                   1625      \n",
      "=================================================================\n",
      "Total params: 15,195\n",
      "Trainable params: 15,195\n",
      "Non-trainable params: 0\n",
      "_________________________________________________________________\n"
     ]
    }
   ],
   "source": [
    "model.summary()"
   ]
  },
  {
   "cell_type": "code",
   "execution_count": 83,
   "metadata": {
    "scrolled": true
   },
   "outputs": [
    {
     "name": "stdout",
     "output_type": "stream",
     "text": [
      "Epoch 1/20\n",
      "11180/11180 [==============================] - 83s 7ms/step - loss: 2.0481 - acc: 0.3598 - val_loss: 1.7642 - val_acc: 0.4752\n",
      "\n",
      "Epoch 00001: val_loss improved from inf to 1.76423, saving model to model.hdf5\n",
      "Epoch 2/20\n",
      "11180/11180 [==============================] - 72s 6ms/step - loss: 1.6271 - acc: 0.5209 - val_loss: 1.4956 - val_acc: 0.5573\n",
      "\n",
      "Epoch 00002: val_loss improved from 1.76423 to 1.49557, saving model to model.hdf5\n",
      "Epoch 3/20\n",
      "11180/11180 [==============================] - 70s 6ms/step - loss: 1.3940 - acc: 0.5886 - val_loss: 1.3635 - val_acc: 0.5991\n",
      "\n",
      "Epoch 00003: val_loss improved from 1.49557 to 1.36348, saving model to model.hdf5\n",
      "Epoch 4/20\n",
      "11180/11180 [==============================] - 56s 5ms/step - loss: 1.2408 - acc: 0.6326 - val_loss: 1.2959 - val_acc: 0.6206\n",
      "\n",
      "Epoch 00004: val_loss improved from 1.36348 to 1.29591, saving model to model.hdf5\n",
      "Epoch 5/20\n",
      "11180/11180 [==============================] - 79s 7ms/step - loss: 1.1420 - acc: 0.6574 - val_loss: 1.2592 - val_acc: 0.6407\n",
      "\n",
      "Epoch 00005: val_loss improved from 1.29591 to 1.25921, saving model to model.hdf5\n",
      "Epoch 6/20\n",
      "11180/11180 [==============================] - 62s 6ms/step - loss: 1.0686 - acc: 0.6758 - val_loss: 1.2436 - val_acc: 0.6482\n",
      "\n",
      "Epoch 00006: val_loss improved from 1.25921 to 1.24355, saving model to model.hdf5\n",
      "Epoch 7/20\n",
      "11180/11180 [==============================] - 57s 5ms/step - loss: 1.0125 - acc: 0.6887 - val_loss: 1.2411 - val_acc: 0.6405\n",
      "\n",
      "Epoch 00007: val_loss improved from 1.24355 to 1.24110, saving model to model.hdf5\n",
      "Epoch 8/20\n",
      "11180/11180 [==============================] - 72s 6ms/step - loss: 0.9685 - acc: 0.7003 - val_loss: 1.2375 - val_acc: 0.6617\n",
      "\n",
      "Epoch 00008: val_loss improved from 1.24110 to 1.23751, saving model to model.hdf5\n",
      "Epoch 9/20\n",
      "11180/11180 [==============================] - 57s 5ms/step - loss: 0.9324 - acc: 0.7074 - val_loss: 1.2473 - val_acc: 0.6507\n",
      "\n",
      "Epoch 00009: val_loss did not improve from 1.23751\n",
      "Epoch 10/20\n",
      "11180/11180 [==============================] - 37s 3ms/step - loss: 0.9076 - acc: 0.7147 - val_loss: 1.2535 - val_acc: 0.6563\n",
      "\n",
      "Epoch 00010: val_loss did not improve from 1.23751\n",
      "Epoch 11/20\n",
      "11180/11180 [==============================] - 37s 3ms/step - loss: 0.8805 - acc: 0.7202 - val_loss: 1.2538 - val_acc: 0.6523\n",
      "\n",
      "Epoch 00011: val_loss did not improve from 1.23751\n",
      "Epoch 12/20\n",
      "11180/11180 [==============================] - 61s 5ms/step - loss: 0.8671 - acc: 0.7252 - val_loss: 1.2588 - val_acc: 0.6531\n",
      "Restoring model weights from the end of the best epoch\n",
      "\n",
      "Epoch 00012: val_loss did not improve from 1.23751\n",
      "Epoch 00012: early stopping\n"
     ]
    },
    {
     "data": {
      "text/plain": [
       "<keras.callbacks.History at 0x175b81e9278>"
      ]
     },
     "execution_count": 83,
     "metadata": {},
     "output_type": "execute_result"
    }
   ],
   "source": [
    "check_point = ModelCheckpoint('checkpoints\\\\model_rnn_lastname.hdf5', verbose=True, save_best_only=True)\n",
    "early_stop = EarlyStopping(monitor='val_loss', patience=4, verbose=True, restore_best_weights=True)\n",
    "model.fit_generator(rnn_generator(X_train,y_train), validation_data=rnn_generator(X_dev,y_dev), steps_per_epoch=len(X_train), validation_steps=len(X_dev), epochs=n_epochs, verbose=1, callbacks=[early_stop,check_point])"
   ]
  },
  {
   "cell_type": "code",
   "execution_count": 25,
   "metadata": {},
   "outputs": [],
   "source": [
    "metrics_dict['accuracy'] = accuracy_score"
   ]
  },
  {
   "cell_type": "code",
   "execution_count": 104,
   "metadata": {},
   "outputs": [
    {
     "name": "stdout",
     "output_type": "stream",
     "text": [
      "Train..\n",
      "f1_all = [0.71794872 0.83224401 0.34       0.         0.75893887 0.5\n",
      " 0.66012216 0.70588235 0.         0.10526316 0.         0.69487751\n",
      " 0.70113493 0.53056769 0.         0.6        0.81031308 0.\n",
      " 0.         0.80210935 0.16363636 0.65259117 0.66214058 0.\n",
      " 0.70700637]\n",
      "f1_micro = 0.7176207513416817\n",
      "f1_macro = 0.43779105203222535\n",
      "f1_weighted = 0.7092129072705889\n",
      "accuracy = 0.7176207513416816\n"
     ]
    },
    {
     "name": "stderr",
     "output_type": "stream",
     "text": [
      "C:\\Users\\anush\\Anaconda3\\lib\\site-packages\\sklearn\\metrics\\classification.py:1135: UndefinedMetricWarning: F-score is ill-defined and being set to 0.0 in labels with no predicted samples.\n",
      "  'precision', 'predicted', average, warn_for)\n"
     ]
    }
   ],
   "source": [
    "yhat_train = rnn_predict(X_train, model)\n",
    "print('Train..')\n",
    "for metric, metric_fn in metrics_dict.items():\n",
    "    print(metric,\"=\", metric_fn(y_train, yhat_train))"
   ]
  },
  {
   "cell_type": "code",
   "execution_count": 180,
   "metadata": {},
   "outputs": [
    {
     "name": "stdout",
     "output_type": "stream",
     "text": [
      "Dev..\n",
      "f1_all = [0.5        0.78793591 0.2        0.         0.72788354 0.\n",
      " 0.60892388 0.58333333 0.         0.         0.         0.68789809\n",
      " 0.53846154 0.45751634 0.         0.         0.76080692 0.\n",
      " 0.         0.78219396 0.11111111 0.53374233 0.56374269 0.\n",
      " 0.66046512]\n",
      "f1_micro = 0.661658170110008\n",
      "f1_macro = 0.42520073786658835\n",
      "f1_weighted = 0.6512782685015335\n",
      "accuracy = 0.661658170110008\n"
     ]
    },
    {
     "name": "stderr",
     "output_type": "stream",
     "text": [
      "C:\\Users\\anush\\Anaconda3\\lib\\site-packages\\sklearn\\metrics\\classification.py:1135: UndefinedMetricWarning: F-score is ill-defined and being set to 0.0 in labels with no predicted samples.\n",
      "  'precision', 'predicted', average, warn_for)\n",
      "C:\\Users\\anush\\Anaconda3\\lib\\site-packages\\sklearn\\metrics\\classification.py:1137: UndefinedMetricWarning: F-score is ill-defined and being set to 0.0 in labels with no true samples.\n",
      "  'recall', 'true', average, warn_for)\n"
     ]
    }
   ],
   "source": [
    "yhat_dev = rnn_predict(X_dev, model)\n",
    "print('Dev..')\n",
    "for metric, metric_fn in metrics_dict.items():\n",
    "    print(metric,\"=\", metric_fn(y_dev, yhat_dev))"
   ]
  },
  {
   "cell_type": "markdown",
   "metadata": {},
   "source": [
    "#### Exploring name representations (last GRU state)"
   ]
  },
  {
   "cell_type": "markdown",
   "metadata": {},
   "source": [
    "Adjusted Random Index is a metric which gives the similarity between 2 different sets of clusters.\n",
    "\n",
    "Here we cluster name vector representations using KMeans and compare them with the actual clusters of communities to get an idea of how close name vectors from the same community are to each other"
   ]
  },
  {
   "cell_type": "code",
   "execution_count": 26,
   "metadata": {},
   "outputs": [],
   "source": [
    "from sklearn.cluster import KMeans\n",
    "from sklearn.metrics import adjusted_rand_score"
   ]
  },
  {
   "cell_type": "code",
   "execution_count": 181,
   "metadata": {},
   "outputs": [],
   "source": [
    "gru_layer = Model(inputs=model.input, outputs=model.layers[2].output)\n",
    "name_vecs = rnn_predict(df['Surname'][surnames_mask].values, gru_layer, argmax=False)"
   ]
  },
  {
   "cell_type": "code",
   "execution_count": 192,
   "metadata": {
    "scrolled": true
   },
   "outputs": [],
   "source": [
    "name_vecs = np.squeeze(name_vecs)"
   ]
  },
  {
   "cell_type": "code",
   "execution_count": 195,
   "metadata": {},
   "outputs": [],
   "source": [
    "km = KMeans(n_clusters=n_classes, random_state=RANDOM_STATE).fit(name_vecs)"
   ]
  },
  {
   "cell_type": "code",
   "execution_count": 196,
   "metadata": {},
   "outputs": [],
   "source": [
    "name_vecs_clusters = km.labels_"
   ]
  },
  {
   "cell_type": "code",
   "execution_count": 197,
   "metadata": {
    "scrolled": true
   },
   "outputs": [
    {
     "data": {
      "text/plain": [
       "0.1531286968230099"
      ]
     },
     "execution_count": 197,
     "metadata": {},
     "output_type": "execute_result"
    }
   ],
   "source": [
    "#how well do name vector clusters correspond with community\n",
    "adjusted_rand_score(name_vecs_clusters, labels[surnames_mask])"
   ]
  },
  {
   "cell_type": "markdown",
   "metadata": {},
   "source": [
    "... not very well"
   ]
  },
  {
   "cell_type": "markdown",
   "metadata": {},
   "source": [
    "May have better results with more data?"
   ]
  },
  {
   "cell_type": "markdown",
   "metadata": {},
   "source": [
    "### Over full names"
   ]
  },
  {
   "cell_type": "code",
   "execution_count": 22,
   "metadata": {},
   "outputs": [],
   "source": [
    "from keras.layers import Concatenate, BatchNormalization, Dropout, Bidirectional\n",
    "from keras import regularizers"
   ]
  },
  {
   "cell_type": "code",
   "execution_count": 25,
   "metadata": {},
   "outputs": [],
   "source": [
    "def rnn_generator2(X,y):\n",
    "    while True:\n",
    "        for (x_fn_i, x_sn_i), y_i in zip(X,y):\n",
    "            yield ({'fn':get_name_val(x_fn_i).reshape(1,-1), 'sn':get_name_val(x_sn_i).reshape(1,-1)}, to_categorical(y_i, num_classes=n_classes).reshape(1,-1))"
   ]
  },
  {
   "cell_type": "code",
   "execution_count": 26,
   "metadata": {},
   "outputs": [],
   "source": [
    "X_train, X_dev, y_train, y_dev = train_test_split(df[['Name','Surname']][fullnames_mask].values, labels[fullnames_mask], random_state = RANDOM_STATE)"
   ]
  },
  {
   "cell_type": "markdown",
   "metadata": {},
   "source": [
    "Considerations: Should first names and surnames use same or different RNNs? \n",
    "    \n",
    "There would be fewer parameters with the same RNN - beneficial for limited data, but first names and surnames seem to be fundamentally different sets"
   ]
  },
  {
   "cell_type": "code",
   "execution_count": 28,
   "metadata": {},
   "outputs": [],
   "source": [
    "#Different GRUs for first and last names\n",
    "embedding_layer = Embedding(n_vocab, EMBEDDING_DIM, trainable=True)\n",
    "fn_inp = Input(batch_shape=(1,None,), name='fn')\n",
    "fn_x = embedding_layer(fn_inp)\n",
    "fn_x = GRU(32)(fn_x)\n",
    "sn_inp = Input(batch_shape=(1,None,), name='sn')\n",
    "sn_x = embedding_layer(sn_inp)\n",
    "sn_x = GRU(32)(sn_x)\n",
    "x = Concatenate()([fn_x, sn_x])\n",
    "out = Dense(n_classes, activation='softmax')(x)\n",
    "model = Model(inputs=[fn_inp, sn_inp], outputs=out)\n",
    "model.compile(loss='categorical_crossentropy', optimizer='adam', metrics=['accuracy'])"
   ]
  },
  {
   "cell_type": "code",
   "execution_count": 29,
   "metadata": {},
   "outputs": [
    {
     "name": "stdout",
     "output_type": "stream",
     "text": [
      "__________________________________________________________________________________________________\n",
      "Layer (type)                    Output Shape         Param #     Connected to                     \n",
      "==================================================================================================\n",
      "fn (InputLayer)                 (1, None)            0                                            \n",
      "__________________________________________________________________________________________________\n",
      "sn (InputLayer)                 (1, None)            0                                            \n",
      "__________________________________________________________________________________________________\n",
      "embedding_1 (Embedding)         (1, None, 5)         130         fn[0][0]                         \n",
      "                                                                 sn[0][0]                         \n",
      "__________________________________________________________________________________________________\n",
      "gru_1 (GRU)                     (1, 32)              3648        embedding_1[0][0]                \n",
      "__________________________________________________________________________________________________\n",
      "gru_2 (GRU)                     (1, 32)              3648        embedding_1[1][0]                \n",
      "__________________________________________________________________________________________________\n",
      "concatenate_1 (Concatenate)     (1, 64)              0           gru_1[0][0]                      \n",
      "                                                                 gru_2[0][0]                      \n",
      "__________________________________________________________________________________________________\n",
      "dense_1 (Dense)                 (1, 25)              1625        concatenate_1[0][0]              \n",
      "==================================================================================================\n",
      "Total params: 9,051\n",
      "Trainable params: 9,051\n",
      "Non-trainable params: 0\n",
      "__________________________________________________________________________________________________\n"
     ]
    }
   ],
   "source": [
    "model.summary()"
   ]
  },
  {
   "cell_type": "code",
   "execution_count": 204,
   "metadata": {
    "scrolled": true
   },
   "outputs": [
    {
     "name": "stdout",
     "output_type": "stream",
     "text": [
      "Epoch 1/20\n",
      "11032/11032 [==============================] - 64s 6ms/step - loss: 1.6725 - acc: 0.4751 - val_loss: 1.5626 - val_acc: 0.5101\n",
      "\n",
      "Epoch 00001: val_loss improved from inf to 1.56262, saving model to model_rnn_fullname.hdf5\n",
      "Epoch 2/20\n",
      "11032/11032 [==============================] - 49s 4ms/step - loss: 1.4377 - acc: 0.5644 - val_loss: 1.3914 - val_acc: 0.5810\n",
      "\n",
      "Epoch 00002: val_loss improved from 1.56262 to 1.39143, saving model to model_rnn_fullname.hdf5\n",
      "Epoch 3/20\n",
      "11032/11032 [==============================] - 47s 4ms/step - loss: 1.2608 - acc: 0.6171 - val_loss: 1.2659 - val_acc: 0.6267\n",
      "\n",
      "Epoch 00003: val_loss improved from 1.39143 to 1.26588, saving model to model_rnn_fullname.hdf5\n",
      "Epoch 4/20\n",
      "11032/11032 [==============================] - 48s 4ms/step - loss: 1.1240 - acc: 0.6601 - val_loss: 1.1824 - val_acc: 0.6558\n",
      "\n",
      "Epoch 00004: val_loss improved from 1.26588 to 1.18239, saving model to model_rnn_fullname.hdf5\n",
      "Epoch 5/20\n",
      "11032/11032 [==============================] - 47s 4ms/step - loss: 1.0218 - acc: 0.6923 - val_loss: 1.1405 - val_acc: 0.6697\n",
      "\n",
      "Epoch 00005: val_loss improved from 1.18239 to 1.14051, saving model to model_rnn_fullname.hdf5\n",
      "Epoch 6/20\n",
      "11032/11032 [==============================] - 49s 4ms/step - loss: 0.9377 - acc: 0.7161 - val_loss: 1.0956 - val_acc: 0.6887\n",
      "\n",
      "Epoch 00006: val_loss improved from 1.14051 to 1.09555, saving model to model_rnn_fullname.hdf5\n",
      "Epoch 7/20\n",
      "11032/11032 [==============================] - 48s 4ms/step - loss: 0.8700 - acc: 0.7343 - val_loss: 1.0703 - val_acc: 0.6960\n",
      "\n",
      "Epoch 00007: val_loss improved from 1.09555 to 1.07034, saving model to model_rnn_fullname.hdf5\n",
      "Epoch 8/20\n",
      "11032/11032 [==============================] - 48s 4ms/step - loss: 0.8146 - acc: 0.7495 - val_loss: 1.0592 - val_acc: 0.7001\n",
      "\n",
      "Epoch 00008: val_loss improved from 1.07034 to 1.05923, saving model to model_rnn_fullname.hdf5\n",
      "Epoch 9/20\n",
      "11032/11032 [==============================] - 48s 4ms/step - loss: 0.7652 - acc: 0.7622 - val_loss: 1.0594 - val_acc: 0.7004\n",
      "\n",
      "Epoch 00009: val_loss did not improve from 1.05923\n",
      "Epoch 10/20\n",
      "11032/11032 [==============================] - 47s 4ms/step - loss: 0.7193 - acc: 0.7760 - val_loss: 1.0729 - val_acc: 0.6933\n",
      "\n",
      "Epoch 00010: val_loss did not improve from 1.05923\n",
      "Epoch 11/20\n",
      "11032/11032 [==============================] - 51s 5ms/step - loss: 0.6855 - acc: 0.7871 - val_loss: 1.0731 - val_acc: 0.6974\n",
      "\n",
      "Epoch 00011: val_loss did not improve from 1.05923\n",
      "Epoch 12/20\n",
      "11032/11032 [==============================] - 49s 4ms/step - loss: 0.6509 - acc: 0.7961 - val_loss: 1.0708 - val_acc: 0.7031\n",
      "Restoring model weights from the end of the best epoch\n",
      "\n",
      "Epoch 00012: val_loss did not improve from 1.05923\n",
      "Epoch 00012: early stopping\n"
     ]
    },
    {
     "data": {
      "text/plain": [
       "<keras.callbacks.History at 0x175d06362b0>"
      ]
     },
     "execution_count": 204,
     "metadata": {},
     "output_type": "execute_result"
    }
   ],
   "source": [
    "check_point = ModelCheckpoint('checkpoints\\\\model_rnn_fullname.hdf5', verbose=True, save_best_only=True)\n",
    "early_stop = EarlyStopping(monitor='val_loss', patience=4, verbose=True, restore_best_weights=True)\n",
    "model.fit_generator(rnn_generator2(X_train,y_train), validation_data=rnn_generator2(X_dev,y_dev), steps_per_epoch=len(X_train), validation_steps=len(X_dev), epochs=n_epochs, verbose=1, callbacks=[early_stop,check_point])"
   ]
  },
  {
   "cell_type": "code",
   "execution_count": 40,
   "metadata": {},
   "outputs": [],
   "source": [
    "#Same GRU for first and last names\n",
    "embedding_layer = Embedding(n_vocab, EMBEDDING_DIM, trainable=True)\n",
    "gru = GRU(48)\n",
    "fn_inp = Input(batch_shape=(1,None,), name='fn')\n",
    "fn_x = embedding_layer(fn_inp)\n",
    "fn_x = gru(fn_x)\n",
    "sn_inp = Input(batch_shape=(1,None,), name='sn')\n",
    "sn_x = embedding_layer(sn_inp)\n",
    "sn_x = gru(sn_x)\n",
    "x = Concatenate()([fn_x, sn_x])\n",
    "out = Dense(n_classes, activation='softmax')(x)\n",
    "model = Model(inputs=[fn_inp, sn_inp], outputs=out)\n",
    "model.compile(loss='categorical_crossentropy', optimizer='adam', metrics=['accuracy'])"
   ]
  },
  {
   "cell_type": "code",
   "execution_count": 41,
   "metadata": {},
   "outputs": [
    {
     "name": "stdout",
     "output_type": "stream",
     "text": [
      "__________________________________________________________________________________________________\n",
      "Layer (type)                    Output Shape         Param #     Connected to                     \n",
      "==================================================================================================\n",
      "fn (InputLayer)                 (1, None)            0                                            \n",
      "__________________________________________________________________________________________________\n",
      "sn (InputLayer)                 (1, None)            0                                            \n",
      "__________________________________________________________________________________________________\n",
      "embedding_6 (Embedding)         (1, None, 5)         130         fn[0][0]                         \n",
      "                                                                 sn[0][0]                         \n",
      "__________________________________________________________________________________________________\n",
      "gru_15 (GRU)                    (1, 48)              7776        embedding_6[0][0]                \n",
      "                                                                 embedding_6[1][0]                \n",
      "__________________________________________________________________________________________________\n",
      "concatenate_5 (Concatenate)     (1, 96)              0           gru_15[0][0]                     \n",
      "                                                                 gru_15[1][0]                     \n",
      "__________________________________________________________________________________________________\n",
      "dense_5 (Dense)                 (1, 25)              2425        concatenate_5[0][0]              \n",
      "==================================================================================================\n",
      "Total params: 10,331\n",
      "Trainable params: 10,331\n",
      "Non-trainable params: 0\n",
      "__________________________________________________________________________________________________\n"
     ]
    }
   ],
   "source": [
    "model.summary()"
   ]
  },
  {
   "cell_type": "code",
   "execution_count": 42,
   "metadata": {
    "scrolled": true
   },
   "outputs": [
    {
     "name": "stdout",
     "output_type": "stream",
     "text": [
      "Epoch 1/20\n",
      "11032/11032 [==============================] - 83s 8ms/step - loss: 2.0723 - acc: 0.3282 - val_loss: 1.8742 - val_acc: 0.4035\n",
      "\n",
      "Epoch 00001: val_loss improved from inf to 1.87418, saving model to model_rnn_fullname1.hdf5\n",
      "Epoch 2/20\n",
      "11032/11032 [==============================] - 65s 6ms/step - loss: 1.6695 - acc: 0.4815 - val_loss: 1.5098 - val_acc: 0.5313\n",
      "\n",
      "Epoch 00002: val_loss improved from 1.87418 to 1.50981, saving model to model_rnn_fullname1.hdf5\n",
      "Epoch 3/20\n",
      "11032/11032 [==============================] - 71s 6ms/step - loss: 1.3613 - acc: 0.5862 - val_loss: 1.2978 - val_acc: 0.6150\n",
      "\n",
      "Epoch 00003: val_loss improved from 1.50981 to 1.29777, saving model to model_rnn_fullname1.hdf5\n",
      "Epoch 4/20\n",
      "11032/11032 [==============================] - 54s 5ms/step - loss: 1.1541 - acc: 0.6458 - val_loss: 1.1778 - val_acc: 0.6539\n",
      "\n",
      "Epoch 00004: val_loss improved from 1.29777 to 1.17777, saving model to model_rnn_fullname1.hdf5\n",
      "Epoch 5/20\n",
      "11032/11032 [==============================] - 37s 3ms/step - loss: 1.0088 - acc: 0.6911 - val_loss: 1.1054 - val_acc: 0.6686\n",
      "\n",
      "Epoch 00005: val_loss improved from 1.17777 to 1.10538, saving model to model_rnn_fullname1.hdf5\n",
      "Epoch 6/20\n",
      "11032/11032 [==============================] - 36s 3ms/step - loss: 0.8934 - acc: 0.7234 - val_loss: 1.0673 - val_acc: 0.6824\n",
      "\n",
      "Epoch 00006: val_loss improved from 1.10538 to 1.06727, saving model to model_rnn_fullname1.hdf5\n",
      "Epoch 7/20\n",
      "11032/11032 [==============================] - 33s 3ms/step - loss: 0.8061 - acc: 0.7487 - val_loss: 1.0566 - val_acc: 0.6854\n",
      "\n",
      "Epoch 00007: val_loss improved from 1.06727 to 1.05661, saving model to model_rnn_fullname1.hdf5\n",
      "Epoch 8/20\n",
      "11032/11032 [==============================] - 42s 4ms/step - loss: 0.7409 - acc: 0.7690 - val_loss: 1.0277 - val_acc: 0.6936\n",
      "\n",
      "Epoch 00008: val_loss improved from 1.05661 to 1.02771, saving model to model_rnn_fullname1.hdf5\n",
      "Epoch 9/20\n",
      "11032/11032 [==============================] - 40s 4ms/step - loss: 0.6854 - acc: 0.7863 - val_loss: 1.0249 - val_acc: 0.6966\n",
      "\n",
      "Epoch 00009: val_loss improved from 1.02771 to 1.02492, saving model to model_rnn_fullname1.hdf5\n",
      "Epoch 10/20\n",
      "11032/11032 [==============================] - 40s 4ms/step - loss: 0.6450 - acc: 0.8005 - val_loss: 1.0332 - val_acc: 0.7012\n",
      "\n",
      "Epoch 00010: val_loss did not improve from 1.02492\n",
      "Epoch 11/20\n",
      "11032/11032 [==============================] - 36s 3ms/step - loss: 0.6129 - acc: 0.8086 - val_loss: 1.0367 - val_acc: 0.7036\n",
      "\n",
      "Epoch 00011: val_loss did not improve from 1.02492\n",
      "Epoch 12/20\n",
      "11032/11032 [==============================] - 33s 3ms/step - loss: 0.5947 - acc: 0.8152 - val_loss: 1.0494 - val_acc: 0.7088\n",
      "\n",
      "Epoch 00012: val_loss did not improve from 1.02492\n",
      "Epoch 13/20\n",
      "11032/11032 [==============================] - 35s 3ms/step - loss: 0.5613 - acc: 0.8248 - val_loss: 1.0573 - val_acc: 0.7096\n",
      "Restoring model weights from the end of the best epoch\n",
      "\n",
      "Epoch 00013: val_loss did not improve from 1.02492\n",
      "Epoch 00013: early stopping\n"
     ]
    },
    {
     "data": {
      "text/plain": [
       "<keras.callbacks.History at 0x2885edffcf8>"
      ]
     },
     "execution_count": 42,
     "metadata": {},
     "output_type": "execute_result"
    }
   ],
   "source": [
    "check_point = ModelCheckpoint('checkpoints\\\\model_rnn_fullname1.hdf5', verbose=True, save_best_only=True)\n",
    "early_stop = EarlyStopping(monitor='val_loss', patience=4, verbose=True, restore_best_weights=True)\n",
    "model.fit_generator(rnn_generator2(X_train,y_train), validation_data=rnn_generator2(X_dev,y_dev), steps_per_epoch=len(X_train), validation_steps=len(X_dev), epochs=n_epochs, verbose=1, callbacks=[early_stop,check_point])"
   ]
  },
  {
   "cell_type": "markdown",
   "metadata": {},
   "source": [
    "Similar performance with similar number of parameters.\n",
    "\n",
    "Difficult to say whether there is any benefit in sharing RNN layer."
   ]
  },
  {
   "cell_type": "code",
   "execution_count": 29,
   "metadata": {},
   "outputs": [],
   "source": [
    "def fullname_processor(fullname):\n",
    "    return {'fn':get_name_val(fullname[0]).reshape(1,-1),'sn':get_name_val(fullname[1]).reshape(1,-1)}"
   ]
  },
  {
   "cell_type": "code",
   "execution_count": 50,
   "metadata": {},
   "outputs": [],
   "source": [
    "yhat_train2 = rnn_predict(X_train, model, x_processor=fullname_processor)"
   ]
  },
  {
   "cell_type": "code",
   "execution_count": 51,
   "metadata": {},
   "outputs": [],
   "source": [
    "yhat_dev2 = rnn_predict(X_dev, model, x_processor=fullname_processor)"
   ]
  },
  {
   "cell_type": "code",
   "execution_count": 75,
   "metadata": {},
   "outputs": [
    {
     "name": "stdout",
     "output_type": "stream",
     "text": [
      "Train..\n",
      "f1_all = [0.68421053 0.85723794 0.595      0.         0.82251407 0.76923077\n",
      " 0.79509871 0.72139303 0.         0.70967742 0.4        0.77480916\n",
      " 0.76869965 0.72095333 1.         0.75       0.84020101 0.\n",
      " 0.         0.86227192 0.65116279 0.76129032 0.81085332 0.8\n",
      " 0.78913738]\n",
      "f1_micro = 0.807741116751269\n",
      "f1_macro = 0.6353496540877878\n",
      "f1_weighted = 0.8065696191677791\n",
      "accuracy = 0.807741116751269\n"
     ]
    },
    {
     "name": "stderr",
     "output_type": "stream",
     "text": [
      "C:\\Users\\anush\\Anaconda3\\lib\\site-packages\\sklearn\\metrics\\classification.py:1135: UndefinedMetricWarning: F-score is ill-defined and being set to 0.0 in labels with no predicted samples.\n",
      "  'precision', 'predicted', average, warn_for)\n"
     ]
    }
   ],
   "source": [
    "print('Train..')\n",
    "for metric, metric_fn in metrics_dict.items():\n",
    "    print(metric,\"=\", metric_fn(y_train, yhat_train2))"
   ]
  },
  {
   "cell_type": "code",
   "execution_count": 76,
   "metadata": {},
   "outputs": [
    {
     "name": "stdout",
     "output_type": "stream",
     "text": [
      "Dev..\n",
      "f1_all = [0.         0.78888889 0.3442623  0.         0.73060345 0.\n",
      " 0.72821847 0.57861635 0.         0.4        0.         0.5748503\n",
      " 0.5754386  0.53459119 0.         0.4        0.74404762 0.\n",
      " 0.         0.78024194 0.56       0.57857143 0.65336658 0.\n",
      " 0.63070539]\n",
      "f1_micro = 0.6965742251223491\n",
      "f1_macro = 0.45725726198493116\n",
      "f1_weighted = 0.693128811297419\n",
      "accuracy = 0.6965742251223491\n"
     ]
    },
    {
     "name": "stderr",
     "output_type": "stream",
     "text": [
      "C:\\Users\\anush\\Anaconda3\\lib\\site-packages\\sklearn\\metrics\\classification.py:1135: UndefinedMetricWarning: F-score is ill-defined and being set to 0.0 in labels with no predicted samples.\n",
      "  'precision', 'predicted', average, warn_for)\n",
      "C:\\Users\\anush\\Anaconda3\\lib\\site-packages\\sklearn\\metrics\\classification.py:1137: UndefinedMetricWarning: F-score is ill-defined and being set to 0.0 in labels with no true samples.\n",
      "  'recall', 'true', average, warn_for)\n"
     ]
    }
   ],
   "source": [
    "print('Dev..')\n",
    "for metric, metric_fn in metrics_dict.items():\n",
    "    print(metric,\"=\", metric_fn(y_dev, yhat_dev2))"
   ]
  },
  {
   "cell_type": "markdown",
   "metadata": {},
   "source": [
    "### Exploring name representations (last GRU state)"
   ]
  },
  {
   "cell_type": "code",
   "execution_count": 65,
   "metadata": {},
   "outputs": [],
   "source": [
    "gru_fn = Model(inputs=model.input, outputs=model.layers[3].get_output_at(0))\n",
    "gru_sn = Model(inputs=model.input, outputs=model.layers[3].get_output_at(1))"
   ]
  },
  {
   "cell_type": "code",
   "execution_count": 61,
   "metadata": {},
   "outputs": [
    {
     "data": {
      "text/plain": [
       "<keras.layers.merge.Concatenate at 0x2885f049208>"
      ]
     },
     "execution_count": 61,
     "metadata": {},
     "output_type": "execute_result"
    }
   ],
   "source": [
    "model.layers[4]"
   ]
  },
  {
   "cell_type": "code",
   "execution_count": 66,
   "metadata": {
    "scrolled": true
   },
   "outputs": [],
   "source": [
    "gru_vecs1 = np.squeeze(rnn_predict(df[['Name','Surname']][fullnames_mask].values, gru_fn, argmax=False, x_processor=fullname_processor))"
   ]
  },
  {
   "cell_type": "code",
   "execution_count": 67,
   "metadata": {},
   "outputs": [],
   "source": [
    "gru_vecs2 = np.squeeze(rnn_predict(df[['Name','Surname']][fullnames_mask].values, gru_sn, argmax=False, x_processor=fullname_processor))"
   ]
  },
  {
   "cell_type": "code",
   "execution_count": 68,
   "metadata": {},
   "outputs": [],
   "source": [
    "name_vecs2 = np.hstack([gru_vecs1, gru_vecs2])"
   ]
  },
  {
   "cell_type": "code",
   "execution_count": 71,
   "metadata": {},
   "outputs": [],
   "source": [
    "km2 = KMeans(n_clusters=n_classes, random_state=RANDOM_STATE).fit(name_vecs2)"
   ]
  },
  {
   "cell_type": "code",
   "execution_count": 72,
   "metadata": {},
   "outputs": [],
   "source": [
    "name_vecs2_clusters = km2.labels_"
   ]
  },
  {
   "cell_type": "code",
   "execution_count": 73,
   "metadata": {},
   "outputs": [
    {
     "data": {
      "text/plain": [
       "0.14305019969241764"
      ]
     },
     "execution_count": 73,
     "metadata": {},
     "output_type": "execute_result"
    }
   ],
   "source": [
    "#how well do name vector clusters correspond with community\n",
    "adjusted_rand_score(name_vecs2_clusters, labels[fullnames_mask])"
   ]
  },
  {
   "cell_type": "markdown",
   "metadata": {},
   "source": [
    "### Running more experiments with RNNs"
   ]
  },
  {
   "cell_type": "markdown",
   "metadata": {},
   "source": [
    "Deeper network"
   ]
  },
  {
   "cell_type": "code",
   "execution_count": 36,
   "metadata": {},
   "outputs": [],
   "source": [
    "embedding_layer = Embedding(n_vocab, EMBEDDING_DIM, trainable=True)\n",
    "\n",
    "fn_inp = Input(batch_shape=(1,None,), name='fn')\n",
    "fn_x = embedding_layer(fn_inp)\n",
    "fn_x = GRU(64, return_sequences=True)(fn_x)\n",
    "fn_x = Dropout(0.2)(fn_x)\n",
    "fn_x = GRU(64)(fn_x)\n",
    "\n",
    "sn_inp = Input(batch_shape=(1,None,), name='sn')\n",
    "sn_x = embedding_layer(sn_inp)\n",
    "sn_x = GRU(64, return_sequences=True)(sn_x)\n",
    "sn_x = Dropout(0.2)(sn_x)\n",
    "sn_x = GRU(64)(sn_x)\n",
    "\n",
    "x = Concatenate()([fn_x, sn_x])\n",
    "out = Dense(n_classes, activation='softmax')(x)\n",
    "model = Model(inputs=[fn_inp, sn_inp], outputs=out)\n",
    "model.compile(loss='categorical_crossentropy', optimizer='adam', metrics=['accuracy'])"
   ]
  },
  {
   "cell_type": "code",
   "execution_count": 37,
   "metadata": {},
   "outputs": [
    {
     "name": "stdout",
     "output_type": "stream",
     "text": [
      "Epoch 1/20\n",
      "11032/11032 [==============================] - 75s 7ms/step - loss: 2.0249 - acc: 0.3466 - val_loss: 1.7811 - val_acc: 0.4454\n",
      "\n",
      "Epoch 00001: val_loss improved from inf to 1.78106, saving model to model_rnn_fullname222.hdf5\n",
      "Epoch 2/20\n",
      "11032/11032 [==============================] - 67s 6ms/step - loss: 1.5322 - acc: 0.5341 - val_loss: 1.3689 - val_acc: 0.5813\n",
      "\n",
      "Epoch 00002: val_loss improved from 1.78106 to 1.36889, saving model to model_rnn_fullname222.hdf5\n",
      "Epoch 3/20\n",
      "11032/11032 [==============================] - 60s 5ms/step - loss: 1.2296 - acc: 0.6294 - val_loss: 1.2009 - val_acc: 0.6378\n",
      "\n",
      "Epoch 00003: val_loss improved from 1.36889 to 1.20095, saving model to model_rnn_fullname222.hdf5\n",
      "Epoch 4/20\n",
      "11032/11032 [==============================] - 61s 6ms/step - loss: 1.0463 - acc: 0.6755 - val_loss: 1.1135 - val_acc: 0.6713\n",
      "\n",
      "Epoch 00004: val_loss improved from 1.20095 to 1.11347, saving model to model_rnn_fullname222.hdf5\n",
      "Epoch 5/20\n",
      "11032/11032 [==============================] - 64s 6ms/step - loss: 0.9062 - acc: 0.7128 - val_loss: 1.0676 - val_acc: 0.6933\n",
      "\n",
      "Epoch 00005: val_loss improved from 1.11347 to 1.06757, saving model to model_rnn_fullname222.hdf5\n",
      "Epoch 6/20\n",
      "11032/11032 [==============================] - 60s 5ms/step - loss: 0.7963 - acc: 0.7456 - val_loss: 1.0472 - val_acc: 0.7091\n",
      "\n",
      "Epoch 00006: val_loss improved from 1.06757 to 1.04720, saving model to model_rnn_fullname222.hdf5\n",
      "Epoch 7/20\n",
      "11032/11032 [==============================] - 59s 5ms/step - loss: 0.7113 - acc: 0.7737 - val_loss: 1.0339 - val_acc: 0.7153\n",
      "\n",
      "Epoch 00007: val_loss improved from 1.04720 to 1.03393, saving model to model_rnn_fullname222.hdf5\n",
      "Epoch 8/20\n",
      "11032/11032 [==============================] - 61s 6ms/step - loss: 0.6572 - acc: 0.7894 - val_loss: 1.0282 - val_acc: 0.7186\n",
      "\n",
      "Epoch 00008: val_loss improved from 1.03393 to 1.02820, saving model to model_rnn_fullname222.hdf5\n",
      "Epoch 9/20\n",
      "11032/11032 [==============================] - 66s 6ms/step - loss: 0.6043 - acc: 0.8045 - val_loss: 1.0093 - val_acc: 0.7281\n",
      "\n",
      "Epoch 00009: val_loss improved from 1.02820 to 1.00927, saving model to model_rnn_fullname222.hdf5\n",
      "Epoch 10/20\n",
      "11032/11032 [==============================] - 64s 6ms/step - loss: 0.5576 - acc: 0.8214 - val_loss: 1.0086 - val_acc: 0.7289\n",
      "\n",
      "Epoch 00010: val_loss improved from 1.00927 to 1.00865, saving model to model_rnn_fullname222.hdf5\n",
      "Epoch 11/20\n",
      "11032/11032 [==============================] - 64s 6ms/step - loss: 0.5410 - acc: 0.8192 - val_loss: 0.9889 - val_acc: 0.7349\n",
      "\n",
      "Epoch 00011: val_loss improved from 1.00865 to 0.98892, saving model to model_rnn_fullname222.hdf5\n",
      "Epoch 12/20\n",
      "11032/11032 [==============================] - 64s 6ms/step - loss: 0.5057 - acc: 0.8342 - val_loss: 0.9948 - val_acc: 0.7431\n",
      "\n",
      "Epoch 00012: val_loss did not improve from 0.98892\n",
      "Epoch 13/20\n",
      "11032/11032 [==============================] - 64s 6ms/step - loss: 0.4990 - acc: 0.8359 - val_loss: 1.0205 - val_acc: 0.7333\n",
      "\n",
      "Epoch 00013: val_loss did not improve from 0.98892\n",
      "Epoch 14/20\n",
      "11032/11032 [==============================] - 65s 6ms/step - loss: 0.4853 - acc: 0.8387 - val_loss: 0.9795 - val_acc: 0.7558\n",
      "\n",
      "Epoch 00014: val_loss improved from 0.98892 to 0.97947, saving model to model_rnn_fullname222.hdf5\n",
      "Epoch 15/20\n",
      "11032/11032 [==============================] - 64s 6ms/step - loss: 0.4776 - acc: 0.8404 - val_loss: 0.9784 - val_acc: 0.7569\n",
      "\n",
      "Epoch 00015: val_loss improved from 0.97947 to 0.97841, saving model to model_rnn_fullname222.hdf5\n",
      "Epoch 16/20\n",
      "11032/11032 [==============================] - 64s 6ms/step - loss: 0.4429 - acc: 0.8541 - val_loss: 1.0040 - val_acc: 0.7499\n",
      "\n",
      "Epoch 00016: val_loss did not improve from 0.97841\n",
      "Epoch 17/20\n",
      "11032/11032 [==============================] - 64s 6ms/step - loss: 0.4529 - acc: 0.8496 - val_loss: 0.9924 - val_acc: 0.7518\n",
      "\n",
      "Epoch 00017: val_loss did not improve from 0.97841\n",
      "Epoch 18/20\n",
      "11032/11032 [==============================] - 65s 6ms/step - loss: 0.4526 - acc: 0.8479 - val_loss: 1.0556 - val_acc: 0.7523\n",
      "\n",
      "Epoch 00018: val_loss did not improve from 0.97841\n",
      "Epoch 19/20\n",
      "11032/11032 [==============================] - 65s 6ms/step - loss: 0.4279 - acc: 0.8546 - val_loss: 1.0399 - val_acc: 0.7520\n",
      "Restoring model weights from the end of the best epoch\n",
      "\n",
      "Epoch 00019: val_loss did not improve from 0.97841\n",
      "Epoch 00019: early stopping\n"
     ]
    },
    {
     "data": {
      "text/plain": [
       "<keras.callbacks.History at 0x28852232b00>"
      ]
     },
     "execution_count": 37,
     "metadata": {},
     "output_type": "execute_result"
    }
   ],
   "source": [
    "check_point = ModelCheckpoint('checkpoints\\\\model_rnn_fullname3.hdf5', verbose=True, save_best_only=True)\n",
    "early_stop = EarlyStopping(monitor='val_loss', patience=4, verbose=True, restore_best_weights=True)\n",
    "model.fit_generator(rnn_generator2(X_train,y_train), validation_data=rnn_generator2(X_dev,y_dev), steps_per_epoch=len(X_train), validation_steps=len(X_dev), epochs=n_epochs, verbose=1, callbacks=[early_stop,check_point])"
   ]
  },
  {
   "cell_type": "code",
   "execution_count": 78,
   "metadata": {},
   "outputs": [],
   "source": [
    "embedding_layer = Embedding(n_vocab, EMBEDDING_DIM, trainable=True)\n",
    "\n",
    "fn_inp = Input(batch_shape=(1,None,), name='fn')\n",
    "fn_x = embedding_layer(fn_inp)\n",
    "fn_x = GRU(64, return_sequences=True)(fn_x)\n",
    "fn_x = BatchNormalization()(fn_x)\n",
    "fn_x = Dropout(0.2)(fn_x)\n",
    "fn_x = GRU(64)(fn_x)\n",
    "\n",
    "sn_inp = Input(batch_shape=(1,None,), name='sn')\n",
    "sn_x = embedding_layer(sn_inp)\n",
    "sn_x = GRU(64, return_sequences=True)(sn_x)\n",
    "sn_x = BatchNormalization()(sn_x)\n",
    "sn_x = Dropout(0.2)(sn_x)\n",
    "sn_x = GRU(64)(sn_x)\n",
    "\n",
    "x = Concatenate()([fn_x, sn_x])\n",
    "out = Dense(n_classes, activation='softmax')(x)\n",
    "model = Model(inputs=[fn_inp, sn_inp], outputs=out)\n",
    "model.compile(loss='categorical_crossentropy', optimizer='adam', metrics=['accuracy'])"
   ]
  },
  {
   "cell_type": "code",
   "execution_count": 79,
   "metadata": {
    "collapsed": true
   },
   "outputs": [
    {
     "name": "stdout",
     "output_type": "stream",
     "text": [
      "Epoch 1/20\n",
      "11032/11032 [==============================] - 83s 8ms/step - loss: 1.7107 - acc: 0.4748 - val_loss: 1.9981 - val_acc: 0.4078\n",
      "\n",
      "Epoch 00001: val_loss improved from inf to 1.99810, saving model to model_rnn_fullname3ii.hdf5\n",
      "Epoch 2/20\n",
      "11032/11032 [==============================] - 72s 7ms/step - loss: 1.2214 - acc: 0.6290 - val_loss: 1.9271 - val_acc: 0.4347\n",
      "\n",
      "Epoch 00002: val_loss improved from 1.99810 to 1.92705, saving model to model_rnn_fullname3ii.hdf5\n",
      "Epoch 3/20\n",
      "11032/11032 [==============================] - 63s 6ms/step - loss: 1.0192 - acc: 0.6875 - val_loss: 1.9319 - val_acc: 0.4331\n",
      "\n",
      "Epoch 00003: val_loss did not improve from 1.92705\n",
      "Epoch 4/20\n",
      "11032/11032 [==============================] - 64s 6ms/step - loss: 0.8922 - acc: 0.7208 - val_loss: 1.8791 - val_acc: 0.4505\n",
      "\n",
      "Epoch 00004: val_loss improved from 1.92705 to 1.87907, saving model to model_rnn_fullname3ii.hdf5\n",
      "Epoch 5/20\n",
      "11032/11032 [==============================] - 65s 6ms/step - loss: 0.8090 - acc: 0.7438 - val_loss: 2.0118 - val_acc: 0.4318\n",
      "\n",
      "Epoch 00005: val_loss did not improve from 1.87907\n",
      "Epoch 6/20\n",
      "11032/11032 [==============================] - 65s 6ms/step - loss: 0.7469 - acc: 0.7607 - val_loss: 2.0417 - val_acc: 0.4263\n",
      "\n",
      "Epoch 00006: val_loss did not improve from 1.87907\n",
      "Epoch 7/20\n",
      "11032/11032 [==============================] - 63s 6ms/step - loss: 0.7126 - acc: 0.7694 - val_loss: 2.0057 - val_acc: 0.4241\n",
      "\n",
      "Epoch 00007: val_loss did not improve from 1.87907\n",
      "Epoch 8/20\n",
      "11032/11032 [==============================] - 64s 6ms/step - loss: 0.6890 - acc: 0.7765 - val_loss: 2.0640 - val_acc: 0.4407\n",
      "Restoring model weights from the end of the best epoch\n",
      "\n",
      "Epoch 00008: val_loss did not improve from 1.87907\n",
      "Epoch 00008: early stopping\n"
     ]
    },
    {
     "data": {
      "text/plain": [
       "<keras.callbacks.History at 0x28868511780>"
      ]
     },
     "execution_count": 79,
     "metadata": {},
     "output_type": "execute_result"
    }
   ],
   "source": [
    "check_point = ModelCheckpoint('checkpoints\\\\model_rnn_fullname3ii.hdf5', verbose=True, save_best_only=True)\n",
    "early_stop = EarlyStopping(monitor='val_loss', patience=4, verbose=True, restore_best_weights=True)\n",
    "model.fit_generator(rnn_generator2(X_train,y_train), validation_data=rnn_generator2(X_dev,y_dev), steps_per_epoch=len(X_train), validation_steps=len(X_dev), epochs=n_epochs, verbose=1, callbacks=[early_stop,check_point])"
   ]
  },
  {
   "cell_type": "markdown",
   "metadata": {},
   "source": [
    "Discussions on performance decrease when using Dropout and Batchnormalization together;\n",
    "* https://stackoverflow.com/questions/39691902/ordering-of-batch-normalization-and-dropout\n",
    "* https://www.reddit.com/r/MachineLearning/comments/67gonq/d_batch_normalization_before_or_after_relu/\n",
    "\n",
    "Papers;\n",
    "* https://arxiv.org/pdf/1801.05134.pdf"
   ]
  },
  {
   "cell_type": "code",
   "execution_count": 80,
   "metadata": {},
   "outputs": [],
   "source": [
    "embedding_layer = Embedding(n_vocab, EMBEDDING_DIM, trainable=True)\n",
    "\n",
    "fn_inp = Input(batch_shape=(1,None,), name='fn')\n",
    "fn_x = embedding_layer(fn_inp)\n",
    "fn_x = GRU(64, return_sequences=True)(fn_x)\n",
    "fn_x = Dropout(0.2)(fn_x)\n",
    "fn_x = BatchNormalization()(fn_x)\n",
    "fn_x = GRU(64)(fn_x)\n",
    "\n",
    "sn_inp = Input(batch_shape=(1,None,), name='sn')\n",
    "sn_x = embedding_layer(sn_inp)\n",
    "sn_x = GRU(64, return_sequences=True)(sn_x)\n",
    "sn_x = Dropout(0.2)(sn_x)\n",
    "sn_x = BatchNormalization()(sn_x)\n",
    "sn_x = GRU(64)(sn_x)\n",
    "\n",
    "x = Concatenate()([fn_x, sn_x])\n",
    "out = Dense(n_classes, activation='softmax')(x)\n",
    "model = Model(inputs=[fn_inp, sn_inp], outputs=out)\n",
    "model.compile(loss='categorical_crossentropy', optimizer='adam', metrics=['accuracy'])"
   ]
  },
  {
   "cell_type": "code",
   "execution_count": 81,
   "metadata": {
    "collapsed": true
   },
   "outputs": [
    {
     "name": "stdout",
     "output_type": "stream",
     "text": [
      "Epoch 1/20\n",
      "11032/11032 [==============================] - 83s 8ms/step - loss: 1.7655 - acc: 0.4546 - val_loss: 1.8470 - val_acc: 0.4383\n",
      "\n",
      "Epoch 00001: val_loss improved from inf to 1.84701, saving model to model_rnn_fullname3iii.hdf5\n",
      "Epoch 2/20\n",
      "11032/11032 [==============================] - 80s 7ms/step - loss: 1.3082 - acc: 0.6022 - val_loss: 1.6570 - val_acc: 0.4943\n",
      "\n",
      "Epoch 00002: val_loss improved from 1.84701 to 1.65701, saving model to model_rnn_fullname3iii.hdf5\n",
      "Epoch 3/20\n",
      "11032/11032 [==============================] - 74s 7ms/step - loss: 1.1097 - acc: 0.6557 - val_loss: 1.5901 - val_acc: 0.5204\n",
      "\n",
      "Epoch 00003: val_loss improved from 1.65701 to 1.59012, saving model to model_rnn_fullname3iii.hdf5\n",
      "Epoch 4/20\n",
      "11032/11032 [==============================] - 74s 7ms/step - loss: 0.9915 - acc: 0.6935 - val_loss: 1.5833 - val_acc: 0.5321\n",
      "\n",
      "Epoch 00004: val_loss improved from 1.59012 to 1.58331, saving model to model_rnn_fullname3iii.hdf5\n",
      "Epoch 5/20\n",
      "11032/11032 [==============================] - 73s 7ms/step - loss: 0.8965 - acc: 0.7157 - val_loss: 1.5243 - val_acc: 0.5476\n",
      "\n",
      "Epoch 00005: val_loss improved from 1.58331 to 1.52430, saving model to model_rnn_fullname3iii.hdf5\n",
      "Epoch 6/20\n",
      "11032/11032 [==============================] - 69s 6ms/step - loss: 0.8325 - acc: 0.7365 - val_loss: 1.6010 - val_acc: 0.5375\n",
      "\n",
      "Epoch 00006: val_loss did not improve from 1.52430\n",
      "Epoch 7/20\n",
      "11032/11032 [==============================] - 69s 6ms/step - loss: 0.7764 - acc: 0.7494 - val_loss: 1.5096 - val_acc: 0.5593\n",
      "\n",
      "Epoch 00007: val_loss improved from 1.52430 to 1.50957, saving model to model_rnn_fullname3iii.hdf5\n",
      "Epoch 8/20\n",
      "11032/11032 [==============================] - 68s 6ms/step - loss: 0.7301 - acc: 0.7626 - val_loss: 1.6388 - val_acc: 0.5367\n",
      "\n",
      "Epoch 00008: val_loss did not improve from 1.50957\n",
      "Epoch 9/20\n",
      "11032/11032 [==============================] - 109s 10ms/step - loss: 0.7002 - acc: 0.7744 - val_loss: 1.6024 - val_acc: 0.5633\n",
      "\n",
      "Epoch 00009: val_loss did not improve from 1.50957\n",
      "Epoch 10/20\n",
      "11032/11032 [==============================] - 79s 7ms/step - loss: 0.6950 - acc: 0.7795 - val_loss: 1.6417 - val_acc: 0.5459\n",
      "\n",
      "Epoch 00010: val_loss did not improve from 1.50957\n",
      "Epoch 11/20\n",
      "11032/11032 [==============================] - 73s 7ms/step - loss: 0.6718 - acc: 0.7820 - val_loss: 1.6163 - val_acc: 0.5506\n",
      "Restoring model weights from the end of the best epoch\n",
      "\n",
      "Epoch 00011: val_loss did not improve from 1.50957\n",
      "Epoch 00011: early stopping\n"
     ]
    },
    {
     "data": {
      "text/plain": [
       "<keras.callbacks.History at 0x2886b04bc88>"
      ]
     },
     "execution_count": 81,
     "metadata": {},
     "output_type": "execute_result"
    }
   ],
   "source": [
    "check_point = ModelCheckpoint('checkpoints\\\\model_rnn_fullname3iii.hdf5', verbose=True, save_best_only=True)\n",
    "early_stop = EarlyStopping(monitor='val_loss', patience=4, verbose=True, restore_best_weights=True)\n",
    "model.fit_generator(rnn_generator2(X_train,y_train), validation_data=rnn_generator2(X_dev,y_dev), steps_per_epoch=len(X_train), validation_steps=len(X_dev), epochs=n_epochs, verbose=1, callbacks=[early_stop,check_point])"
   ]
  },
  {
   "cell_type": "markdown",
   "metadata": {},
   "source": [
    "Insignificant improvement from order reversal"
   ]
  },
  {
   "cell_type": "code",
   "execution_count": 82,
   "metadata": {},
   "outputs": [],
   "source": [
    "embedding_layer = Embedding(n_vocab, EMBEDDING_DIM, trainable=True)\n",
    "\n",
    "fn_inp = Input(batch_shape=(1,None,), name='fn')\n",
    "fn_x = embedding_layer(fn_inp)\n",
    "fn_x = GRU(64, return_sequences=True)(fn_x)\n",
    "fn_x = BatchNormalization()(fn_x)\n",
    "fn_x = GRU(64)(fn_x)\n",
    "\n",
    "sn_inp = Input(batch_shape=(1,None,), name='sn')\n",
    "sn_x = embedding_layer(sn_inp)\n",
    "sn_x = GRU(64, return_sequences=True)(sn_x)\n",
    "sn_x = BatchNormalization()(sn_x)\n",
    "sn_x = GRU(64)(sn_x)\n",
    "\n",
    "x = Concatenate()([fn_x, sn_x])\n",
    "out = Dense(n_classes, activation='softmax')(x)\n",
    "model = Model(inputs=[fn_inp, sn_inp], outputs=out)\n",
    "model.compile(loss='categorical_crossentropy', optimizer='adam', metrics=['accuracy'])"
   ]
  },
  {
   "cell_type": "code",
   "execution_count": 83,
   "metadata": {
    "collapsed": true
   },
   "outputs": [
    {
     "name": "stdout",
     "output_type": "stream",
     "text": [
      "Epoch 1/20\n",
      "11032/11032 [==============================] - 94s 9ms/step - loss: 1.6582 - acc: 0.4953 - val_loss: 1.9758 - val_acc: 0.3983\n",
      "\n",
      "Epoch 00001: val_loss improved from inf to 1.97582, saving model to model_rnn_fullname3iv.hdf5\n",
      "Epoch 2/20\n",
      "11032/11032 [==============================] - 79s 7ms/step - loss: 1.1345 - acc: 0.6508 - val_loss: 1.8180 - val_acc: 0.4405\n",
      "\n",
      "Epoch 00002: val_loss improved from 1.97582 to 1.81799, saving model to model_rnn_fullname3iv.hdf5\n",
      "Epoch 3/20\n",
      "11032/11032 [==============================] - 69s 6ms/step - loss: 0.8917 - acc: 0.7201 - val_loss: 2.0618 - val_acc: 0.3896\n",
      "\n",
      "Epoch 00003: val_loss did not improve from 1.81799\n",
      "Epoch 4/20\n",
      "11032/11032 [==============================] - 74s 7ms/step - loss: 0.7258 - acc: 0.7700 - val_loss: 2.1574 - val_acc: 0.3812\n",
      "\n",
      "Epoch 00004: val_loss did not improve from 1.81799\n",
      "Epoch 5/20\n",
      "11032/11032 [==============================] - 76s 7ms/step - loss: 0.6204 - acc: 0.8031 - val_loss: 2.2313 - val_acc: 0.3915\n",
      "\n",
      "Epoch 00005: val_loss did not improve from 1.81799\n",
      "Epoch 6/20\n",
      "11032/11032 [==============================] - 74s 7ms/step - loss: 0.5459 - acc: 0.8251 - val_loss: 2.3177 - val_acc: 0.3812\n",
      "Restoring model weights from the end of the best epoch\n",
      "\n",
      "Epoch 00006: val_loss did not improve from 1.81799\n",
      "Epoch 00006: early stopping\n"
     ]
    },
    {
     "data": {
      "text/plain": [
       "<keras.callbacks.History at 0x28870fefef0>"
      ]
     },
     "execution_count": 83,
     "metadata": {},
     "output_type": "execute_result"
    }
   ],
   "source": [
    "check_point = ModelCheckpoint('checkpoints\\\\model_rnn_fullname3iv.hdf5', verbose=True, save_best_only=True)\n",
    "early_stop = EarlyStopping(monitor='val_loss', patience=4, verbose=True, restore_best_weights=True)\n",
    "model.fit_generator(rnn_generator2(X_train,y_train), validation_data=rnn_generator2(X_dev,y_dev), steps_per_epoch=len(X_train), validation_steps=len(X_dev), epochs=n_epochs, verbose=1, callbacks=[early_stop,check_point])"
   ]
  },
  {
   "cell_type": "markdown",
   "metadata": {},
   "source": [
    "Batchnormalisation does not provide large enough regularisation effect "
   ]
  },
  {
   "cell_type": "markdown",
   "metadata": {},
   "source": [
    "Trying out Bidirectional layers;"
   ]
  },
  {
   "cell_type": "code",
   "execution_count": 31,
   "metadata": {},
   "outputs": [],
   "source": [
    "embedding_layer = Embedding(n_vocab, EMBEDDING_DIM, trainable=True)\n",
    "\n",
    "fn_inp = Input(batch_shape=(1,None,), name='fn')\n",
    "fn_x = embedding_layer(fn_inp)\n",
    "fn_x = Bidirectional(GRU(64, return_sequences=True))(fn_x)\n",
    "fn_x = Dropout(0.2)(fn_x)\n",
    "fn_x = Bidirectional(GRU(64))(fn_x)\n",
    "\n",
    "sn_inp = Input(batch_shape=(1,None,), name='sn')\n",
    "sn_x = embedding_layer(sn_inp)\n",
    "sn_x = Bidirectional(GRU(64, return_sequences=True))(sn_x)\n",
    "sn_x = Dropout(0.2)(sn_x)\n",
    "sn_x = Bidirectional(GRU(64))(sn_x)\n",
    "\n",
    "x = Concatenate()([fn_x, sn_x])\n",
    "out = Dense(n_classes, activation='softmax')(x)\n",
    "model = Model(inputs=[fn_inp, sn_inp], outputs=out)\n",
    "model.compile(loss='categorical_crossentropy', optimizer='adam', metrics=['accuracy'])"
   ]
  },
  {
   "cell_type": "code",
   "execution_count": 32,
   "metadata": {
    "scrolled": true
   },
   "outputs": [
    {
     "name": "stdout",
     "output_type": "stream",
     "text": [
      "Epoch 1/20\n",
      "11032/11032 [==============================] - 118s 11ms/step - loss: 1.8821 - acc: 0.4107 - val_loss: 1.5547 - val_acc: 0.5131\n",
      "\n",
      "Epoch 00001: val_loss improved from inf to 1.55472, saving model to checkpoints\\model_rnn_fullname4.hdf5\n",
      "Epoch 2/20\n",
      "11032/11032 [==============================] - 105s 9ms/step - loss: 1.3477 - acc: 0.5944 - val_loss: 1.2364 - val_acc: 0.6278\n",
      "\n",
      "Epoch 00002: val_loss improved from 1.55472 to 1.23643, saving model to checkpoints\\model_rnn_fullname4.hdf5\n",
      "Epoch 3/20\n",
      "11032/11032 [==============================] - 105s 10ms/step - loss: 1.0593 - acc: 0.6722 - val_loss: 1.1256 - val_acc: 0.6659\n",
      "\n",
      "Epoch 00003: val_loss improved from 1.23643 to 1.12561, saving model to checkpoints\\model_rnn_fullname4.hdf5\n",
      "Epoch 4/20\n",
      "11032/11032 [==============================] - 102s 9ms/step - loss: 0.8608 - acc: 0.7308 - val_loss: 1.0150 - val_acc: 0.7045\n",
      "\n",
      "Epoch 00004: val_loss improved from 1.12561 to 1.01499, saving model to checkpoints\\model_rnn_fullname4.hdf5\n",
      "Epoch 5/20\n",
      "11032/11032 [==============================] - 99s 9ms/step - loss: 0.7151 - acc: 0.7716 - val_loss: 0.9898 - val_acc: 0.7159\n",
      "\n",
      "Epoch 00005: val_loss improved from 1.01499 to 0.98978, saving model to checkpoints\\model_rnn_fullname4.hdf5\n",
      "Epoch 6/20\n",
      "11032/11032 [==============================] - 114s 10ms/step - loss: 0.6248 - acc: 0.7970 - val_loss: 0.9889 - val_acc: 0.7281\n",
      "\n",
      "Epoch 00006: val_loss improved from 0.98978 to 0.98893, saving model to checkpoints\\model_rnn_fullname4.hdf5\n",
      "Epoch 7/20\n",
      "11032/11032 [==============================] - 112s 10ms/step - loss: 0.5423 - acc: 0.8253 - val_loss: 0.9906 - val_acc: 0.7393\n",
      "\n",
      "Epoch 00007: val_loss did not improve from 0.98893\n",
      "Epoch 8/20\n",
      "11032/11032 [==============================] - 103s 9ms/step - loss: 0.5017 - acc: 0.8346 - val_loss: 0.9879 - val_acc: 0.7450\n",
      "\n",
      "Epoch 00008: val_loss improved from 0.98893 to 0.98790, saving model to checkpoints\\model_rnn_fullname4.hdf5\n",
      "Epoch 9/20\n",
      "11032/11032 [==============================] - 101s 9ms/step - loss: 0.4853 - acc: 0.8426 - val_loss: 1.0408 - val_acc: 0.7442\n",
      "\n",
      "Epoch 00009: val_loss did not improve from 0.98790\n",
      "Epoch 10/20\n",
      "11032/11032 [==============================] - 99s 9ms/step - loss: 0.4608 - acc: 0.8486 - val_loss: 1.0175 - val_acc: 0.7447\n",
      "\n",
      "Epoch 00010: val_loss did not improve from 0.98790\n",
      "Epoch 11/20\n",
      "11032/11032 [==============================] - 101s 9ms/step - loss: 0.4562 - acc: 0.8513 - val_loss: 1.0238 - val_acc: 0.7569\n",
      "\n",
      "Epoch 00011: val_loss did not improve from 0.98790\n",
      "Epoch 12/20\n",
      "11032/11032 [==============================] - 96s 9ms/step - loss: 0.4220 - acc: 0.8583 - val_loss: 1.0203 - val_acc: 0.7599\n",
      "Restoring model weights from the end of the best epoch\n",
      "\n",
      "Epoch 00012: val_loss did not improve from 0.98790\n",
      "Epoch 00012: early stopping\n"
     ]
    },
    {
     "data": {
      "text/plain": [
       "<keras.callbacks.History at 0x250b2d75c88>"
      ]
     },
     "execution_count": 32,
     "metadata": {},
     "output_type": "execute_result"
    }
   ],
   "source": [
    "check_point = ModelCheckpoint('checkpoints\\\\model_rnn_fullname4.hdf5', verbose=True, save_best_only=True)\n",
    "early_stop = EarlyStopping(monitor='val_loss', patience=4, verbose=True, restore_best_weights=True)\n",
    "model.fit_generator(rnn_generator2(X_train,y_train), validation_data=rnn_generator2(X_dev,y_dev), steps_per_epoch=len(X_train), validation_steps=len(X_dev), epochs=n_epochs, verbose=1, callbacks=[early_stop,check_point])"
   ]
  },
  {
   "cell_type": "markdown",
   "metadata": {},
   "source": [
    "Insignificant improvement"
   ]
  },
  {
   "cell_type": "markdown",
   "metadata": {},
   "source": [
    "Attempting to fit training data perfectly;"
   ]
  },
  {
   "cell_type": "code",
   "execution_count": 28,
   "metadata": {},
   "outputs": [],
   "source": [
    "n_vocab=26\n",
    "EMBEDDING_DIM=5\n",
    "embedding_layer = Embedding(n_vocab, EMBEDDING_DIM, trainable=True)\n",
    "def gru_block(x):\n",
    "    x = Bidirectional(GRU(64, return_sequences=True))(x)\n",
    "    x = Dropout(0.2)(x)\n",
    "    x = Bidirectional(GRU(64, return_sequences=True))(x)\n",
    "    x = Dropout(0.2)(x)\n",
    "    x = Bidirectional(GRU(64, return_sequences=False))(x)\n",
    "    return x        \n",
    "\n",
    "fn_inp = Input(batch_shape=(1,None,), name='fn')\n",
    "fn_x = embedding_layer(fn_inp)\n",
    "fn_x = gru_block(fn_x)\n",
    "\n",
    "sn_inp = Input(batch_shape=(1,None,), name='sn')\n",
    "sn_x = embedding_layer(sn_inp)\n",
    "sn_x = gru_block(sn_x)\n",
    "x = Concatenate()([fn_x, sn_x])\n",
    "x = Dense(128)(x)\n",
    "out = Dense(n_classes, activation='softmax')(x)\n",
    "model = Model(inputs=[fn_inp, sn_inp], outputs=out)\n",
    "model.compile(loss='categorical_crossentropy', optimizer='adam', metrics=['accuracy'])"
   ]
  },
  {
   "cell_type": "code",
   "execution_count": 29,
   "metadata": {
    "collapsed": true
   },
   "outputs": [
    {
     "name": "stdout",
     "output_type": "stream",
     "text": [
      "Epoch 1/20\n",
      "11032/11032 [==============================] - 158s 14ms/step - loss: 2.0005 - acc: 0.3661 - val_loss: 1.7365 - val_acc: 0.4679\n",
      "\n",
      "Epoch 00001: val_loss improved from inf to 1.73645, saving model to checkpoints\\model_rnn_fullname5.hdf5\n",
      "Epoch 2/20\n",
      "11032/11032 [==============================] - 148s 13ms/step - loss: 1.5409 - acc: 0.5366 - val_loss: 1.4962 - val_acc: 0.5579\n",
      "\n",
      "Epoch 00002: val_loss improved from 1.73645 to 1.49618, saving model to checkpoints\\model_rnn_fullname5.hdf5\n",
      "Epoch 3/20\n",
      "11032/11032 [==============================] - 141s 13ms/step - loss: 1.3116 - acc: 0.6054 - val_loss: 1.3212 - val_acc: 0.6066\n",
      "\n",
      "Epoch 00003: val_loss improved from 1.49618 to 1.32123, saving model to checkpoints\\model_rnn_fullname5.hdf5\n",
      "Epoch 4/20\n",
      "11032/11032 [==============================] - 141s 13ms/step - loss: 1.1584 - acc: 0.6470 - val_loss: 1.3567 - val_acc: 0.6123\n",
      "\n",
      "Epoch 00004: val_loss did not improve from 1.32123\n",
      "Epoch 5/20\n",
      "11032/11032 [==============================] - 140s 13ms/step - loss: 1.0386 - acc: 0.6784 - val_loss: 1.2914 - val_acc: 0.6476\n",
      "\n",
      "Epoch 00005: val_loss improved from 1.32123 to 1.29140, saving model to checkpoints\\model_rnn_fullname5.hdf5\n",
      "Epoch 6/20\n",
      "11032/11032 [==============================] - 146s 13ms/step - loss: 0.9311 - acc: 0.7065 - val_loss: 1.1970 - val_acc: 0.6580\n",
      "\n",
      "Epoch 00006: val_loss improved from 1.29140 to 1.19699, saving model to checkpoints\\model_rnn_fullname5.hdf5\n",
      "Epoch 7/20\n",
      "11032/11032 [==============================] - 143s 13ms/step - loss: 0.8462 - acc: 0.7354 - val_loss: 1.1384 - val_acc: 0.6746\n",
      "\n",
      "Epoch 00007: val_loss improved from 1.19699 to 1.13835, saving model to checkpoints\\model_rnn_fullname5.hdf5\n",
      "Epoch 8/20\n",
      "11032/11032 [==============================] - 147s 13ms/step - loss: 0.7859 - acc: 0.7536 - val_loss: 1.1778 - val_acc: 0.6879\n",
      "\n",
      "Epoch 00008: val_loss did not improve from 1.13835\n",
      "Epoch 9/20\n",
      "11032/11032 [==============================] - 163s 15ms/step - loss: 0.7445 - acc: 0.7651 - val_loss: 1.2480 - val_acc: 0.6822\n",
      "\n",
      "Epoch 00009: val_loss did not improve from 1.13835\n",
      "Epoch 10/20\n",
      "11032/11032 [==============================] - 161s 15ms/step - loss: 0.7175 - acc: 0.7699 - val_loss: 1.1926 - val_acc: 0.6909\n",
      "\n",
      "Epoch 00010: val_loss did not improve from 1.13835\n",
      "Epoch 11/20\n",
      "11032/11032 [==============================] - 163s 15ms/step - loss: 0.7019 - acc: 0.7750 - val_loss: 1.1415 - val_acc: 0.6979\n",
      "Restoring model weights from the end of the best epoch\n",
      "\n",
      "Epoch 00011: val_loss did not improve from 1.13835\n",
      "Epoch 00011: early stopping\n"
     ]
    },
    {
     "data": {
      "text/plain": [
       "<keras.callbacks.History at 0x259ac8b8c88>"
      ]
     },
     "execution_count": 29,
     "metadata": {},
     "output_type": "execute_result"
    }
   ],
   "source": [
    "check_point = ModelCheckpoint('checkpoints\\\\model_rnn_fullname5.hdf5', verbose=True, save_best_only=True)\n",
    "early_stop = EarlyStopping(monitor='val_loss', patience=4, verbose=True, restore_best_weights=True)\n",
    "model.fit_generator(rnn_generator2(X_train,y_train), validation_data=rnn_generator2(X_dev,y_dev), steps_per_epoch=len(X_train), validation_steps=len(X_dev), epochs=n_epochs, verbose=1, callbacks=[early_stop,check_point])"
   ]
  },
  {
   "cell_type": "markdown",
   "metadata": {},
   "source": [
    "Adding more layers gives worse performance on training data (?)"
   ]
  },
  {
   "cell_type": "markdown",
   "metadata": {},
   "source": [
    "## CNN"
   ]
  },
  {
   "cell_type": "code",
   "execution_count": 102,
   "metadata": {},
   "outputs": [],
   "source": [
    "from keras.utils import to_categorical\n",
    "from keras.layers import concatenate, Conv1D, GlobalMaxPooling1D, Lambda, Flatten\n",
    "from keras import backend"
   ]
  },
  {
   "cell_type": "code",
   "execution_count": 104,
   "metadata": {},
   "outputs": [
    {
     "data": {
      "text/plain": [
       "27"
      ]
     },
     "execution_count": 104,
     "metadata": {},
     "output_type": "execute_result"
    }
   ],
   "source": [
    "n_vocab = n_vocab + 1\n",
    "n_vocab"
   ]
  },
  {
   "cell_type": "markdown",
   "metadata": {},
   "source": [
    "### Over last names only"
   ]
  },
  {
   "cell_type": "code",
   "execution_count": 112,
   "metadata": {},
   "outputs": [],
   "source": [
    "X_train, X_dev, y_train, y_dev = train_test_split(df['Surname'][surnames_mask].values, labels[surnames_mask], random_state = RANDOM_STATE)"
   ]
  },
  {
   "cell_type": "code",
   "execution_count": 109,
   "metadata": {},
   "outputs": [],
   "source": [
    "def cnn_name_processor(name, const_val=n_vocab-1, pad=2):\n",
    "    return np.pad(get_name_val(name), pad_width=pad, mode='constant', constant_values=const_val).reshape(1,-1)"
   ]
  },
  {
   "cell_type": "code",
   "execution_count": 110,
   "metadata": {},
   "outputs": [],
   "source": [
    "# padding of 2 so minimum word length is 5\n",
    "def cnn_generator(X, y, one_iter=False, x_processor=None):\n",
    "    if x_processor is None:\n",
    "        x_processor = cnn_name_processor\n",
    "        \n",
    "    while True:\n",
    "        for x_i, y_i in zip(X,y):\n",
    "            yield (x_processor(x_i), to_categorical(y_i, num_classes=n_classes).reshape(1,-1))\n",
    "    \n",
    "        if one_iter:\n",
    "            break"
   ]
  },
  {
   "cell_type": "code",
   "execution_count": 123,
   "metadata": {},
   "outputs": [],
   "source": [
    "def cnn_predict(names, model, argmax=True, x_processor=None):\n",
    "    if x_processor is None:\n",
    "        x_processor = cnn_name_processor\n",
    "        \n",
    "    predictions = []\n",
    "    for name in names:\n",
    "        result = model.predict( x_processor(name) )\n",
    "        if argmax:\n",
    "            result = np.argmax(result)\n",
    "        predictions += [result]\n",
    "    return np.array(predictions)"
   ]
  },
  {
   "cell_type": "markdown",
   "metadata": {},
   "source": [
    "1D Convolution / convolution over time with filter sizes from 1 to 5 followed by max pooling over time (giving one element for each filter). Output is stacked into a single vector followed by a softmax."
   ]
  },
  {
   "cell_type": "code",
   "execution_count": 105,
   "metadata": {},
   "outputs": [],
   "source": [
    "conv_layers = []\n",
    "for i in range(1,6):\n",
    "    conv_layers.append( Conv1D(filters=10, kernel_size=(i,), strides=(1,)) )\n",
    "    \n",
    "inp = Input(shape=(None,))\n",
    "x = Embedding(n_vocab, EMBEDDING_DIM, trainable=True)(inp)\n",
    "conv_outputs = []\n",
    "for conv_layer in conv_layers:\n",
    "    conv_outputs.append( GlobalMaxPooling1D() (conv_layer(x)) )\n",
    "x = Lambda(lambda x: backend.stack(x, axis=1))(conv_outputs)\n",
    "x = Flatten()(x) \n",
    "out = Dense(n_classes, activation='softmax')(x)\n",
    "model = Model(inputs=inp, outputs=out)\n",
    "model.compile(loss='categorical_crossentropy', optimizer='adam', metrics=['accuracy'])"
   ]
  },
  {
   "cell_type": "code",
   "execution_count": 41,
   "metadata": {
    "collapsed": true
   },
   "outputs": [
    {
     "name": "stdout",
     "output_type": "stream",
     "text": [
      "__________________________________________________________________________________________________\n",
      "Layer (type)                    Output Shape         Param #     Connected to                     \n",
      "==================================================================================================\n",
      "input_2 (InputLayer)            (None, None)         0                                            \n",
      "__________________________________________________________________________________________________\n",
      "embedding_4 (Embedding)         (None, None, 5)      135         input_2[0][0]                    \n",
      "__________________________________________________________________________________________________\n",
      "conv1d_6 (Conv1D)               (None, None, 10)     60          embedding_4[0][0]                \n",
      "__________________________________________________________________________________________________\n",
      "conv1d_7 (Conv1D)               (None, None, 10)     110         embedding_4[0][0]                \n",
      "__________________________________________________________________________________________________\n",
      "conv1d_8 (Conv1D)               (None, None, 10)     160         embedding_4[0][0]                \n",
      "__________________________________________________________________________________________________\n",
      "conv1d_9 (Conv1D)               (None, None, 10)     210         embedding_4[0][0]                \n",
      "__________________________________________________________________________________________________\n",
      "conv1d_10 (Conv1D)              (None, None, 10)     260         embedding_4[0][0]                \n",
      "__________________________________________________________________________________________________\n",
      "global_max_pooling1d_6 (GlobalM (None, 10)           0           conv1d_6[0][0]                   \n",
      "__________________________________________________________________________________________________\n",
      "global_max_pooling1d_7 (GlobalM (None, 10)           0           conv1d_7[0][0]                   \n",
      "__________________________________________________________________________________________________\n",
      "global_max_pooling1d_8 (GlobalM (None, 10)           0           conv1d_8[0][0]                   \n",
      "__________________________________________________________________________________________________\n",
      "global_max_pooling1d_9 (GlobalM (None, 10)           0           conv1d_9[0][0]                   \n",
      "__________________________________________________________________________________________________\n",
      "global_max_pooling1d_10 (Global (None, 10)           0           conv1d_10[0][0]                  \n",
      "__________________________________________________________________________________________________\n",
      "lambda_2 (Lambda)               (None, 5, 10)        0           global_max_pooling1d_6[0][0]     \n",
      "                                                                 global_max_pooling1d_7[0][0]     \n",
      "                                                                 global_max_pooling1d_8[0][0]     \n",
      "                                                                 global_max_pooling1d_9[0][0]     \n",
      "                                                                 global_max_pooling1d_10[0][0]    \n",
      "__________________________________________________________________________________________________\n",
      "flatten_2 (Flatten)             (None, 50)           0           lambda_2[0][0]                   \n",
      "__________________________________________________________________________________________________\n",
      "dense_6 (Dense)                 (None, 25)           1275        flatten_2[0][0]                  \n",
      "==================================================================================================\n",
      "Total params: 2,210\n",
      "Trainable params: 2,210\n",
      "Non-trainable params: 0\n",
      "__________________________________________________________________________________________________\n"
     ]
    }
   ],
   "source": [
    "model.summary()"
   ]
  },
  {
   "cell_type": "code",
   "execution_count": 173,
   "metadata": {
    "scrolled": true
   },
   "outputs": [
    {
     "name": "stdout",
     "output_type": "stream",
     "text": [
      "Epoch 1/20\n",
      "11180/11180 [==============================] - 68s 6ms/step - loss: 2.0208 - acc: 0.3788 - val_loss: 1.7786 - val_acc: 0.4671\n",
      "\n",
      "Epoch 00001: val_loss improved from inf to 1.77857, saving model to model_cnn_surname.hdf5\n",
      "Epoch 2/20\n",
      "11180/11180 [==============================] - 67s 6ms/step - loss: 1.6976 - acc: 0.5002 - val_loss: 1.6202 - val_acc: 0.5272\n",
      "\n",
      "Epoch 00002: val_loss improved from 1.77857 to 1.62019, saving model to model_cnn_surname.hdf5\n",
      "Epoch 3/20\n",
      "11180/11180 [==============================] - 68s 6ms/step - loss: 1.5609 - acc: 0.5405 - val_loss: 1.5437 - val_acc: 0.5500\n",
      "\n",
      "Epoch 00003: val_loss improved from 1.62019 to 1.54365, saving model to model_cnn_surname.hdf5\n",
      "Epoch 4/20\n",
      "11180/11180 [==============================] - 68s 6ms/step - loss: 1.4834 - acc: 0.5647 - val_loss: 1.4943 - val_acc: 0.5707\n",
      "\n",
      "Epoch 00004: val_loss improved from 1.54365 to 1.49427, saving model to model_cnn_surname.hdf5\n",
      "Epoch 5/20\n",
      "11180/11180 [==============================] - 68s 6ms/step - loss: 1.4263 - acc: 0.5833 - val_loss: 1.4628 - val_acc: 0.5830\n",
      "\n",
      "Epoch 00005: val_loss improved from 1.49427 to 1.46277, saving model to model_cnn_surname.hdf5\n",
      "Epoch 6/20\n",
      "11180/11180 [==============================] - 69s 6ms/step - loss: 1.3884 - acc: 0.5933 - val_loss: 1.4412 - val_acc: 0.5892\n",
      "\n",
      "Epoch 00006: val_loss improved from 1.46277 to 1.44119, saving model to model_cnn_surname.hdf5\n",
      "Epoch 7/20\n",
      "11180/11180 [==============================] - 71s 6ms/step - loss: 1.3601 - acc: 0.6016 - val_loss: 1.4223 - val_acc: 0.5962\n",
      "\n",
      "Epoch 00007: val_loss improved from 1.44119 to 1.42228, saving model to model_cnn_surname.hdf5\n",
      "Epoch 8/20\n",
      "11180/11180 [==============================] - 72s 6ms/step - loss: 1.3382 - acc: 0.6115 - val_loss: 1.4106 - val_acc: 0.6010\n",
      "\n",
      "Epoch 00008: val_loss improved from 1.42228 to 1.41058, saving model to model_cnn_surname.hdf5\n",
      "Epoch 9/20\n",
      "11180/11180 [==============================] - 73s 7ms/step - loss: 1.3221 - acc: 0.6175 - val_loss: 1.4001 - val_acc: 0.6042\n",
      "\n",
      "Epoch 00009: val_loss improved from 1.41058 to 1.40012, saving model to model_cnn_surname.hdf5\n",
      "Epoch 10/20\n",
      "11180/11180 [==============================] - 72s 6ms/step - loss: 1.3096 - acc: 0.6213 - val_loss: 1.3912 - val_acc: 0.6112\n",
      "\n",
      "Epoch 00010: val_loss improved from 1.40012 to 1.39122, saving model to model_cnn_surname.hdf5\n",
      "Epoch 11/20\n",
      "11180/11180 [==============================] - 72s 6ms/step - loss: 1.2991 - acc: 0.6221 - val_loss: 1.3821 - val_acc: 0.6166\n",
      "\n",
      "Epoch 00011: val_loss improved from 1.39122 to 1.38215, saving model to model_cnn_surname.hdf5\n",
      "Epoch 12/20\n",
      "11180/11180 [==============================] - 73s 7ms/step - loss: 1.2906 - acc: 0.6266 - val_loss: 1.3766 - val_acc: 0.6166\n",
      "\n",
      "Epoch 00012: val_loss improved from 1.38215 to 1.37658, saving model to model_cnn_surname.hdf5\n",
      "Epoch 13/20\n",
      "11180/11180 [==============================] - 58s 5ms/step - loss: 1.2823 - acc: 0.6284 - val_loss: 1.3716 - val_acc: 0.6177\n",
      "\n",
      "Epoch 00013: val_loss improved from 1.37658 to 1.37159, saving model to model_cnn_surname.hdf5\n",
      "Epoch 14/20\n",
      "11180/11180 [==============================] - 56s 5ms/step - loss: 1.2753 - acc: 0.6271 - val_loss: 1.3685 - val_acc: 0.6158\n",
      "\n",
      "Epoch 00014: val_loss improved from 1.37159 to 1.36852, saving model to model_cnn_surname.hdf5\n",
      "Epoch 15/20\n",
      "11180/11180 [==============================] - 59s 5ms/step - loss: 1.2690 - acc: 0.6301 - val_loss: 1.3660 - val_acc: 0.6166\n",
      "\n",
      "Epoch 00015: val_loss improved from 1.36852 to 1.36600, saving model to model_cnn_surname.hdf5\n",
      "Epoch 16/20\n",
      "11180/11180 [==============================] - 64s 6ms/step - loss: 1.2647 - acc: 0.6300 - val_loss: 1.3660 - val_acc: 0.6152\n",
      "\n",
      "Epoch 00016: val_loss improved from 1.36600 to 1.36598, saving model to model_cnn_surname.hdf5\n",
      "Epoch 17/20\n",
      "11180/11180 [==============================] - 56s 5ms/step - loss: 1.2596 - acc: 0.6313 - val_loss: 1.3655 - val_acc: 0.6150\n",
      "\n",
      "Epoch 00017: val_loss improved from 1.36598 to 1.36551, saving model to model_cnn_surname.hdf5\n",
      "Epoch 18/20\n",
      "11180/11180 [==============================] - 56s 5ms/step - loss: 1.2558 - acc: 0.6336 - val_loss: 1.3602 - val_acc: 0.6219\n",
      "\n",
      "Epoch 00018: val_loss improved from 1.36551 to 1.36015, saving model to model_cnn_surname.hdf5\n",
      "Epoch 19/20\n",
      "11180/11180 [==============================] - 70s 6ms/step - loss: 1.2514 - acc: 0.6353 - val_loss: 1.3605 - val_acc: 0.6225\n",
      "\n",
      "Epoch 00019: val_loss did not improve from 1.36015\n",
      "Epoch 20/20\n",
      "11180/11180 [==============================] - 70s 6ms/step - loss: 1.2469 - acc: 0.6356 - val_loss: 1.3583 - val_acc: 0.6236\n",
      "\n",
      "Epoch 00020: val_loss improved from 1.36015 to 1.35833, saving model to model_cnn_surname.hdf5\n"
     ]
    },
    {
     "data": {
      "text/plain": [
       "<keras.callbacks.History at 0x16ef3a079b0>"
      ]
     },
     "execution_count": 173,
     "metadata": {},
     "output_type": "execute_result"
    }
   ],
   "source": [
    "check_point = ModelCheckpoint('checkpoints\\\\model_cnn_surname.hdf5', verbose=True, save_best_only=True)\n",
    "early_stop = EarlyStopping(monitor='val_loss', patience=4, verbose=True, restore_best_weights=True)\n",
    "model.fit_generator(cnn_generator(X_train,y_train), validation_data=cnn_generator(X_dev,y_dev), steps_per_epoch=len(X_train), validation_steps=len(X_dev), epochs=n_epochs, verbose=1, callbacks=[early_stop,check_point])"
   ]
  },
  {
   "cell_type": "code",
   "execution_count": 106,
   "metadata": {},
   "outputs": [],
   "source": [
    "model.load_weights(\"checkpoints\\\\model_cnn_surname.hdf5\")"
   ]
  },
  {
   "cell_type": "code",
   "execution_count": 107,
   "metadata": {},
   "outputs": [],
   "source": [
    "metrics_dict['accuracy'] = accuracy_score"
   ]
  },
  {
   "cell_type": "code",
   "execution_count": 113,
   "metadata": {},
   "outputs": [
    {
     "name": "stdout",
     "output_type": "stream",
     "text": [
      "Train..\n",
      "f1_all = [0.36363636 0.73938336 0.09448819 0.         0.68428373 0.\n",
      " 0.61535088 0.52924791 0.         0.         0.         0.59277108\n",
      " 0.60622463 0.4955157  0.         0.         0.74190871 0.\n",
      " 0.         0.79279794 0.         0.54890788 0.52925764 0.\n",
      " 0.59797297]\n",
      "f1_micro = 0.6480322003577818\n",
      "f1_macro = 0.31726987963465136\n",
      "f1_weighted = 0.6312551048743819\n",
      "accuracy = 0.6480322003577818\n"
     ]
    },
    {
     "name": "stderr",
     "output_type": "stream",
     "text": [
      "C:\\Users\\anush\\Anaconda3\\lib\\site-packages\\sklearn\\metrics\\classification.py:1135: UndefinedMetricWarning: F-score is ill-defined and being set to 0.0 in labels with no predicted samples.\n",
      "  'precision', 'predicted', average, warn_for)\n"
     ]
    }
   ],
   "source": [
    "yhat_train = cnn_predict(X_train, model)\n",
    "print('Train..')\n",
    "for metric, metric_fn in metrics_dict.items():\n",
    "    print(metric,\"=\", metric_fn(y_train, yhat_train))"
   ]
  },
  {
   "cell_type": "code",
   "execution_count": 114,
   "metadata": {},
   "outputs": [
    {
     "name": "stdout",
     "output_type": "stream",
     "text": [
      "Dev..\n",
      "f1_all = [0.18181818 0.70097604 0.05063291 0.         0.65989848 0.\n",
      " 0.58964143 0.37777778 0.         0.         0.         0.65454545\n",
      " 0.52884615 0.40860215 0.         0.         0.68894602 0.\n",
      " 0.         0.78792822 0.         0.45592705 0.55086849 0.\n",
      " 0.57971014]\n",
      "f1_micro = 0.6235578213039978\n",
      "f1_macro = 0.36080592520821814\n",
      "f1_weighted = 0.6063165505549567\n",
      "accuracy = 0.6235578213039978\n"
     ]
    },
    {
     "name": "stderr",
     "output_type": "stream",
     "text": [
      "C:\\Users\\anush\\Anaconda3\\lib\\site-packages\\sklearn\\metrics\\classification.py:1135: UndefinedMetricWarning: F-score is ill-defined and being set to 0.0 in labels with no predicted samples.\n",
      "  'precision', 'predicted', average, warn_for)\n",
      "C:\\Users\\anush\\Anaconda3\\lib\\site-packages\\sklearn\\metrics\\classification.py:1137: UndefinedMetricWarning: F-score is ill-defined and being set to 0.0 in labels with no true samples.\n",
      "  'recall', 'true', average, warn_for)\n"
     ]
    }
   ],
   "source": [
    "yhat_dev = cnn_predict(X_dev, model)\n",
    "print('Dev..')\n",
    "for metric, metric_fn in metrics_dict.items():\n",
    "    print(metric,\"=\", metric_fn(y_dev, yhat_dev))"
   ]
  },
  {
   "cell_type": "markdown",
   "metadata": {},
   "source": [
    "#### Exploring name representations (last GRU state)"
   ]
  },
  {
   "cell_type": "code",
   "execution_count": 58,
   "metadata": {},
   "outputs": [],
   "source": [
    "from sklearn.cluster import KMeans\n",
    "from sklearn.metrics import adjusted_rand_score"
   ]
  },
  {
   "cell_type": "code",
   "execution_count": 61,
   "metadata": {},
   "outputs": [],
   "source": [
    "layer_output = Model(inputs=model.input, outputs=model.layers[-2].output)\n",
    "name_vecs = cnn_predict(df['Surname'][surnames_mask].values, layer_output, argmax=False)"
   ]
  },
  {
   "cell_type": "code",
   "execution_count": 64,
   "metadata": {
    "scrolled": true
   },
   "outputs": [],
   "source": [
    "name_vecs = np.squeeze(name_vecs)"
   ]
  },
  {
   "cell_type": "code",
   "execution_count": 66,
   "metadata": {},
   "outputs": [],
   "source": [
    "km = KMeans(n_clusters=n_classes, random_state=RANDOM_STATE).fit(name_vecs)"
   ]
  },
  {
   "cell_type": "code",
   "execution_count": 67,
   "metadata": {},
   "outputs": [],
   "source": [
    "name_vecs_clusters = km.labels_"
   ]
  },
  {
   "cell_type": "code",
   "execution_count": 68,
   "metadata": {
    "scrolled": false
   },
   "outputs": [
    {
     "data": {
      "text/plain": [
       "0.09718642072415555"
      ]
     },
     "execution_count": 68,
     "metadata": {},
     "output_type": "execute_result"
    }
   ],
   "source": [
    "#how well do name vector clusters correspond with community\n",
    "adjusted_rand_score(name_vecs_clusters, labels[surnames_mask])"
   ]
  },
  {
   "cell_type": "markdown",
   "metadata": {},
   "source": [
    "Significantly worse than RNN embeddings"
   ]
  },
  {
   "cell_type": "markdown",
   "metadata": {},
   "source": [
    "### Over full names"
   ]
  },
  {
   "cell_type": "code",
   "execution_count": 115,
   "metadata": {},
   "outputs": [],
   "source": [
    "X_train, X_dev, y_train, y_dev = train_test_split(df[['Name','Surname']][fullnames_mask].values, labels[fullnames_mask], random_state = RANDOM_STATE)"
   ]
  },
  {
   "cell_type": "code",
   "execution_count": 116,
   "metadata": {},
   "outputs": [],
   "source": [
    "# padding of 2 so minimum word length is 5\n",
    "def cnn_generator2(X, y, one_iter=False, x_processor=None):\n",
    "    if x_processor is None:\n",
    "        x_processor = cnn_name_processor\n",
    "        \n",
    "    while True:\n",
    "        for x_i, y_i in zip(X,y):\n",
    "            yield ({'fn': x_processor(x_i[0]), 'sn':x_processor(x_i[1])}, to_categorical(y_i, num_classes=n_classes).reshape(1,-1))\n",
    "    \n",
    "        if one_iter:\n",
    "            break"
   ]
  },
  {
   "cell_type": "code",
   "execution_count": 117,
   "metadata": {},
   "outputs": [],
   "source": [
    "embedding_layer = Embedding(n_vocab, EMBEDDING_DIM, trainable=True)\n",
    "fn_inp = Input(shape=(None,), name='fn')\n",
    "fn_x = embedding_layer(fn_inp)\n",
    "\n",
    "sn_inp = Input(shape=(None,), name='sn')\n",
    "sn_x = embedding_layer(sn_inp)\n",
    "\n",
    "conv_layers = {'fn':[], 'sn':[]}\n",
    "for inp_x in ['fn','sn']:\n",
    "    for i in range(1,6):\n",
    "        conv_layers[inp_x].append( Conv1D(filters=10, kernel_size=(i,), strides=(1,)) )\n",
    "    \n",
    "conv_outputs = []\n",
    "for conv_layer in conv_layers['fn']:\n",
    "    conv_outputs.append( GlobalMaxPooling1D() (conv_layer(fn_x)) )\n",
    "for conv_layer in conv_layers['sn']:\n",
    "    conv_outputs.append( GlobalMaxPooling1D() (conv_layer(sn_x)) )\n",
    "    \n",
    "x = Lambda(lambda x: backend.stack(x, axis=1))(conv_outputs)\n",
    "x = Flatten()(x) \n",
    "out = Dense(n_classes, activation='softmax')(x)\n",
    "model = Model(inputs=[fn_inp, sn_inp], outputs=out)\n",
    "model.compile(loss='categorical_crossentropy', optimizer='adam', metrics=['accuracy'])"
   ]
  },
  {
   "cell_type": "code",
   "execution_count": 87,
   "metadata": {
    "scrolled": true
   },
   "outputs": [
    {
     "name": "stdout",
     "output_type": "stream",
     "text": [
      "__________________________________________________________________________________________________\n",
      "Layer (type)                    Output Shape         Param #     Connected to                     \n",
      "==================================================================================================\n",
      "fn (InputLayer)                 (None, None)         0                                            \n",
      "__________________________________________________________________________________________________\n",
      "sn (InputLayer)                 (None, None)         0                                            \n",
      "__________________________________________________________________________________________________\n",
      "embedding_6 (Embedding)         (None, None, 5)      135         fn[0][0]                         \n",
      "                                                                 sn[0][0]                         \n",
      "__________________________________________________________________________________________________\n",
      "conv1d_21 (Conv1D)              (None, None, 10)     60          embedding_6[0][0]                \n",
      "__________________________________________________________________________________________________\n",
      "conv1d_22 (Conv1D)              (None, None, 10)     110         embedding_6[0][0]                \n",
      "__________________________________________________________________________________________________\n",
      "conv1d_23 (Conv1D)              (None, None, 10)     160         embedding_6[0][0]                \n",
      "__________________________________________________________________________________________________\n",
      "conv1d_24 (Conv1D)              (None, None, 10)     210         embedding_6[0][0]                \n",
      "__________________________________________________________________________________________________\n",
      "conv1d_25 (Conv1D)              (None, None, 10)     260         embedding_6[0][0]                \n",
      "__________________________________________________________________________________________________\n",
      "conv1d_26 (Conv1D)              (None, None, 10)     60          embedding_6[1][0]                \n",
      "__________________________________________________________________________________________________\n",
      "conv1d_27 (Conv1D)              (None, None, 10)     110         embedding_6[1][0]                \n",
      "__________________________________________________________________________________________________\n",
      "conv1d_28 (Conv1D)              (None, None, 10)     160         embedding_6[1][0]                \n",
      "__________________________________________________________________________________________________\n",
      "conv1d_29 (Conv1D)              (None, None, 10)     210         embedding_6[1][0]                \n",
      "__________________________________________________________________________________________________\n",
      "conv1d_30 (Conv1D)              (None, None, 10)     260         embedding_6[1][0]                \n",
      "__________________________________________________________________________________________________\n",
      "global_max_pooling1d_21 (Global (None, 10)           0           conv1d_21[0][0]                  \n",
      "__________________________________________________________________________________________________\n",
      "global_max_pooling1d_22 (Global (None, 10)           0           conv1d_22[0][0]                  \n",
      "__________________________________________________________________________________________________\n",
      "global_max_pooling1d_23 (Global (None, 10)           0           conv1d_23[0][0]                  \n",
      "__________________________________________________________________________________________________\n",
      "global_max_pooling1d_24 (Global (None, 10)           0           conv1d_24[0][0]                  \n",
      "__________________________________________________________________________________________________\n",
      "global_max_pooling1d_25 (Global (None, 10)           0           conv1d_25[0][0]                  \n",
      "__________________________________________________________________________________________________\n",
      "global_max_pooling1d_26 (Global (None, 10)           0           conv1d_26[0][0]                  \n",
      "__________________________________________________________________________________________________\n",
      "global_max_pooling1d_27 (Global (None, 10)           0           conv1d_27[0][0]                  \n",
      "__________________________________________________________________________________________________\n",
      "global_max_pooling1d_28 (Global (None, 10)           0           conv1d_28[0][0]                  \n",
      "__________________________________________________________________________________________________\n",
      "global_max_pooling1d_29 (Global (None, 10)           0           conv1d_29[0][0]                  \n",
      "__________________________________________________________________________________________________\n",
      "global_max_pooling1d_30 (Global (None, 10)           0           conv1d_30[0][0]                  \n",
      "__________________________________________________________________________________________________\n",
      "lambda_4 (Lambda)               (None, 10, 10)       0           global_max_pooling1d_21[0][0]    \n",
      "                                                                 global_max_pooling1d_22[0][0]    \n",
      "                                                                 global_max_pooling1d_23[0][0]    \n",
      "                                                                 global_max_pooling1d_24[0][0]    \n",
      "                                                                 global_max_pooling1d_25[0][0]    \n",
      "                                                                 global_max_pooling1d_26[0][0]    \n",
      "                                                                 global_max_pooling1d_27[0][0]    \n",
      "                                                                 global_max_pooling1d_28[0][0]    \n",
      "                                                                 global_max_pooling1d_29[0][0]    \n",
      "                                                                 global_max_pooling1d_30[0][0]    \n",
      "__________________________________________________________________________________________________\n",
      "flatten_4 (Flatten)             (None, 100)          0           lambda_4[0][0]                   \n",
      "__________________________________________________________________________________________________\n",
      "dense_8 (Dense)                 (None, 25)           2525        flatten_4[0][0]                  \n",
      "==================================================================================================\n",
      "Total params: 4,260\n",
      "Trainable params: 4,260\n",
      "Non-trainable params: 0\n",
      "__________________________________________________________________________________________________\n"
     ]
    }
   ],
   "source": [
    "model.summary()"
   ]
  },
  {
   "cell_type": "code",
   "execution_count": 88,
   "metadata": {},
   "outputs": [
    {
     "name": "stdout",
     "output_type": "stream",
     "text": [
      "Epoch 1/20\n",
      "11032/11032 [==============================] - 72s 7ms/step - loss: 1.9704 - acc: 0.3765 - val_loss: 1.7582 - val_acc: 0.4600\n",
      "\n",
      "Epoch 00001: val_loss improved from inf to 1.75816, saving model to checkpoints\\model_cnn_fullname.hdf5\n",
      "Epoch 2/20\n",
      "11032/11032 [==============================] - 46s 4ms/step - loss: 1.5862 - acc: 0.5141 - val_loss: 1.5492 - val_acc: 0.5294\n",
      "\n",
      "Epoch 00002: val_loss improved from 1.75816 to 1.54921, saving model to checkpoints\\model_cnn_fullname.hdf5\n",
      "Epoch 3/20\n",
      "11032/11032 [==============================] - 75s 7ms/step - loss: 1.4156 - acc: 0.5693 - val_loss: 1.4298 - val_acc: 0.5693\n",
      "\n",
      "Epoch 00003: val_loss improved from 1.54921 to 1.42981, saving model to checkpoints\\model_cnn_fullname.hdf5\n",
      "Epoch 4/20\n",
      "11032/11032 [==============================] - 76s 7ms/step - loss: 1.3075 - acc: 0.6032 - val_loss: 1.3560 - val_acc: 0.5949\n",
      "\n",
      "Epoch 00004: val_loss improved from 1.42981 to 1.35603, saving model to checkpoints\\model_cnn_fullname.hdf5\n",
      "Epoch 5/20\n",
      "11032/11032 [==============================] - 75s 7ms/step - loss: 1.2344 - acc: 0.6210 - val_loss: 1.3132 - val_acc: 0.6049\n",
      "\n",
      "Epoch 00005: val_loss improved from 1.35603 to 1.31321, saving model to checkpoints\\model_cnn_fullname.hdf5\n",
      "Epoch 6/20\n",
      "11032/11032 [==============================] - 75s 7ms/step - loss: 1.1813 - acc: 0.6347 - val_loss: 1.2841 - val_acc: 0.6117\n",
      "\n",
      "Epoch 00006: val_loss improved from 1.31321 to 1.28409, saving model to checkpoints\\model_cnn_fullname.hdf5\n",
      "Epoch 7/20\n",
      "11032/11032 [==============================] - 75s 7ms/step - loss: 1.1438 - acc: 0.6440 - val_loss: 1.2593 - val_acc: 0.6215\n",
      "\n",
      "Epoch 00007: val_loss improved from 1.28409 to 1.25925, saving model to checkpoints\\model_cnn_fullname.hdf5\n",
      "Epoch 8/20\n",
      "11032/11032 [==============================] - 74s 7ms/step - loss: 1.1139 - acc: 0.6516 - val_loss: 1.2455 - val_acc: 0.6251\n",
      "\n",
      "Epoch 00008: val_loss improved from 1.25925 to 1.24549, saving model to checkpoints\\model_cnn_fullname.hdf5\n",
      "Epoch 9/20\n",
      "11032/11032 [==============================] - 74s 7ms/step - loss: 1.0897 - acc: 0.6606 - val_loss: 1.2321 - val_acc: 0.6283\n",
      "\n",
      "Epoch 00009: val_loss improved from 1.24549 to 1.23212, saving model to checkpoints\\model_cnn_fullname.hdf5\n",
      "Epoch 10/20\n",
      "11032/11032 [==============================] - 73s 7ms/step - loss: 1.0697 - acc: 0.6701 - val_loss: 1.2211 - val_acc: 0.6340\n",
      "\n",
      "Epoch 00010: val_loss improved from 1.23212 to 1.22114, saving model to checkpoints\\model_cnn_fullname.hdf5\n",
      "Epoch 11/20\n",
      "11032/11032 [==============================] - 58s 5ms/step - loss: 1.0535 - acc: 0.6756 - val_loss: 1.2124 - val_acc: 0.6400\n",
      "\n",
      "Epoch 00011: val_loss improved from 1.22114 to 1.21239, saving model to checkpoints\\model_cnn_fullname.hdf5\n",
      "Epoch 12/20\n",
      "11032/11032 [==============================] - 56s 5ms/step - loss: 1.0387 - acc: 0.6795 - val_loss: 1.2062 - val_acc: 0.6487\n",
      "\n",
      "Epoch 00012: val_loss improved from 1.21239 to 1.20625, saving model to checkpoints\\model_cnn_fullname.hdf5\n",
      "Epoch 13/20\n",
      "11032/11032 [==============================] - 56s 5ms/step - loss: 1.0259 - acc: 0.6828 - val_loss: 1.2024 - val_acc: 0.6514\n",
      "\n",
      "Epoch 00013: val_loss improved from 1.20625 to 1.20242, saving model to checkpoints\\model_cnn_fullname.hdf5\n",
      "Epoch 14/20\n",
      "11032/11032 [==============================] - 57s 5ms/step - loss: 1.0151 - acc: 0.6853 - val_loss: 1.1982 - val_acc: 0.6512\n",
      "\n",
      "Epoch 00014: val_loss improved from 1.20242 to 1.19819, saving model to checkpoints\\model_cnn_fullname.hdf5\n",
      "Epoch 15/20\n",
      "11032/11032 [==============================] - 57s 5ms/step - loss: 1.0049 - acc: 0.6894 - val_loss: 1.1904 - val_acc: 0.6531\n",
      "\n",
      "Epoch 00015: val_loss improved from 1.19819 to 1.19043, saving model to checkpoints\\model_cnn_fullname.hdf5\n",
      "Epoch 16/20\n",
      "11032/11032 [==============================] - 64s 6ms/step - loss: 0.9967 - acc: 0.6887 - val_loss: 1.1904 - val_acc: 0.6536\n",
      "\n",
      "Epoch 00016: val_loss improved from 1.19043 to 1.19040, saving model to checkpoints\\model_cnn_fullname.hdf5\n",
      "Epoch 17/20\n",
      "11032/11032 [==============================] - 58s 5ms/step - loss: 0.9895 - acc: 0.6922 - val_loss: 1.1877 - val_acc: 0.6563\n",
      "\n",
      "Epoch 00017: val_loss improved from 1.19040 to 1.18767, saving model to checkpoints\\model_cnn_fullname.hdf5\n",
      "Epoch 18/20\n",
      "11032/11032 [==============================] - 50s 5ms/step - loss: 0.9820 - acc: 0.6950 - val_loss: 1.1848 - val_acc: 0.6577\n",
      "\n",
      "Epoch 00018: val_loss improved from 1.18767 to 1.18482, saving model to checkpoints\\model_cnn_fullname.hdf5\n",
      "Epoch 19/20\n",
      "11032/11032 [==============================] - 52s 5ms/step - loss: 0.9747 - acc: 0.6973 - val_loss: 1.1826 - val_acc: 0.6577\n",
      "\n",
      "Epoch 00019: val_loss improved from 1.18482 to 1.18260, saving model to checkpoints\\model_cnn_fullname.hdf5\n",
      "Epoch 20/20\n",
      "11032/11032 [==============================] - 50s 5ms/step - loss: 0.9681 - acc: 0.6992 - val_loss: 1.1824 - val_acc: 0.6580\n",
      "\n",
      "Epoch 00020: val_loss improved from 1.18260 to 1.18239, saving model to checkpoints\\model_cnn_fullname.hdf5\n"
     ]
    },
    {
     "data": {
      "text/plain": [
       "<keras.callbacks.History at 0x259c0704160>"
      ]
     },
     "execution_count": 88,
     "metadata": {},
     "output_type": "execute_result"
    }
   ],
   "source": [
    "check_point = ModelCheckpoint('checkpoints\\\\model_cnn_fullname.hdf5', verbose=True, save_best_only=True)\n",
    "early_stop = EarlyStopping(monitor='val_loss', patience=4, verbose=True, restore_best_weights=True)\n",
    "model.fit_generator(cnn_generator2(X_train,y_train), validation_data=cnn_generator2(X_dev,y_dev), steps_per_epoch=len(X_train), validation_steps=len(X_dev), epochs=n_epochs, verbose=1, callbacks=[early_stop,check_point])"
   ]
  },
  {
   "cell_type": "code",
   "execution_count": 89,
   "metadata": {
    "scrolled": true
   },
   "outputs": [
    {
     "name": "stdout",
     "output_type": "stream",
     "text": [
      "Epoch 1/20\n",
      "11032/11032 [==============================] - 67s 6ms/step - loss: 0.9625 - acc: 0.7001 - val_loss: 1.1837 - val_acc: 0.6547\n",
      "\n",
      "Epoch 00001: val_loss improved from inf to 1.18367, saving model to checkpoints\\model_cnn_fullname.hdf5\n",
      "Epoch 2/20\n",
      "11032/11032 [==============================] - 63s 6ms/step - loss: 0.9573 - acc: 0.7019 - val_loss: 1.1832 - val_acc: 0.6574\n",
      "\n",
      "Epoch 00002: val_loss improved from 1.18367 to 1.18323, saving model to checkpoints\\model_cnn_fullname.hdf5\n",
      "Epoch 3/20\n",
      "11032/11032 [==============================] - 65s 6ms/step - loss: 0.9524 - acc: 0.7042 - val_loss: 1.1831 - val_acc: 0.6580\n",
      "\n",
      "Epoch 00003: val_loss improved from 1.18323 to 1.18306, saving model to checkpoints\\model_cnn_fullname.hdf5\n",
      "Epoch 4/20\n",
      "11032/11032 [==============================] - 67s 6ms/step - loss: 0.9486 - acc: 0.7046 - val_loss: 1.1828 - val_acc: 0.6555\n",
      "\n",
      "Epoch 00004: val_loss improved from 1.18306 to 1.18282, saving model to checkpoints\\model_cnn_fullname.hdf5\n",
      "Epoch 5/20\n",
      "11032/11032 [==============================] - 65s 6ms/step - loss: 0.9452 - acc: 0.7052 - val_loss: 1.1804 - val_acc: 0.6580\n",
      "\n",
      "Epoch 00005: val_loss improved from 1.18282 to 1.18045, saving model to checkpoints\\model_cnn_fullname.hdf5\n",
      "Epoch 6/20\n",
      "11032/11032 [==============================] - 65s 6ms/step - loss: 0.9415 - acc: 0.7058 - val_loss: 1.1834 - val_acc: 0.6574\n",
      "\n",
      "Epoch 00006: val_loss did not improve from 1.18045\n",
      "Epoch 7/20\n",
      "11032/11032 [==============================] - 66s 6ms/step - loss: 0.9380 - acc: 0.7082 - val_loss: 1.1923 - val_acc: 0.6566\n",
      "\n",
      "Epoch 00007: val_loss did not improve from 1.18045\n",
      "Epoch 8/20\n",
      "11032/11032 [==============================] - 65s 6ms/step - loss: 0.9348 - acc: 0.7091 - val_loss: 1.1945 - val_acc: 0.6547\n",
      "\n",
      "Epoch 00008: val_loss did not improve from 1.18045\n",
      "Epoch 9/20\n",
      "11032/11032 [==============================] - 64s 6ms/step - loss: 0.9310 - acc: 0.7102 - val_loss: 1.1964 - val_acc: 0.6582\n",
      "Restoring model weights from the end of the best epoch\n",
      "\n",
      "Epoch 00009: val_loss did not improve from 1.18045\n",
      "Epoch 00009: early stopping\n"
     ]
    },
    {
     "data": {
      "text/plain": [
       "<keras.callbacks.History at 0x259b3cc3550>"
      ]
     },
     "execution_count": 89,
     "metadata": {},
     "output_type": "execute_result"
    }
   ],
   "source": [
    "check_point = ModelCheckpoint('checkpoints\\\\model_cnn_fullname.hdf5', verbose=True, save_best_only=True)\n",
    "early_stop = EarlyStopping(monitor='val_loss', patience=4, verbose=True, restore_best_weights=True)\n",
    "model.fit_generator(cnn_generator2(X_train,y_train), validation_data=cnn_generator2(X_dev,y_dev), steps_per_epoch=len(X_train), validation_steps=len(X_dev), epochs=n_epochs, verbose=1, callbacks=[early_stop,check_point])"
   ]
  },
  {
   "cell_type": "code",
   "execution_count": 118,
   "metadata": {},
   "outputs": [],
   "source": [
    "model.load_weights(\"checkpoints\\\\model_cnn_fullname.hdf5\")"
   ]
  },
  {
   "cell_type": "code",
   "execution_count": 124,
   "metadata": {},
   "outputs": [
    {
     "name": "stdout",
     "output_type": "stream",
     "text": [
      "Train..\n",
      "f1_all = [0.73170732 0.7862157  0.41975309 0.         0.76328872 0.6\n",
      " 0.70252324 0.63959391 1.         0.71428571 0.66666667 0.6389414\n",
      " 0.71032746 0.63166954 1.         0.61538462 0.76356192 1.\n",
      " 1.         0.81926242 0.5620915  0.61884368 0.68497711 1.\n",
      " 0.67080745]\n",
      "f1_micro = 0.7230783176214648\n",
      "f1_macro = 0.7095960581032001\n",
      "f1_weighted = 0.7222755482005473\n",
      "accuracy = 0.7230783176214648\n"
     ]
    },
    {
     "name": "stderr",
     "output_type": "stream",
     "text": [
      "C:\\Users\\anush\\Anaconda3\\lib\\site-packages\\sklearn\\metrics\\classification.py:1135: UndefinedMetricWarning: F-score is ill-defined and being set to 0.0 in labels with no predicted samples.\n",
      "  'precision', 'predicted', average, warn_for)\n"
     ]
    }
   ],
   "source": [
    "yhat_train = cnn_predict(X_train, model, x_processor=lambda x:{'fn': cnn_name_processor(x[0]), 'sn':cnn_name_processor(x[1])})\n",
    "print('Train..')\n",
    "for metric, metric_fn in metrics_dict.items():\n",
    "    print(metric,\"=\", metric_fn(y_train, yhat_train))"
   ]
  },
  {
   "cell_type": "code",
   "execution_count": 125,
   "metadata": {},
   "outputs": [
    {
     "name": "stdout",
     "output_type": "stream",
     "text": [
      "Dev..\n",
      "f1_all = [0.16666667 0.75347222 0.25352113 0.         0.68965517 0.\n",
      " 0.66278317 0.53631285 0.         0.46153846 0.66666667 0.59119497\n",
      " 0.65254237 0.55525606 0.         0.5        0.73142857 0.\n",
      " 0.         0.76363636 0.44067797 0.51590106 0.56225931 0.\n",
      " 0.65198238]\n",
      "f1_micro = 0.6579662860250136\n",
      "f1_macro = 0.48359501857008497\n",
      "f1_weighted = 0.6555693772422725\n",
      "accuracy = 0.6579662860250136\n"
     ]
    },
    {
     "name": "stderr",
     "output_type": "stream",
     "text": [
      "C:\\Users\\anush\\Anaconda3\\lib\\site-packages\\sklearn\\metrics\\classification.py:1135: UndefinedMetricWarning: F-score is ill-defined and being set to 0.0 in labels with no predicted samples.\n",
      "  'precision', 'predicted', average, warn_for)\n",
      "C:\\Users\\anush\\Anaconda3\\lib\\site-packages\\sklearn\\metrics\\classification.py:1137: UndefinedMetricWarning: F-score is ill-defined and being set to 0.0 in labels with no true samples.\n",
      "  'recall', 'true', average, warn_for)\n"
     ]
    }
   ],
   "source": [
    "yhat_dev = cnn_predict(X_dev, model, x_processor=lambda x:{'fn': cnn_name_processor(x[0]), 'sn':cnn_name_processor(x[1])})\n",
    "print('Dev..')\n",
    "for metric, metric_fn in metrics_dict.items():\n",
    "    print(metric,\"=\", metric_fn(y_dev, yhat_dev))"
   ]
  },
  {
   "cell_type": "markdown",
   "metadata": {},
   "source": [
    "#### Exploring name representations (last GRU state)"
   ]
  },
  {
   "cell_type": "code",
   "execution_count": 128,
   "metadata": {},
   "outputs": [],
   "source": [
    "from sklearn.cluster import KMeans\n",
    "from sklearn.metrics import adjusted_rand_score"
   ]
  },
  {
   "cell_type": "code",
   "execution_count": 131,
   "metadata": {},
   "outputs": [],
   "source": [
    "layer_output = Model(inputs=model.input, outputs=model.layers[-2].output)\n",
    "name_vecs = cnn_predict(df[['Name','Surname']][fullnames_mask].values, layer_output, argmax=False, x_processor=lambda x:{'fn': cnn_name_processor(x[0]), 'sn':cnn_name_processor(x[1])})"
   ]
  },
  {
   "cell_type": "code",
   "execution_count": 133,
   "metadata": {
    "scrolled": true
   },
   "outputs": [],
   "source": [
    "name_vecs = np.squeeze(name_vecs)"
   ]
  },
  {
   "cell_type": "code",
   "execution_count": 134,
   "metadata": {},
   "outputs": [],
   "source": [
    "km = KMeans(n_clusters=n_classes, random_state=RANDOM_STATE).fit(name_vecs)"
   ]
  },
  {
   "cell_type": "code",
   "execution_count": 136,
   "metadata": {},
   "outputs": [],
   "source": [
    "name_vecs_clusters = km.labels_"
   ]
  },
  {
   "cell_type": "code",
   "execution_count": 138,
   "metadata": {
    "scrolled": true
   },
   "outputs": [
    {
     "data": {
      "text/plain": [
       "0.06774717855884567"
      ]
     },
     "execution_count": 138,
     "metadata": {},
     "output_type": "execute_result"
    }
   ],
   "source": [
    "#how well do name vector clusters correspond with community\n",
    "adjusted_rand_score(name_vecs_clusters, labels[fullnames_mask])"
   ]
  },
  {
   "cell_type": "markdown",
   "metadata": {},
   "source": [
    "## Supervised Learning Conclusion\n",
    "\n",
    "Out of all the tried models, Logistic Regression seems to be the best option, taking both dev scores and speed of training and predicting into consideration.\n",
    "\n",
    "The neural network models may have better performance with more data."
   ]
  },
  {
   "cell_type": "markdown",
   "metadata": {},
   "source": [
    "# Unsupervised Learning"
   ]
  },
  {
   "cell_type": "markdown",
   "metadata": {},
   "source": [
    "## Autoencoders"
   ]
  },
  {
   "cell_type": "code",
   "execution_count": 40,
   "metadata": {},
   "outputs": [],
   "source": [
    "import keras.backend as K\n",
    "from keras.layers import Lambda, RepeatVector"
   ]
  },
  {
   "cell_type": "code",
   "execution_count": 23,
   "metadata": {},
   "outputs": [],
   "source": [
    "n_vocab = 26"
   ]
  },
  {
   "cell_type": "code",
   "execution_count": 24,
   "metadata": {},
   "outputs": [],
   "source": [
    "X_train, X_dev, y_train, y_dev = train_test_split(df[['Name','Surname']][fullnames_mask].values, labels[fullnames_mask], random_state = RANDOM_STATE)"
   ]
  },
  {
   "cell_type": "code",
   "execution_count": 32,
   "metadata": {},
   "outputs": [],
   "source": [
    "def autoencoder_generator(X, one_iter=False, x_processor=None, n_vocab=n_vocab):\n",
    "    if x_processor is None:\n",
    "        x_processor = lambda x: to_categorical(get_name_val(x).reshape(1,-1), num_classes=n_vocab)\n",
    "        \n",
    "    while True:\n",
    "        for x_i in X:\n",
    "            yield (x_processor(x_i), x_processor(x_i))\n",
    "    \n",
    "        if one_iter:\n",
    "            break"
   ]
  },
  {
   "cell_type": "code",
   "execution_count": 28,
   "metadata": {},
   "outputs": [],
   "source": [
    "def autoencoder_generator2(X, one_iter=False, x_processor=None):\n",
    "    while True:\n",
    "        for i in range(X.shape[-1]):\n",
    "            for x_i, y_i  in autoencoder_generator(X[:,i], one_iter=True, x_processor=x_processor):\n",
    "                yield (x_i, y_i)\n",
    "                \n",
    "        if one_iter:\n",
    "            break"
   ]
  },
  {
   "cell_type": "code",
   "execution_count": 91,
   "metadata": {},
   "outputs": [],
   "source": [
    "def repeat_vector(args):\n",
    "        layer_to_repeat = args[0]\n",
    "        sequence_layer = args[1]\n",
    "        return RepeatVector(K.shape(sequence_layer)[1])(layer_to_repeat)\n",
    "\n",
    "inp = Input(batch_shape=(1,None,n_vocab))\n",
    "x = Bidirectional(GRU(32, return_sequences=False))(inp)\n",
    "x = Dense(4)(x)\n",
    "x = Lambda(repeat_vector, output_shape=(None,4))([x, inp])\n",
    "x = GRU(64, return_sequences=True)(x)\n",
    "out = Dense(n_vocab, activation='softmax')(x)\n",
    "model = Model(inputs=inp, outputs=out)\n",
    "model.compile(loss='categorical_crossentropy', optimizer='adam', metrics=['accuracy'])"
   ]
  },
  {
   "cell_type": "code",
   "execution_count": 92,
   "metadata": {
    "collapsed": true
   },
   "outputs": [
    {
     "name": "stdout",
     "output_type": "stream",
     "text": [
      "__________________________________________________________________________________________________\n",
      "Layer (type)                    Output Shape         Param #     Connected to                     \n",
      "==================================================================================================\n",
      "input_26 (InputLayer)           (1, None, 26)        0                                            \n",
      "__________________________________________________________________________________________________\n",
      "bidirectional_26 (Bidirectional (1, 64)              11328       input_26[0][0]                   \n",
      "__________________________________________________________________________________________________\n",
      "dense_12 (Dense)                (1, 4)               260         bidirectional_26[0][0]           \n",
      "__________________________________________________________________________________________________\n",
      "lambda_22 (Lambda)              (1, None, 4)         0           dense_12[0][0]                   \n",
      "                                                                 input_26[0][0]                   \n",
      "__________________________________________________________________________________________________\n",
      "gru_34 (GRU)                    (1, None, 64)        13248       lambda_22[0][0]                  \n",
      "__________________________________________________________________________________________________\n",
      "dense_13 (Dense)                (1, None, 26)        1690        gru_34[0][0]                     \n",
      "==================================================================================================\n",
      "Total params: 26,526\n",
      "Trainable params: 26,526\n",
      "Non-trainable params: 0\n",
      "__________________________________________________________________________________________________\n"
     ]
    }
   ],
   "source": [
    "model.summary()"
   ]
  },
  {
   "cell_type": "code",
   "execution_count": 93,
   "metadata": {
    "collapsed": true
   },
   "outputs": [
    {
     "name": "stdout",
     "output_type": "stream",
     "text": [
      "Epoch 1/20\n",
      "22064/22064 [==============================] - 135s 6ms/step - loss: 1.6573 - acc: 0.4964 - val_loss: 1.5519 - val_acc: 0.5594\n",
      "\n",
      "Epoch 00001: val_loss improved from inf to 1.55193, saving model to checkpoints\\model_autoencoder3.hdf5\n",
      "Epoch 2/20\n",
      "22064/22064 [==============================] - 128s 6ms/step - loss: 1.2322 - acc: 0.6362 - val_loss: 1.3296 - val_acc: 0.6196\n",
      "\n",
      "Epoch 00002: val_loss improved from 1.55193 to 1.32963, saving model to checkpoints\\model_autoencoder3.hdf5\n",
      "Epoch 3/20\n",
      "22064/22064 [==============================] - 102s 5ms/step - loss: 1.0844 - acc: 0.6829 - val_loss: 1.2156 - val_acc: 0.6513\n",
      "\n",
      "Epoch 00003: val_loss improved from 1.32963 to 1.21561, saving model to checkpoints\\model_autoencoder3.hdf5\n",
      "Epoch 4/20\n",
      "22064/22064 [==============================] - 113s 5ms/step - loss: 1.0056 - acc: 0.7082 - val_loss: 1.1611 - val_acc: 0.6749\n",
      "\n",
      "Epoch 00004: val_loss improved from 1.21561 to 1.16112, saving model to checkpoints\\model_autoencoder3.hdf5\n",
      "Epoch 5/20\n",
      "22064/22064 [==============================] - 133s 6ms/step - loss: 0.9521 - acc: 0.7265 - val_loss: 1.1296 - val_acc: 0.6854\n",
      "\n",
      "Epoch 00005: val_loss improved from 1.16112 to 1.12962, saving model to checkpoints\\model_autoencoder3.hdf5\n",
      "Epoch 6/20\n",
      "22064/22064 [==============================] - 123s 6ms/step - loss: 0.9169 - acc: 0.7366 - val_loss: 1.0989 - val_acc: 0.6928\n",
      "\n",
      "Epoch 00006: val_loss improved from 1.12962 to 1.09889, saving model to checkpoints\\model_autoencoder3.hdf5\n",
      "Epoch 7/20\n",
      "22064/22064 [==============================] - 118s 5ms/step - loss: 0.8902 - acc: 0.7461 - val_loss: 1.0870 - val_acc: 0.7012\n",
      "\n",
      "Epoch 00007: val_loss improved from 1.09889 to 1.08696, saving model to checkpoints\\model_autoencoder3.hdf5\n",
      "Epoch 8/20\n",
      "22064/22064 [==============================] - 110s 5ms/step - loss: 0.8692 - acc: 0.7513 - val_loss: 1.0708 - val_acc: 0.7072\n",
      "\n",
      "Epoch 00008: val_loss improved from 1.08696 to 1.07077, saving model to checkpoints\\model_autoencoder3.hdf5\n",
      "Epoch 9/20\n",
      "22064/22064 [==============================] - 110s 5ms/step - loss: 0.8521 - acc: 0.7563 - val_loss: 1.0455 - val_acc: 0.7140\n",
      "\n",
      "Epoch 00009: val_loss improved from 1.07077 to 1.04546, saving model to checkpoints\\model_autoencoder3.hdf5\n",
      "Epoch 10/20\n",
      "22064/22064 [==============================] - 110s 5ms/step - loss: 0.8377 - acc: 0.7603 - val_loss: 1.0341 - val_acc: 0.7199\n",
      "\n",
      "Epoch 00010: val_loss improved from 1.04546 to 1.03410, saving model to checkpoints\\model_autoencoder3.hdf5\n",
      "Epoch 11/20\n",
      "22064/22064 [==============================] - 115s 5ms/step - loss: 0.8296 - acc: 0.7642 - val_loss: 1.0273 - val_acc: 0.7191\n",
      "\n",
      "Epoch 00011: val_loss improved from 1.03410 to 1.02728, saving model to checkpoints\\model_autoencoder3.hdf5\n",
      "Epoch 12/20\n",
      "22064/22064 [==============================] - 115s 5ms/step - loss: 0.8183 - acc: 0.7675 - val_loss: 0.9803 - val_acc: 0.7309\n",
      "\n",
      "Epoch 00012: val_loss improved from 1.02728 to 0.98029, saving model to checkpoints\\model_autoencoder3.hdf5\n",
      "Epoch 13/20\n",
      "22064/22064 [==============================] - 119s 5ms/step - loss: 0.8066 - acc: 0.7699 - val_loss: 1.0154 - val_acc: 0.7216\n",
      "\n",
      "Epoch 00013: val_loss did not improve from 0.98029\n",
      "Epoch 14/20\n",
      "22064/22064 [==============================] - 107s 5ms/step - loss: 0.8016 - acc: 0.7719 - val_loss: 1.0075 - val_acc: 0.7221\n",
      "\n",
      "Epoch 00014: val_loss did not improve from 0.98029\n",
      "Epoch 15/20\n",
      "22064/22064 [==============================] - 117s 5ms/step - loss: 0.7967 - acc: 0.7745 - val_loss: 1.0149 - val_acc: 0.7214\n",
      "\n",
      "Epoch 00015: val_loss did not improve from 0.98029\n",
      "Epoch 16/20\n",
      "22064/22064 [==============================] - 111s 5ms/step - loss: 0.7882 - acc: 0.7768 - val_loss: 1.0972 - val_acc: 0.7013\n",
      "Restoring model weights from the end of the best epoch\n",
      "\n",
      "Epoch 00016: val_loss did not improve from 0.98029\n",
      "Epoch 00016: early stopping\n"
     ]
    },
    {
     "data": {
      "text/plain": [
       "<keras.callbacks.History at 0x222dbe20a90>"
      ]
     },
     "execution_count": 93,
     "metadata": {},
     "output_type": "execute_result"
    }
   ],
   "source": [
    "check_point = ModelCheckpoint('checkpoints\\\\model_autoencoder1.hdf5', verbose=True, save_best_only=True)\n",
    "early_stop = EarlyStopping(monitor='val_loss', patience=4, verbose=True, restore_best_weights=True)\n",
    "model.fit_generator(autoencoder_generator2(X_train), validation_data=autoencoder_generator2(X_dev), steps_per_epoch=len(X_train)*2, validation_steps=len(X_dev)*2, epochs=n_epochs, verbose=1, callbacks=[early_stop,check_point])"
   ]
  },
  {
   "cell_type": "code",
   "execution_count": 143,
   "metadata": {},
   "outputs": [],
   "source": [
    "def repeat_vector(args):\n",
    "        layer_to_repeat = args[0]\n",
    "        sequence_layer = args[1]\n",
    "        return RepeatVector(K.shape(sequence_layer)[1])(layer_to_repeat)\n",
    "\n",
    "inp = Input(batch_shape=(1,None,n_vocab))\n",
    "x = Bidirectional(GRU(32, return_sequences=True))(inp)\n",
    "x = Bidirectional(GRU(32, return_sequences=False))(x)\n",
    "x = Dense(4)(x)\n",
    "x = Lambda(repeat_vector, output_shape=(None,4))([x, inp])\n",
    "x = GRU(64, return_sequences=True)(x)\n",
    "x = GRU(64, return_sequences=True)(x)\n",
    "out = Dense(n_vocab, activation='softmax')(x)\n",
    "model = Model(inputs=inp, outputs=out)\n",
    "model.compile(loss='categorical_crossentropy', optimizer='adam', metrics=['accuracy'])"
   ]
  },
  {
   "cell_type": "code",
   "execution_count": 97,
   "metadata": {
    "collapsed": true
   },
   "outputs": [
    {
     "name": "stdout",
     "output_type": "stream",
     "text": [
      "__________________________________________________________________________________________________\n",
      "Layer (type)                    Output Shape         Param #     Connected to                     \n",
      "==================================================================================================\n",
      "input_28 (InputLayer)           (1, None, 26)        0                                            \n",
      "__________________________________________________________________________________________________\n",
      "bidirectional_29 (Bidirectional (1, None, 64)        11328       input_28[0][0]                   \n",
      "__________________________________________________________________________________________________\n",
      "bidirectional_30 (Bidirectional (1, 64)              18624       bidirectional_29[0][0]           \n",
      "__________________________________________________________________________________________________\n",
      "dense_14 (Dense)                (1, 4)               260         bidirectional_30[0][0]           \n",
      "__________________________________________________________________________________________________\n",
      "lambda_23 (Lambda)              (1, None, 4)         0           dense_14[0][0]                   \n",
      "                                                                 input_28[0][0]                   \n",
      "__________________________________________________________________________________________________\n",
      "gru_39 (GRU)                    (1, None, 64)        13248       lambda_23[0][0]                  \n",
      "__________________________________________________________________________________________________\n",
      "gru_40 (GRU)                    (1, None, 64)        24768       gru_39[0][0]                     \n",
      "__________________________________________________________________________________________________\n",
      "dense_15 (Dense)                (1, None, 26)        1690        gru_40[0][0]                     \n",
      "==================================================================================================\n",
      "Total params: 69,918\n",
      "Trainable params: 69,918\n",
      "Non-trainable params: 0\n",
      "__________________________________________________________________________________________________\n"
     ]
    }
   ],
   "source": [
    "model.summary()"
   ]
  },
  {
   "cell_type": "code",
   "execution_count": 98,
   "metadata": {
    "collapsed": true
   },
   "outputs": [
    {
     "name": "stdout",
     "output_type": "stream",
     "text": [
      "Epoch 1/20\n",
      "22064/22064 [==============================] - 212s 10ms/step - loss: 1.5442 - acc: 0.5386 - val_loss: 1.4169 - val_acc: 0.6010\n",
      "\n",
      "Epoch 00001: val_loss improved from inf to 1.41691, saving model to checkpoints\\model_autoencoder4.hdf5\n",
      "Epoch 2/20\n",
      "22064/22064 [==============================] - 190s 9ms/step - loss: 1.1047 - acc: 0.6822 - val_loss: 1.1969 - val_acc: 0.6627\n",
      "\n",
      "Epoch 00002: val_loss improved from 1.41691 to 1.19685, saving model to checkpoints\\model_autoencoder4.hdf5\n",
      "Epoch 3/20\n",
      "22064/22064 [==============================] - 189s 9ms/step - loss: 0.9646 - acc: 0.7239 - val_loss: 1.1028 - val_acc: 0.6900\n",
      "\n",
      "Epoch 00003: val_loss improved from 1.19685 to 1.10280, saving model to checkpoints\\model_autoencoder4.hdf5\n",
      "Epoch 4/20\n",
      "22064/22064 [==============================] - 188s 9ms/step - loss: 0.8942 - acc: 0.7445 - val_loss: 1.0213 - val_acc: 0.7139\n",
      "\n",
      "Epoch 00004: val_loss improved from 1.10280 to 1.02128, saving model to checkpoints\\model_autoencoder4.hdf5\n",
      "Epoch 5/20\n",
      "22064/22064 [==============================] - 189s 9ms/step - loss: 0.8451 - acc: 0.7596 - val_loss: 1.0167 - val_acc: 0.7188\n",
      "\n",
      "Epoch 00005: val_loss improved from 1.02128 to 1.01673, saving model to checkpoints\\model_autoencoder4.hdf5\n",
      "Epoch 6/20\n",
      "22064/22064 [==============================] - 189s 9ms/step - loss: 0.8104 - acc: 0.7708 - val_loss: 0.9773 - val_acc: 0.7298\n",
      "\n",
      "Epoch 00006: val_loss improved from 1.01673 to 0.97730, saving model to checkpoints\\model_autoencoder4.hdf5\n",
      "Epoch 7/20\n",
      "22064/22064 [==============================] - 190s 9ms/step - loss: 0.7838 - acc: 0.7785 - val_loss: 0.9478 - val_acc: 0.7349\n",
      "\n",
      "Epoch 00007: val_loss improved from 0.97730 to 0.94777, saving model to checkpoints\\model_autoencoder4.hdf5\n",
      "Epoch 8/20\n",
      "22064/22064 [==============================] - 189s 9ms/step - loss: 0.7678 - acc: 0.7831 - val_loss: 0.9207 - val_acc: 0.7464\n",
      "\n",
      "Epoch 00008: val_loss improved from 0.94777 to 0.92068, saving model to checkpoints\\model_autoencoder4.hdf5\n",
      "Epoch 9/20\n",
      "22064/22064 [==============================] - 189s 9ms/step - loss: 0.7475 - acc: 0.7891 - val_loss: 0.9767 - val_acc: 0.7279\n",
      "\n",
      "Epoch 00009: val_loss did not improve from 0.92068\n",
      "Epoch 10/20\n",
      "22064/22064 [==============================] - 189s 9ms/step - loss: 0.7308 - acc: 0.7942 - val_loss: 0.9019 - val_acc: 0.7520\n",
      "\n",
      "Epoch 00010: val_loss improved from 0.92068 to 0.90193, saving model to checkpoints\\model_autoencoder4.hdf5\n",
      "Epoch 11/20\n",
      "22064/22064 [==============================] - 190s 9ms/step - loss: 0.7203 - acc: 0.7976 - val_loss: 0.9188 - val_acc: 0.7449\n",
      "\n",
      "Epoch 00011: val_loss did not improve from 0.90193\n",
      "Epoch 12/20\n",
      "22064/22064 [==============================] - 187s 8ms/step - loss: 0.7178 - acc: 0.7989 - val_loss: 0.8942 - val_acc: 0.7557\n",
      "\n",
      "Epoch 00012: val_loss improved from 0.90193 to 0.89417, saving model to checkpoints\\model_autoencoder4.hdf5\n",
      "Epoch 13/20\n",
      "22064/22064 [==============================] - 199s 9ms/step - loss: 0.7063 - acc: 0.8014 - val_loss: 0.8563 - val_acc: 0.7646\n",
      "\n",
      "Epoch 00013: val_loss improved from 0.89417 to 0.85625, saving model to checkpoints\\model_autoencoder4.hdf5\n",
      "Epoch 14/20\n",
      "22064/22064 [==============================] - 198s 9ms/step - loss: 0.7022 - acc: 0.8037 - val_loss: 0.8813 - val_acc: 0.7585\n",
      "\n",
      "Epoch 00014: val_loss did not improve from 0.85625\n",
      "Epoch 15/20\n",
      "22064/22064 [==============================] - 199s 9ms/step - loss: 0.6889 - acc: 0.8065 - val_loss: 0.8454 - val_acc: 0.7679\n",
      "\n",
      "Epoch 00015: val_loss improved from 0.85625 to 0.84540, saving model to checkpoints\\model_autoencoder4.hdf5\n",
      "Epoch 16/20\n",
      "22064/22064 [==============================] - 187s 8ms/step - loss: 0.6916 - acc: 0.8065 - val_loss: 0.8571 - val_acc: 0.7665\n",
      "\n",
      "Epoch 00016: val_loss did not improve from 0.84540\n",
      "Epoch 17/20\n",
      "22064/22064 [==============================] - 182s 8ms/step - loss: 0.6873 - acc: 0.8085 - val_loss: 0.8819 - val_acc: 0.7554\n",
      "\n",
      "Epoch 00017: val_loss did not improve from 0.84540\n",
      "Epoch 18/20\n",
      "22064/22064 [==============================] - 232s 11ms/step - loss: 0.6845 - acc: 0.8089 - val_loss: 0.8535 - val_acc: 0.7668\n",
      "\n",
      "Epoch 00018: val_loss did not improve from 0.84540\n",
      "Epoch 19/20\n",
      "22064/22064 [==============================] - 263s 12ms/step - loss: 0.6773 - acc: 0.8113 - val_loss: 0.8539 - val_acc: 0.7673\n",
      "Restoring model weights from the end of the best epoch\n",
      "\n",
      "Epoch 00019: val_loss did not improve from 0.84540\n",
      "Epoch 00019: early stopping\n"
     ]
    },
    {
     "data": {
      "text/plain": [
       "<keras.callbacks.History at 0x222f15a0d68>"
      ]
     },
     "execution_count": 98,
     "metadata": {},
     "output_type": "execute_result"
    }
   ],
   "source": [
    "check_point = ModelCheckpoint('checkpoints\\\\model_autoencoder2.hdf5', verbose=True, save_best_only=True)\n",
    "early_stop = EarlyStopping(monitor='val_loss', patience=4, verbose=True, restore_best_weights=True)\n",
    "model.fit_generator(autoencoder_generator2(X_train), validation_data=autoencoder_generator2(X_dev), steps_per_epoch=len(X_train)*2, validation_steps=len(X_dev)*2, epochs=n_epochs, verbose=1, callbacks=[early_stop,check_point])"
   ]
  },
  {
   "cell_type": "markdown",
   "metadata": {},
   "source": [
    "## Exploring embeddings"
   ]
  },
  {
   "cell_type": "code",
   "execution_count": 149,
   "metadata": {},
   "outputs": [],
   "source": [
    "x_processor = lambda x: to_categorical(get_name_val(x).reshape(1,-1), num_classes=n_vocab)"
   ]
  },
  {
   "cell_type": "code",
   "execution_count": 173,
   "metadata": {},
   "outputs": [],
   "source": [
    "encoder = Model(inputs=model.input, outputs=model.layers[3].output)\n",
    "autoencoded_fn_vecs = encoder.predict_generator(autoencoder_generator(df['Name'][fullnames_mask]), steps=sum(fullnames_mask))\n",
    "autoencoded_sn_vecs = encoder.predict_generator(autoencoder_generator(df['Surname'][fullnames_mask]), steps=sum(fullnames_mask))"
   ]
  },
  {
   "cell_type": "code",
   "execution_count": 176,
   "metadata": {},
   "outputs": [],
   "source": [
    "autoencoded_vecs = np.hstack([autoencoded_fn_vecs,autoencoded_sn_vecs])"
   ]
  },
  {
   "cell_type": "code",
   "execution_count": 177,
   "metadata": {},
   "outputs": [
    {
     "data": {
      "text/plain": [
       "(14710, 8)"
      ]
     },
     "execution_count": 177,
     "metadata": {},
     "output_type": "execute_result"
    }
   ],
   "source": [
    "autoencoded_vecs.shape"
   ]
  },
  {
   "cell_type": "code",
   "execution_count": 178,
   "metadata": {},
   "outputs": [],
   "source": [
    "km = KMeans(n_clusters=n_classes, random_state=RANDOM_STATE).fit(autoencoded_vecs)"
   ]
  },
  {
   "cell_type": "code",
   "execution_count": 179,
   "metadata": {},
   "outputs": [],
   "source": [
    "autoencoded_vecs_clusters = km.labels_"
   ]
  },
  {
   "cell_type": "code",
   "execution_count": 180,
   "metadata": {
    "scrolled": true
   },
   "outputs": [
    {
     "data": {
      "text/plain": [
       "0.019626143216108612"
      ]
     },
     "execution_count": 180,
     "metadata": {},
     "output_type": "execute_result"
    }
   ],
   "source": [
    "#how well do name vector clusters correspond with community\n",
    "adjusted_rand_score(autoencoded_vecs_clusters, labels[fullnames_mask])"
   ]
  },
  {
   "cell_type": "markdown",
   "metadata": {},
   "source": [
    "Autoencoder does not learn name representations that map to community very well"
   ]
  },
  {
   "cell_type": "markdown",
   "metadata": {},
   "source": [
    "# Things to try"
   ]
  },
  {
   "cell_type": "markdown",
   "metadata": {},
   "source": [
    "* Using clustering algorithms other than KMeans to analyse name vector representations\n",
    "* Using one shot neural network learning techniqus\n",
    "* Using a GAN-like architecture where one network generates names given a community and another classifies whether a name belongs to a particular community or not"
   ]
  },
  {
   "cell_type": "code",
   "execution_count": null,
   "metadata": {},
   "outputs": [],
   "source": []
  }
 ],
 "metadata": {
  "kernelspec": {
   "display_name": "Python 3",
   "language": "python",
   "name": "python3"
  },
  "language_info": {
   "codemirror_mode": {
    "name": "ipython",
    "version": 3
   },
   "file_extension": ".py",
   "mimetype": "text/x-python",
   "name": "python",
   "nbconvert_exporter": "python",
   "pygments_lexer": "ipython3",
   "version": "3.6.4"
  }
 },
 "nbformat": 4,
 "nbformat_minor": 2
}
